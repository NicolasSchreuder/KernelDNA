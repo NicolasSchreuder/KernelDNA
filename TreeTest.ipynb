{
 "cells": [
  {
   "cell_type": "code",
   "execution_count": 1,
   "metadata": {
    "collapsed": true
   },
   "outputs": [],
   "source": [
    "s = 'TAGG'"
   ]
  },
  {
   "cell_type": "markdown",
   "metadata": {},
   "source": [
    "# Build mismatch tree"
   ]
  },
  {
   "cell_type": "code",
   "execution_count": 2,
   "metadata": {
    "collapsed": true
   },
   "outputs": [],
   "source": [
    "def mismatchTree(s, k):\n",
    "    \"\"\"\n",
    "    Builds mismatch tree for a string s up to k mismatches\n",
    "    \"\"\"\n",
    "    if len(s)==1 and k==0:\n",
    "        return [s]\n",
    "    elif len(s)==1 and k>0:\n",
    "        return ['T', 'A', 'C', 'G']\n",
    "    elif len(s) > 1 and k==0:\n",
    "        return {s[0]:mismatchTree(s[1:], 0)}\n",
    "    \n",
    "    else:\n",
    "        d = {}\n",
    "        for nucleotide in ['T', 'A', 'C', 'G']:\n",
    "            if nucleotide == s[0]: # i.e. no mismatch at this node\n",
    "                d[nucleotide] = mismatchTree(s[1:], k)\n",
    "            else: # insert mismatch\n",
    "                d[nucleotide] = mismatchTree(s[1:], k-1)\n",
    "    return d"
   ]
  },
  {
   "cell_type": "code",
   "execution_count": 3,
   "metadata": {},
   "outputs": [],
   "source": [
    "mismatch_tree_example = mismatchTree(s, 1)"
   ]
  },
  {
   "cell_type": "code",
   "execution_count": 4,
   "metadata": {},
   "outputs": [],
   "source": [
    "import json"
   ]
  },
  {
   "cell_type": "code",
   "execution_count": 5,
   "metadata": {},
   "outputs": [
    {
     "name": "stdout",
     "output_type": "stream",
     "text": [
      "{\n",
      "    \"A\": {\n",
      "        \"A\": {\n",
      "            \"G\": [\n",
      "                \"G\"\n",
      "            ]\n",
      "        }\n",
      "    },\n",
      "    \"C\": {\n",
      "        \"A\": {\n",
      "            \"G\": [\n",
      "                \"G\"\n",
      "            ]\n",
      "        }\n",
      "    },\n",
      "    \"G\": {\n",
      "        \"A\": {\n",
      "            \"G\": [\n",
      "                \"G\"\n",
      "            ]\n",
      "        }\n",
      "    },\n",
      "    \"T\": {\n",
      "        \"A\": {\n",
      "            \"A\": [\n",
      "                \"G\"\n",
      "            ],\n",
      "            \"C\": [\n",
      "                \"G\"\n",
      "            ],\n",
      "            \"G\": [\n",
      "                \"T\",\n",
      "                \"A\",\n",
      "                \"C\",\n",
      "                \"G\"\n",
      "            ],\n",
      "            \"T\": [\n",
      "                \"G\"\n",
      "            ]\n",
      "        },\n",
      "        \"C\": {\n",
      "            \"G\": [\n",
      "                \"G\"\n",
      "            ]\n",
      "        },\n",
      "        \"G\": {\n",
      "            \"G\": [\n",
      "                \"G\"\n",
      "            ]\n",
      "        },\n",
      "        \"T\": {\n",
      "            \"G\": [\n",
      "                \"G\"\n",
      "            ]\n",
      "        }\n",
      "    }\n",
      "}\n"
     ]
    }
   ],
   "source": [
    "print(json.dumps(mismatch_tree_example, indent=4, sort_keys=True))"
   ]
  },
  {
   "cell_type": "code",
   "execution_count": 6,
   "metadata": {},
   "outputs": [
    {
     "data": {
      "text/plain": [
       "'TACG'"
      ]
     },
     "execution_count": 6,
     "metadata": {},
     "output_type": "execute_result"
    }
   ],
   "source": [
    "'TACG'"
   ]
  },
  {
   "cell_type": "code",
   "execution_count": 7,
   "metadata": {},
   "outputs": [],
   "source": [
    "def isInMismatchTree(mismatch_tree, s):\n",
    "    current_sub_tree = mismatch_tree.copy()\n",
    "    \n",
    "    for letter in s:\n",
    "    \n",
    "        if isinstance(current_sub_tree, list):\n",
    "            if letter in current_sub_tree:\n",
    "                return True\n",
    "            else:\n",
    "                return False\n",
    "        \n",
    "        else:\n",
    "            if letter in current_sub_tree.keys():\n",
    "                current_sub_tree = current_sub_tree[letter]\n",
    "            else:\n",
    "                return False"
   ]
  },
  {
   "cell_type": "code",
   "execution_count": 8,
   "metadata": {},
   "outputs": [
    {
     "data": {
      "text/plain": [
       "True"
      ]
     },
     "execution_count": 8,
     "metadata": {},
     "output_type": "execute_result"
    }
   ],
   "source": [
    "isInMismatchTree(mismatchTree('TACG', 1), 'TACG')"
   ]
  },
  {
   "cell_type": "code",
   "execution_count": 9,
   "metadata": {},
   "outputs": [
    {
     "data": {
      "text/plain": [
       "False"
      ]
     },
     "execution_count": 9,
     "metadata": {},
     "output_type": "execute_result"
    }
   ],
   "source": [
    "isInMismatchTree(mismatchTree('TACC', 1), 'TAGG')"
   ]
  },
  {
   "cell_type": "markdown",
   "metadata": {},
   "source": [
    "# Import from py file"
   ]
  },
  {
   "cell_type": "code",
   "execution_count": 11,
   "metadata": {},
   "outputs": [],
   "source": [
    "def inMismatchTree(mismatch_tree, keys):\n",
    "    return [key for key in keys if isInMismatchTree(mismatch_tree, key)]"
   ]
  },
  {
   "cell_type": "code",
   "execution_count": 15,
   "metadata": {},
   "outputs": [
    {
     "data": {
      "text/plain": [
       "['TACG', 'TGCC']"
      ]
     },
     "execution_count": 15,
     "metadata": {},
     "output_type": "execute_result"
    }
   ],
   "source": [
    "inMismatchTree(mismatchTree('TACC', 1), ['TAGG', 'TGGG', 'TACG', 'TGCC'])"
   ]
  },
  {
   "cell_type": "code",
   "execution_count": 259,
   "metadata": {},
   "outputs": [
    {
     "data": {
      "text/plain": [
       "{'A': {'A': {'C': 'C'}},\n",
       " 'C': {'A': {'C': 'C'}},\n",
       " 'G': {'A': {'C': 'C'}},\n",
       " 'T': {'A': {'A': 'C', 'C': 'C', 'G': 'C', 'T': 'C'},\n",
       "  'C': {'C': 'C'},\n",
       "  'G': {'C': 'C'},\n",
       "  'T': {'C': 'C'}}}"
      ]
     },
     "execution_count": 259,
     "metadata": {},
     "output_type": "execute_result"
    }
   ],
   "source": [
    "mismatchTree('TACC', 1)"
   ]
  },
  {
   "cell_type": "code",
   "execution_count": null,
   "metadata": {
    "collapsed": true
   },
   "outputs": [],
   "source": []
  }
 ],
 "metadata": {
  "kernelspec": {
   "display_name": "Python 3",
   "language": "python",
   "name": "python3"
  },
  "language_info": {
   "codemirror_mode": {
    "name": "ipython",
    "version": 3
   },
   "file_extension": ".py",
   "mimetype": "text/x-python",
   "name": "python",
   "nbconvert_exporter": "python",
   "pygments_lexer": "ipython3",
   "version": "3.5.3"
  }
 },
 "nbformat": 4,
 "nbformat_minor": 2
}
