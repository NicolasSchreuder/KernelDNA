{
 "cells": [
  {
   "cell_type": "markdown",
   "metadata": {
    "collapsed": true
   },
   "source": [
    "# Raw DNA strings"
   ]
  },
  {
   "cell_type": "markdown",
   "metadata": {},
   "source": [
    "In this notebook we train SVM on string data (DNA strings)."
   ]
  },
  {
   "cell_type": "code",
   "execution_count": 1,
   "metadata": {},
   "outputs": [],
   "source": [
    "from kernel import spectrum_kernel\n",
    "\n",
    "from KernelSVM import KernelSVM\n",
    "\n",
    "import numpy as np\n",
    "\n",
    "from processing import train_test_split, load_y\n",
    "\n",
    "import pandas as pd"
   ]
  },
  {
   "cell_type": "markdown",
   "metadata": {},
   "source": [
    "# Load and pre-process data"
   ]
  },
  {
   "cell_type": "code",
   "execution_count": 2,
   "metadata": {
    "scrolled": true
   },
   "outputs": [
    {
     "name": "stdout",
     "output_type": "stream",
     "text": [
      "First DNA string : \n"
     ]
    },
    {
     "data": {
      "text/plain": [
       "'TCCTCAACTTTTATTGGGCCGCTGTGGCACCAGAATCTACGAATGGCGCCCTCTAGAGTTGTGTAAAGAAGTGGCGTCACCTCATTATAAATAAAAGGTTG'"
      ]
     },
     "execution_count": 2,
     "metadata": {},
     "output_type": "execute_result"
    }
   ],
   "source": [
    "data = []\n",
    "\n",
    "dataset_index = '0'\n",
    "\n",
    "# load DNA strings \n",
    "f = open('data/train/Xtr{}.csv'.format(dataset_index), 'r')\n",
    "data += [line.strip('\\n') for line in f.readlines()]\n",
    "f.close()\n",
    "\n",
    "# load target vector \n",
    "y = (load_y(\"data/train/Ytr{}.csv\".format(dataset_index)))\n",
    "y = 2*y - 1 # transform y to lie in {-1, 1} instead of {0, 1}\n",
    "y = np.reshape(y.astype(float), -1) # \n",
    "\n",
    "print('First DNA string : ')\n",
    "data[0]"
   ]
  },
  {
   "cell_type": "code",
   "execution_count": 3,
   "metadata": {
    "collapsed": true
   },
   "outputs": [],
   "source": [
    "# train-test split \n",
    "X_train, y_train, X_test, y_test = data[:1500], y[:1500], data[1500:], y[1500:]"
   ]
  },
  {
   "cell_type": "markdown",
   "metadata": {},
   "source": [
    "# Train"
   ]
  },
  {
   "cell_type": "code",
   "execution_count": 4,
   "metadata": {
    "collapsed": true
   },
   "outputs": [],
   "source": [
    "kernel_parameters = {'k':3}"
   ]
  },
  {
   "cell_type": "code",
   "execution_count": 5,
   "metadata": {},
   "outputs": [],
   "source": [
    "svm = KernelSVM(lambda_reg = 0.5, kernel = spectrum_kernel, \n",
    "                kernel_parameters = kernel_parameters, data_type='string')"
   ]
  },
  {
   "cell_type": "code",
   "execution_count": 6,
   "metadata": {},
   "outputs": [
    {
     "name": "stderr",
     "output_type": "stream",
     "text": [
      "Building kernel matrix: 100%|██████████| 1500/1500 [00:43<00:00, 34.16it/s]\n"
     ]
    },
    {
     "name": "stdout",
     "output_type": "stream",
     "text": [
      "     pcost       dcost       gap    pres   dres\n",
      " 0: -2.3700e+03 -4.7555e+00  3e+04  2e+02  4e-12\n",
      " 1: -4.2780e+01 -4.6287e+00  5e+02  3e+00  4e-12\n",
      " 2: -2.2745e+00 -4.1627e+00  1e+01  7e-02  1e-13\n",
      " 3: -1.3937e+00 -3.1420e+00  2e+00  2e-03  6e-15\n",
      " 4: -1.5282e+00 -1.9041e+00  4e-01  3e-04  3e-15\n",
      " 5: -1.6028e+00 -1.7611e+00  2e-01  9e-05  3e-15\n",
      " 6: -1.6490e+00 -1.6818e+00  3e-02  1e-05  4e-15\n",
      " 7: -1.6584e+00 -1.6679e+00  1e-02  4e-06  3e-15\n",
      " 8: -1.6616e+00 -1.6633e+00  2e-03  1e-07  4e-15\n",
      " 9: -1.6623e+00 -1.6626e+00  2e-04  2e-08  4e-15\n",
      "10: -1.6624e+00 -1.6624e+00  2e-05  1e-09  4e-15\n",
      "11: -1.6624e+00 -1.6624e+00  4e-07  3e-11  4e-15\n",
      "Optimal solution found.\n"
     ]
    }
   ],
   "source": [
    "# train svm\n",
    "svm.fit(X_train, y_train)"
   ]
  },
  {
   "cell_type": "code",
   "execution_count": 7,
   "metadata": {},
   "outputs": [
    {
     "name": "stderr",
     "output_type": "stream",
     "text": [
      "Predicting values: 100%|██████████| 500/500 [01:06<00:00,  7.50it/s]\n"
     ]
    }
   ],
   "source": [
    "y_pred = svm.pred(X_test)"
   ]
  },
  {
   "cell_type": "code",
   "execution_count": 11,
   "metadata": {
    "scrolled": true
   },
   "outputs": [
    {
     "name": "stdout",
     "output_type": "stream",
     "text": [
      "Score : \n"
     ]
    },
    {
     "data": {
      "text/plain": [
       "0.65"
      ]
     },
     "execution_count": 11,
     "metadata": {},
     "output_type": "execute_result"
    }
   ],
   "source": [
    "print('Score : ')\n",
    "sum(y_test == y_pred)/len(y_test)"
   ]
  },
  {
   "cell_type": "code",
   "execution_count": 9,
   "metadata": {},
   "outputs": [
    {
     "name": "stdout",
     "output_type": "stream",
     "text": [
      "0.001\n",
      "     pcost       dcost       gap    pres   dres\n",
      " 0: -2.7640e+03 -2.1270e+03  3e+04  1e+01  5e-12\n",
      " 1: -7.1825e+02 -1.9642e+03  3e+03  9e-01  7e-12\n",
      " 2: -5.7891e+02 -1.2190e+03  8e+02  1e-01  2e-12\n",
      " 3: -6.3156e+02 -7.4724e+02  1e+02  2e-02  1e-12\n",
      " 4: -6.6612e+02 -6.9914e+02  4e+01  4e-03  1e-12\n",
      " 5: -6.7582e+02 -6.8673e+02  1e+01  1e-03  1e-12\n",
      " 6: -6.7852e+02 -6.8323e+02  5e+00  4e-04  1e-12\n",
      " 7: -6.7982e+02 -6.8158e+02  2e+00  8e-05  1e-12\n",
      " 8: -6.8031e+02 -6.8099e+02  7e-01  2e-05  1e-12\n",
      " 9: -6.8057e+02 -6.8069e+02  1e-01  2e-06  2e-12\n",
      "10: -6.8062e+02 -6.8063e+02  1e-02  3e-07  2e-12\n",
      "11: -6.8063e+02 -6.8063e+02  1e-03  2e-08  2e-12"
     ]
    },
    {
     "name": "stderr",
     "output_type": "stream",
     "text": [
      "\r",
      "Predicting values:   0%|          | 0/500 [00:00<?, ?it/s]"
     ]
    },
    {
     "name": "stdout",
     "output_type": "stream",
     "text": [
      "\n",
      "12: -6.8063e+02 -6.8063e+02  1e-05  2e-10  2e-12\n",
      "Optimal solution found.\n"
     ]
    },
    {
     "name": "stderr",
     "output_type": "stream",
     "text": [
      "Predicting values: 100%|██████████| 500/500 [01:09<00:00,  7.22it/s]\n"
     ]
    },
    {
     "name": "stdout",
     "output_type": "stream",
     "text": [
      "Score : 0.626\n",
      "0.05357894736842105\n",
      "     pcost       dcost       gap    pres   dres\n",
      " 0: -2.3766e+03 -3.8728e+01  3e+04  2e+02  6e-12\n",
      " 1: -5.1525e+01 -3.8553e+01  5e+02  3e+00  4e-12\n",
      " 2: -1.3985e+01 -3.5189e+01  5e+01  2e-01  3e-13\n",
      " 3: -1.1428e+01 -2.1806e+01  1e+01  2e-02  3e-14\n",
      " 4: -1.2629e+01 -1.4345e+01  2e+00  3e-03  2e-14\n",
      " 5: -1.3207e+01 -1.3689e+01  5e-01  6e-04  3e-14\n",
      " 6: -1.3360e+01 -1.3511e+01  2e-01  2e-04  3e-14\n",
      " 7: -1.3408e+01 -1.3455e+01  5e-02  4e-05  3e-14\n",
      " 8: -1.3423e+01 -1.3438e+01  2e-02  1e-05  3e-14\n",
      " 9: -1.3428e+01 -1.3432e+01  3e-03  2e-06  3e-14\n",
      "10: -1.3430e+01 -1.3430e+01  3e-04  6e-08  3e-14\n"
     ]
    },
    {
     "name": "stderr",
     "output_type": "stream",
     "text": [
      "Predicting values:   0%|          | 1/500 [00:00<01:15,  6.63it/s]"
     ]
    },
    {
     "name": "stdout",
     "output_type": "stream",
     "text": [
      "11: -1.3430e+01 -1.3430e+01  1e-05  2e-09  3e-14\n",
      "Optimal solution found.\n"
     ]
    },
    {
     "name": "stderr",
     "output_type": "stream",
     "text": [
      "Predicting values: 100%|██████████| 500/500 [01:00<00:00,  8.30it/s]\n"
     ]
    },
    {
     "name": "stdout",
     "output_type": "stream",
     "text": [
      "Score : 0.646\n",
      "0.1061578947368421\n",
      "     pcost       dcost       gap    pres   dres\n",
      " 0: -2.3730e+03 -1.9876e+01  3e+04  2e+02  4e-12\n",
      " 1: -4.6149e+01 -1.9741e+01  5e+02  3e+00  4e-12\n",
      " 2: -7.4860e+00 -1.8547e+01  3e+01  1e-01  2e-13\n",
      " 3: -5.8583e+00 -1.1565e+01  6e+00  7e-03  2e-14\n",
      " 4: -6.5409e+00 -7.4992e+00  1e+00  1e-03  1e-14\n",
      " 5: -6.8543e+00 -7.1172e+00  3e-01  2e-04  1e-14\n",
      " 6: -6.9396e+00 -7.0179e+00  8e-02  5e-05  2e-14\n",
      " 7: -6.9652e+00 -6.9881e+00  2e-02  1e-05  2e-14\n",
      " 8: -6.9731e+00 -6.9790e+00  6e-03  3e-06  2e-14\n",
      " 9: -6.9755e+00 -6.9763e+00  9e-04  3e-07  2e-14\n",
      "10: -6.9759e+00 -6.9759e+00  4e-05  1e-08  2e-14\n"
     ]
    },
    {
     "name": "stderr",
     "output_type": "stream",
     "text": [
      "Predicting values:   0%|          | 1/500 [00:00<01:20,  6.19it/s]"
     ]
    },
    {
     "name": "stdout",
     "output_type": "stream",
     "text": [
      "11: -6.9759e+00 -6.9759e+00  7e-07  2e-10  2e-14\n",
      "Optimal solution found.\n"
     ]
    },
    {
     "name": "stderr",
     "output_type": "stream",
     "text": [
      "Predicting values: 100%|██████████| 500/500 [01:02<00:00,  8.02it/s]\n"
     ]
    },
    {
     "name": "stdout",
     "output_type": "stream",
     "text": [
      "Score : 0.65\n",
      "0.15873684210526315\n",
      "     pcost       dcost       gap    pres   dres\n",
      " 0: -2.3717e+03 -1.3517e+01  3e+04  2e+02  6e-12\n",
      " 1: -4.4732e+01 -1.3387e+01  5e+02  3e+00  4e-12\n",
      " 2: -5.1870e+00 -1.2625e+01  2e+01  9e-02  1e-13\n",
      " 3: -3.9704e+00 -7.8155e+00  4e+00  1e-03  1e-14\n",
      " 4: -4.4884e+00 -5.1287e+00  6e-01  2e-04  9e-15\n",
      " 5: -4.6765e+00 -4.8923e+00  2e-01  5e-05  9e-15\n",
      " 6: -4.7491e+00 -4.8020e+00  5e-02  1e-05  1e-14\n",
      " 7: -4.7650e+00 -4.7832e+00  2e-02  3e-06  1e-14\n",
      " 8: -4.7711e+00 -4.7761e+00  5e-03  6e-07  1e-14\n",
      " 9: -4.7730e+00 -4.7740e+00  1e-03  1e-07  1e-14\n",
      "10: -4.7734e+00 -4.7735e+00  1e-04  9e-09  1e-14\n",
      "11: -4.7734e+00 -4.7734e+00  9e-06  6e-10  1e-14\n"
     ]
    },
    {
     "name": "stderr",
     "output_type": "stream",
     "text": [
      "Predicting values:   0%|          | 1/500 [00:00<00:57,  8.71it/s]"
     ]
    },
    {
     "name": "stdout",
     "output_type": "stream",
     "text": [
      "12: -4.7734e+00 -4.7734e+00  2e-07  1e-11  1e-14\n",
      "Optimal solution found.\n"
     ]
    },
    {
     "name": "stderr",
     "output_type": "stream",
     "text": [
      "Predicting values: 100%|██████████| 500/500 [01:00<00:00,  8.23it/s]\n"
     ]
    },
    {
     "name": "stdout",
     "output_type": "stream",
     "text": [
      "Score : 0.65\n",
      "0.2113157894736842\n",
      "     pcost       dcost       gap    pres   dres\n",
      " 0: -2.3711e+03 -1.0322e+01  3e+04  2e+02  4e-12\n",
      " 1: -4.4020e+01 -1.0195e+01  5e+02  3e+00  4e-12\n",
      " 2: -4.0052e+00 -9.5819e+00  2e+01  7e-02  1e-13\n",
      " 3: -3.0729e+00 -6.0891e+00  3e+00  3e-03  9e-15\n",
      " 4: -3.4275e+00 -3.9477e+00  5e-01  4e-04  6e-15\n",
      " 5: -3.5932e+00 -3.7341e+00  1e-01  9e-05  8e-15\n",
      " 6: -3.6399e+00 -3.6779e+00  4e-02  2e-05  8e-15\n",
      " 7: -3.6498e+00 -3.6661e+00  2e-02  5e-06  8e-15\n",
      " 8: -3.6558e+00 -3.6590e+00  3e-03  7e-07  8e-15\n",
      " 9: -3.6572e+00 -3.6575e+00  3e-04  4e-08  9e-15\n",
      "10: -3.6573e+00 -3.6573e+00  8e-06  1e-09  9e-15\n"
     ]
    },
    {
     "name": "stderr",
     "output_type": "stream",
     "text": [
      "Predicting values:   0%|          | 1/500 [00:00<01:00,  8.22it/s]"
     ]
    },
    {
     "name": "stdout",
     "output_type": "stream",
     "text": [
      "11: -3.6573e+00 -3.6573e+00  1e-07  2e-11  9e-15\n",
      "Optimal solution found.\n"
     ]
    },
    {
     "name": "stderr",
     "output_type": "stream",
     "text": [
      "Predicting values:  19%|█▉        | 97/500 [00:14<01:01,  6.58it/s]"
     ]
    },
    {
     "ename": "KeyboardInterrupt",
     "evalue": "",
     "output_type": "error",
     "traceback": [
      "\u001b[0;31m---------------------------------------------------------------------------\u001b[0m",
      "\u001b[0;31mKeyboardInterrupt\u001b[0m                         Traceback (most recent call last)",
      "\u001b[0;32m<ipython-input-9-f5843520e7dc>\u001b[0m in \u001b[0;36m<module>\u001b[0;34m()\u001b[0m\n\u001b[1;32m      4\u001b[0m     \u001b[0msvm\u001b[0m\u001b[0;34m.\u001b[0m\u001b[0mlambda_reg\u001b[0m \u001b[0;34m=\u001b[0m \u001b[0mlambda_reg\u001b[0m\u001b[0;34m\u001b[0m\u001b[0m\n\u001b[1;32m      5\u001b[0m     \u001b[0msvm\u001b[0m\u001b[0;34m.\u001b[0m\u001b[0mfit\u001b[0m\u001b[0;34m(\u001b[0m\u001b[0mX_train\u001b[0m\u001b[0;34m,\u001b[0m \u001b[0my_train\u001b[0m\u001b[0;34m)\u001b[0m\u001b[0;34m\u001b[0m\u001b[0m\n\u001b[0;32m----> 6\u001b[0;31m     \u001b[0my_pred\u001b[0m \u001b[0;34m=\u001b[0m \u001b[0msvm\u001b[0m\u001b[0;34m.\u001b[0m\u001b[0mpred\u001b[0m\u001b[0;34m(\u001b[0m\u001b[0mX_test\u001b[0m\u001b[0;34m)\u001b[0m\u001b[0;34m\u001b[0m\u001b[0m\n\u001b[0m\u001b[1;32m      7\u001b[0m     \u001b[0mprint\u001b[0m\u001b[0;34m(\u001b[0m\u001b[0;34m'Score : {}'\u001b[0m\u001b[0;34m.\u001b[0m\u001b[0mformat\u001b[0m\u001b[0;34m(\u001b[0m\u001b[0msum\u001b[0m\u001b[0;34m(\u001b[0m\u001b[0my_test\u001b[0m \u001b[0;34m==\u001b[0m \u001b[0my_pred\u001b[0m\u001b[0;34m)\u001b[0m\u001b[0;34m/\u001b[0m\u001b[0;36m500\u001b[0m\u001b[0;34m)\u001b[0m\u001b[0;34m)\u001b[0m\u001b[0;34m\u001b[0m\u001b[0m\n",
      "\u001b[0;32m/Users/Schreuder/Google Drive/Cours/MVA/S2/Machine Learning with Kernel Methods/KernelDNA/KernelSVM.py\u001b[0m in \u001b[0;36mpred\u001b[0;34m(self, X_test)\u001b[0m\n\u001b[1;32m     73\u001b[0m                 \u001b[0;32mfor\u001b[0m \u001b[0mi\u001b[0m \u001b[0;32min\u001b[0m \u001b[0mtqdm\u001b[0m\u001b[0;34m(\u001b[0m\u001b[0mrange\u001b[0m\u001b[0;34m(\u001b[0m\u001b[0mn\u001b[0m\u001b[0;34m)\u001b[0m\u001b[0;34m,\u001b[0m \u001b[0mdesc\u001b[0m\u001b[0;34m=\u001b[0m\u001b[0;34m'Predicting values'\u001b[0m\u001b[0;34m)\u001b[0m\u001b[0;34m:\u001b[0m\u001b[0;34m\u001b[0m\u001b[0m\n\u001b[1;32m     74\u001b[0m                 \u001b[0;31m# self.phi_x corresponds to the previously computed representation of train data\u001b[0m\u001b[0;34m\u001b[0m\u001b[0;34m\u001b[0m\u001b[0m\n\u001b[0;32m---> 75\u001b[0;31m                     \u001b[0my_pred\u001b[0m\u001b[0;34m[\u001b[0m\u001b[0mi\u001b[0m\u001b[0;34m]\u001b[0m \u001b[0;34m=\u001b[0m \u001b[0mnp\u001b[0m\u001b[0;34m.\u001b[0m\u001b[0msign\u001b[0m\u001b[0;34m(\u001b[0m\u001b[0mnp\u001b[0m\u001b[0;34m.\u001b[0m\u001b[0mdot\u001b[0m\u001b[0;34m(\u001b[0m\u001b[0mself\u001b[0m\u001b[0;34m.\u001b[0m\u001b[0malpha\u001b[0m\u001b[0;34m.\u001b[0m\u001b[0mT\u001b[0m\u001b[0;34m,\u001b[0m \u001b[0mbuild_spectrum_kernel_vector\u001b[0m\u001b[0;34m(\u001b[0m\u001b[0mself\u001b[0m\u001b[0;34m.\u001b[0m\u001b[0mX_train\u001b[0m\u001b[0;34m,\u001b[0m \u001b[0mX_test\u001b[0m\u001b[0;34m[\u001b[0m\u001b[0mi\u001b[0m\u001b[0;34m]\u001b[0m\u001b[0;34m,\u001b[0m \u001b[0mself\u001b[0m\u001b[0;34m.\u001b[0m\u001b[0mkernel_parameters\u001b[0m\u001b[0;34m)\u001b[0m\u001b[0;34m)\u001b[0m\u001b[0;34m)\u001b[0m\u001b[0;34m\u001b[0m\u001b[0m\n\u001b[0m\u001b[1;32m     76\u001b[0m \u001b[0;34m\u001b[0m\u001b[0m\n\u001b[1;32m     77\u001b[0m             \u001b[0;32melse\u001b[0m\u001b[0;34m:\u001b[0m\u001b[0;34m\u001b[0m\u001b[0m\n",
      "\u001b[0;32m/Users/Schreuder/Google Drive/Cours/MVA/S2/Machine Learning with Kernel Methods/KernelDNA/kernel.py\u001b[0m in \u001b[0;36mbuild_spectrum_kernel_vector\u001b[0;34m(X_train, x, kernel_parameters)\u001b[0m\n\u001b[1;32m    153\u001b[0m     \u001b[0mphi_X\u001b[0m \u001b[0;34m=\u001b[0m \u001b[0;34m[\u001b[0m\u001b[0;34m]\u001b[0m\u001b[0;34m\u001b[0m\u001b[0m\n\u001b[1;32m    154\u001b[0m     \u001b[0;32mfor\u001b[0m \u001b[0mi\u001b[0m \u001b[0;32min\u001b[0m \u001b[0mrange\u001b[0m\u001b[0;34m(\u001b[0m\u001b[0mn\u001b[0m\u001b[0;34m)\u001b[0m\u001b[0;34m:\u001b[0m\u001b[0;34m\u001b[0m\u001b[0m\n\u001b[0;32m--> 155\u001b[0;31m         \u001b[0mphi_X\u001b[0m\u001b[0;34m.\u001b[0m\u001b[0mappend\u001b[0m\u001b[0;34m(\u001b[0m\u001b[0mCounter\u001b[0m\u001b[0;34m(\u001b[0m\u001b[0mget_spectrum\u001b[0m\u001b[0;34m(\u001b[0m\u001b[0mX_train\u001b[0m\u001b[0;34m[\u001b[0m\u001b[0mi\u001b[0m\u001b[0;34m]\u001b[0m\u001b[0;34m,\u001b[0m \u001b[0mk\u001b[0m\u001b[0;34m)\u001b[0m\u001b[0;34m)\u001b[0m\u001b[0;34m)\u001b[0m\u001b[0;34m\u001b[0m\u001b[0m\n\u001b[0m\u001b[1;32m    156\u001b[0m     \u001b[0mK_x\u001b[0m \u001b[0;34m=\u001b[0m \u001b[0mnp\u001b[0m\u001b[0;34m.\u001b[0m\u001b[0mzeros\u001b[0m\u001b[0;34m(\u001b[0m\u001b[0mn\u001b[0m\u001b[0;34m)\u001b[0m\u001b[0;34m\u001b[0m\u001b[0m\n\u001b[1;32m    157\u001b[0m     \u001b[0mk\u001b[0m \u001b[0;34m=\u001b[0m \u001b[0mkernel_parameters\u001b[0m\u001b[0;34m[\u001b[0m\u001b[0;34m'k'\u001b[0m\u001b[0;34m]\u001b[0m\u001b[0;34m\u001b[0m\u001b[0m\n",
      "\u001b[0;31mKeyboardInterrupt\u001b[0m: "
     ]
    }
   ],
   "source": [
    "# Find best regularization parameter\n",
    "for lambda_reg in np.linspace(0.001, 1, 20):\n",
    "    print(lambda_reg)\n",
    "    svm.lambda_reg = lambda_reg\n",
    "    svm.fit(X_train, y_train)\n",
    "    y_pred = svm.pred(X_test)\n",
    "    print('Score : {}'.format(sum(y_test == y_pred)/500))"
   ]
  },
  {
   "cell_type": "markdown",
   "metadata": {},
   "source": [
    "# Submission"
   ]
  },
  {
   "cell_type": "code",
   "execution_count": 8,
   "metadata": {},
   "outputs": [
    {
     "name": "stderr",
     "output_type": "stream",
     "text": [
      "Building kernel matrix:  79%|███████▉  | 4732/6000 [08:12<02:12,  9.60it/s]"
     ]
    },
    {
     "ename": "KeyboardInterrupt",
     "evalue": "",
     "output_type": "error",
     "traceback": [
      "\u001b[0;31m---------------------------------------------------------------------------\u001b[0m",
      "\u001b[0;31mKeyboardInterrupt\u001b[0m                         Traceback (most recent call last)",
      "\u001b[0;32m<ipython-input-8-b8440ede77d4>\u001b[0m in \u001b[0;36m<module>\u001b[0;34m()\u001b[0m\n\u001b[1;32m      5\u001b[0m                 kernel_parameters = kernel_parameters, data_type='string')\n\u001b[1;32m      6\u001b[0m \u001b[0;34m\u001b[0m\u001b[0m\n\u001b[0;32m----> 7\u001b[0;31m \u001b[0msvm\u001b[0m\u001b[0;34m.\u001b[0m\u001b[0mfit\u001b[0m\u001b[0;34m(\u001b[0m\u001b[0mdata\u001b[0m\u001b[0;34m,\u001b[0m \u001b[0my\u001b[0m\u001b[0;34m)\u001b[0m\u001b[0;34m\u001b[0m\u001b[0m\n\u001b[0m\u001b[1;32m      8\u001b[0m \u001b[0;34m\u001b[0m\u001b[0m\n\u001b[1;32m      9\u001b[0m \u001b[0;34m\u001b[0m\u001b[0m\n",
      "\u001b[0;32m/Users/Schreuder/Google Drive/Cours/MVA/S2/Machine Learning with Kernel Methods/KernelDNA/KernelSVM.py\u001b[0m in \u001b[0;36mfit\u001b[0;34m(self, X, y)\u001b[0m\n\u001b[1;32m     29\u001b[0m             \u001b[0;32melif\u001b[0m \u001b[0mself\u001b[0m\u001b[0;34m.\u001b[0m\u001b[0mdata_type\u001b[0m \u001b[0;34m==\u001b[0m \u001b[0;34m'string'\u001b[0m \u001b[0;34m:\u001b[0m\u001b[0;34m\u001b[0m\u001b[0m\n\u001b[1;32m     30\u001b[0m                 \u001b[0;32mif\u001b[0m \u001b[0mself\u001b[0m\u001b[0;34m.\u001b[0m\u001b[0mkernel\u001b[0m \u001b[0;34m==\u001b[0m \u001b[0mspectrum_kernel\u001b[0m\u001b[0;34m:\u001b[0m\u001b[0;34m\u001b[0m\u001b[0m\n\u001b[0;32m---> 31\u001b[0;31m                     \u001b[0mK\u001b[0m \u001b[0;34m=\u001b[0m \u001b[0mbuild_spectrum_kernel_matrix\u001b[0m\u001b[0;34m(\u001b[0m\u001b[0mX\u001b[0m\u001b[0;34m,\u001b[0m \u001b[0mself\u001b[0m\u001b[0;34m.\u001b[0m\u001b[0mkernel_parameters\u001b[0m\u001b[0;34m)\u001b[0m\u001b[0;34m\u001b[0m\u001b[0m\n\u001b[0m\u001b[1;32m     32\u001b[0m \u001b[0;34m\u001b[0m\u001b[0m\n\u001b[1;32m     33\u001b[0m             \u001b[0;32melse\u001b[0m\u001b[0;34m:\u001b[0m\u001b[0;34m\u001b[0m\u001b[0m\n",
      "\u001b[0;32m/Users/Schreuder/Google Drive/Cours/MVA/S2/Machine Learning with Kernel Methods/KernelDNA/kernel.py\u001b[0m in \u001b[0;36mbuild_spectrum_kernel_matrix\u001b[0;34m(X, kernel_parameters)\u001b[0m\n\u001b[1;32m    137\u001b[0m         \u001b[0;32mfor\u001b[0m \u001b[0mj\u001b[0m \u001b[0;32min\u001b[0m \u001b[0mrange\u001b[0m\u001b[0;34m(\u001b[0m\u001b[0mi\u001b[0m\u001b[0;34m+\u001b[0m\u001b[0;36m1\u001b[0m\u001b[0;34m)\u001b[0m\u001b[0;34m:\u001b[0m\u001b[0;34m\u001b[0m\u001b[0m\n\u001b[1;32m    138\u001b[0m             K[i, j] = sum([spectrum[i][key]*spectrum[j][key]\n\u001b[0;32m--> 139\u001b[0;31m                        for key in spectrum[i].keys() if key in spectrum[j].keys()])\n\u001b[0m\u001b[1;32m    140\u001b[0m             \u001b[0mK\u001b[0m\u001b[0;34m[\u001b[0m\u001b[0mj\u001b[0m\u001b[0;34m,\u001b[0m \u001b[0mi\u001b[0m\u001b[0;34m]\u001b[0m \u001b[0;34m=\u001b[0m \u001b[0mK\u001b[0m\u001b[0;34m[\u001b[0m\u001b[0mi\u001b[0m\u001b[0;34m,\u001b[0m \u001b[0mj\u001b[0m\u001b[0;34m]\u001b[0m\u001b[0;34m\u001b[0m\u001b[0m\n\u001b[1;32m    141\u001b[0m \u001b[0;34m\u001b[0m\u001b[0m\n",
      "\u001b[0;32m/Users/Schreuder/Google Drive/Cours/MVA/S2/Machine Learning with Kernel Methods/KernelDNA/kernel.py\u001b[0m in \u001b[0;36m<listcomp>\u001b[0;34m(.0)\u001b[0m\n\u001b[1;32m    137\u001b[0m         \u001b[0;32mfor\u001b[0m \u001b[0mj\u001b[0m \u001b[0;32min\u001b[0m \u001b[0mrange\u001b[0m\u001b[0;34m(\u001b[0m\u001b[0mi\u001b[0m\u001b[0;34m+\u001b[0m\u001b[0;36m1\u001b[0m\u001b[0;34m)\u001b[0m\u001b[0;34m:\u001b[0m\u001b[0;34m\u001b[0m\u001b[0m\n\u001b[1;32m    138\u001b[0m             K[i, j] = sum([spectrum[i][key]*spectrum[j][key]\n\u001b[0;32m--> 139\u001b[0;31m                        for key in spectrum[i].keys() if key in spectrum[j].keys()])\n\u001b[0m\u001b[1;32m    140\u001b[0m             \u001b[0mK\u001b[0m\u001b[0;34m[\u001b[0m\u001b[0mj\u001b[0m\u001b[0;34m,\u001b[0m \u001b[0mi\u001b[0m\u001b[0;34m]\u001b[0m \u001b[0;34m=\u001b[0m \u001b[0mK\u001b[0m\u001b[0;34m[\u001b[0m\u001b[0mi\u001b[0m\u001b[0;34m,\u001b[0m \u001b[0mj\u001b[0m\u001b[0;34m]\u001b[0m\u001b[0;34m\u001b[0m\u001b[0m\n\u001b[1;32m    141\u001b[0m \u001b[0;34m\u001b[0m\u001b[0m\n",
      "\u001b[0;31mKeyboardInterrupt\u001b[0m: "
     ]
    }
   ],
   "source": [
    "# train the 3 SVM\n",
    "\n",
    "for dataset_index in range(3):\n",
    "    f = open('data/train/Xtr{}.csv'.format(dataset_index), 'r')\n",
    "    data = [line.strip('\\n') for line in f.readlines()]\n",
    "    f.close()\n",
    "    \n",
    "    y = load_y(\"data/train/Ytr{}.csv\".format(dataset_index))\n",
    "    y = 2*y - 1\n",
    "    y = np.reshape(y.astype(float), -1)\n",
    "\n",
    "    svm = KernelSVM(lambda_reg = 0.5, kernel = spectrum_kernel, \n",
    "                    kernel_parameters = kernel_parameters, data_type='string')\n",
    "\n",
    "    svm.fit(data, y)\n",
    "\n",
    "    svm.save('SVM_{}'.format(dataset_index), 'Xtrain_{}'.format(dataset_index))"
   ]
  },
  {
   "cell_type": "code",
   "execution_count": null,
   "metadata": {},
   "outputs": [],
   "source": [
    "y_pred = np.zeros((3000,))\n",
    "\n",
    "for i in range(3):\n",
    "    SVM_classifier.load('SVM_{}.npy'.format(i), 'Xtrain_{}.npy'.format(i))\n",
    "    \n",
    "    f = open('data/test/Xte{}.csv'.format(i), 'r')\n",
    "    X = [line.strip('\\n') for line in f.readlines()]\n",
    "    f.close()\n",
    "\n",
    "    y_pred[1000*i:1000*(i+1)] = np.reshape(svm.pred(X), (1000,))"
   ]
  },
  {
   "cell_type": "code",
   "execution_count": null,
   "metadata": {
    "collapsed": true
   },
   "outputs": [],
   "source": [
    "y_pred = (y_pred+1)/2 # to have y in 0 and 1"
   ]
  },
  {
   "cell_type": "code",
   "execution_count": null,
   "metadata": {},
   "outputs": [],
   "source": [
    "df = pd.DataFrame(y_pred, columns=['Bound'])\n",
    "df.index.name = 'Id'\n",
    "df.Bound = df.Bound.astype(int)\n",
    "df.to_csv('test.csv')"
   ]
  },
  {
   "cell_type": "code",
   "execution_count": null,
   "metadata": {
    "collapsed": true
   },
   "outputs": [],
   "source": []
  }
 ],
 "metadata": {
  "kernelspec": {
   "display_name": "Python 3",
   "language": "python",
   "name": "python3"
  },
  "language_info": {
   "codemirror_mode": {
    "name": "ipython",
    "version": 3
   },
   "file_extension": ".py",
   "mimetype": "text/x-python",
   "name": "python",
   "nbconvert_exporter": "python",
   "pygments_lexer": "ipython3",
   "version": "3.5.3"
  }
 },
 "nbformat": 4,
 "nbformat_minor": 2
}
