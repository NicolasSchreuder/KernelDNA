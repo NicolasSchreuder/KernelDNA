{
 "cells": [
  {
   "cell_type": "code",
   "execution_count": 1,
   "metadata": {},
   "outputs": [],
   "source": [
    "from kernel import build_spectrum_kernel_matrix\n",
    "from mismatchtree import isInMismatchTree\n",
    "\n",
    "%load_ext line_profiler"
   ]
  },
  {
   "cell_type": "code",
   "execution_count": 2,
   "metadata": {},
   "outputs": [],
   "source": [
    "data = []\n",
    "\n",
    "dataset_index = '0'\n",
    "\n",
    "# load DNA strings \n",
    "f = open('data/train/Xtr{}.csv'.format(dataset_index), 'r')\n",
    "data += [line.strip('\\n') for line in f.readlines()]\n",
    "f.close()\n",
    "\n",
    "X = data[:100]"
   ]
  },
  {
   "cell_type": "code",
   "execution_count": 3,
   "metadata": {
    "collapsed": true
   },
   "outputs": [],
   "source": [
    "kernel_parameters = {'k':3, 'm':1}"
   ]
  },
  {
   "cell_type": "code",
   "execution_count": 4,
   "metadata": {},
   "outputs": [
    {
     "name": "stderr",
     "output_type": "stream",
     "text": [
      "Building kernel matrix: 100%|██████████| 100/100 [00:08<00:00, 12.11it/s]\n"
     ]
    }
   ],
   "source": [
    "%lprun -f build_spectrum_kernel_matrix -f isInMismatchTree build_spectrum_kernel_matrix(X, kernel_parameters)"
   ]
  },
  {
   "cell_type": "code",
   "execution_count": null,
   "metadata": {
    "collapsed": true
   },
   "outputs": [],
   "source": []
  }
 ],
 "metadata": {
  "kernelspec": {
   "display_name": "Python 3",
   "language": "python",
   "name": "python3"
  },
  "language_info": {
   "codemirror_mode": {
    "name": "ipython",
    "version": 3
   },
   "file_extension": ".py",
   "mimetype": "text/x-python",
   "name": "python",
   "nbconvert_exporter": "python",
   "pygments_lexer": "ipython3",
   "version": "3.5.3"
  }
 },
 "nbformat": 4,
 "nbformat_minor": 2
}
