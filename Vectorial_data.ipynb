{
 "cells": [
  {
   "cell_type": "markdown",
   "metadata": {},
   "source": [
    "# Vectorized DNA"
   ]
  },
  {
   "cell_type": "markdown",
   "metadata": {},
   "source": [
    "In this notebook we train SVM on vectorized DNA data."
   ]
  },
  {
   "cell_type": "code",
   "execution_count": 1,
   "metadata": {
    "collapsed": true
   },
   "outputs": [],
   "source": [
    "import numpy as np\n",
    "\n",
    "from SVM import SVM\n",
    "from KernelSVM import KernelSVM\n",
    "from processing import train_test_split, load_mat50, load_y"
   ]
  },
  {
   "cell_type": "markdown",
   "metadata": {},
   "source": [
    "# Load data"
   ]
  },
  {
   "cell_type": "code",
   "execution_count": 2,
   "metadata": {
    "collapsed": true
   },
   "outputs": [],
   "source": [
    "dataset_index = '0'\n",
    "# load training data\n",
    "X = load_mat50(\"data/train/Xtr{}_mat50.csv\".format(dataset_index))\n",
    "n,d = X.shape\n",
    "X = np.concatenate([X,np.ones((n,1))], axis=1)\n",
    "\n",
    "y = 2*load_y(\"data/train/Ytr{}.csv\".format(dataset_index)) -1 #y should belong to {-1,1}, not {0,1} !"
   ]
  },
  {
   "cell_type": "code",
   "execution_count": 3,
   "metadata": {
    "collapsed": true
   },
   "outputs": [],
   "source": [
    "X_train, X_test, y_train, y_test = train_test_split(X, y, test_size=0.1, random_state=42)"
   ]
  },
  {
   "cell_type": "markdown",
   "metadata": {},
   "source": [
    "# Train"
   ]
  },
  {
   "cell_type": "code",
   "execution_count": 7,
   "metadata": {
    "collapsed": true
   },
   "outputs": [],
   "source": [
    "classifier = SVM(0.01)"
   ]
  },
  {
   "cell_type": "code",
   "execution_count": 8,
   "metadata": {
    "collapsed": true
   },
   "outputs": [],
   "source": [
    "classifier.fit(X_train, y_train)"
   ]
  },
  {
   "cell_type": "code",
   "execution_count": 9,
   "metadata": {
    "collapsed": true
   },
   "outputs": [],
   "source": [
    "classifier.save('SVM_{}'.format(dataset_index))"
   ]
  },
  {
   "cell_type": "code",
   "execution_count": 12,
   "metadata": {},
   "outputs": [
    {
     "ename": "NameError",
     "evalue": "name 'KernelSVM' is not defined",
     "output_type": "error",
     "traceback": [
      "\u001b[0;31m---------------------------------------------------------------------------\u001b[0m",
      "\u001b[0;31mNameError\u001b[0m                                 Traceback (most recent call last)",
      "\u001b[0;32m<ipython-input-12-e900ad051c49>\u001b[0m in \u001b[0;36m<module>\u001b[0;34m()\u001b[0m\n\u001b[1;32m      8\u001b[0m     \u001b[0my\u001b[0m \u001b[0;34m=\u001b[0m \u001b[0mnp\u001b[0m\u001b[0;34m.\u001b[0m\u001b[0mreshape\u001b[0m\u001b[0;34m(\u001b[0m\u001b[0my\u001b[0m\u001b[0;34m.\u001b[0m\u001b[0mastype\u001b[0m\u001b[0;34m(\u001b[0m\u001b[0mfloat\u001b[0m\u001b[0;34m)\u001b[0m\u001b[0;34m,\u001b[0m \u001b[0;34m-\u001b[0m\u001b[0;36m1\u001b[0m\u001b[0;34m)\u001b[0m\u001b[0;34m\u001b[0m\u001b[0m\n\u001b[1;32m      9\u001b[0m \u001b[0;34m\u001b[0m\u001b[0m\n\u001b[0;32m---> 10\u001b[0;31m     \u001b[0msvm\u001b[0m \u001b[0;34m=\u001b[0m \u001b[0mKernelSVM\u001b[0m\u001b[0;34m(\u001b[0m\u001b[0mlambda_reg\u001b[0m \u001b[0;34m=\u001b[0m \u001b[0;36m0.1\u001b[0m\u001b[0;34m,\u001b[0m \u001b[0mkernel\u001b[0m \u001b[0;34m=\u001b[0m \u001b[0mspectrum_kernel\u001b[0m\u001b[0;34m,\u001b[0m \u001b[0mdata_type\u001b[0m\u001b[0;34m=\u001b[0m\u001b[0;34m'DNA'\u001b[0m\u001b[0;34m)\u001b[0m\u001b[0;34m\u001b[0m\u001b[0m\n\u001b[0m\u001b[1;32m     11\u001b[0m \u001b[0;34m\u001b[0m\u001b[0m\n\u001b[1;32m     12\u001b[0m     \u001b[0msvm\u001b[0m\u001b[0;34m.\u001b[0m\u001b[0mfit\u001b[0m\u001b[0;34m(\u001b[0m\u001b[0mdata\u001b[0m\u001b[0;34m,\u001b[0m \u001b[0my\u001b[0m\u001b[0;34m)\u001b[0m\u001b[0;34m\u001b[0m\u001b[0m\n",
      "\u001b[0;31mNameError\u001b[0m: name 'KernelSVM' is not defined"
     ]
    }
   ],
   "source": [
    "# train the 3 SVM\n",
    "for dataset_index in range(3):\n",
    "    f = open('data/train/Xtr{}.csv'.format(dataset_index), 'r')\n",
    "    data = [line.strip('\\n') for line in f.readlines()]\n",
    "    f.close()\n",
    "\n",
    "    y = 2*load_y(\"data/train/Ytr{}.csv\".format(dataset_index)) -1 # y should belong to {-1,1}, not {0,1} !\n",
    "    y = np.reshape(y.astype(float), -1)\n",
    "\n",
    "    svm = KernelSVM(lambda_reg = 0.1, kernel = spectrum_kernel, data_type='DNA')\n",
    "\n",
    "    svm.fit(data, y)\n",
    "\n",
    "    svm.save('SVM_{}'.format(dataset_index), 'Xtrain_{}'.format(dataset_index))"
   ]
  },
  {
   "cell_type": "markdown",
   "metadata": {},
   "source": [
    "# Submission"
   ]
  },
  {
   "cell_type": "code",
   "execution_count": null,
   "metadata": {
    "collapsed": true
   },
   "outputs": [],
   "source": [
    "# load SVM\n",
    "SVM_classifier = SVM(0.01)\n",
    "y = np.zeros((3000,))\n",
    "for i in range(3):\n",
    "    SVM_classifier.load('SVM_{}.npy'.format(i))\n",
    "    w = SVM_classifier.get_weights()\n",
    "    print(len(w))\n",
    "    X = load_mat50(\"data/test/Xte{}_mat50.csv\".format(i))\n",
    "    n,d = X.shape\n",
    "    X = np.concatenate([X,np.ones((n,1))], axis=1)\n",
    "    print(max(np.dot(X,w)))\n",
    "    print(min(np.dot(X,w)))\n",
    "    #print(SVM_classifier.pred(X)[140:150])\n",
    "    y[1000*i:1000*(i+1)] = np.reshape(SVM_classifier.pred(X), (1000,))"
   ]
  },
  {
   "cell_type": "code",
   "execution_count": null,
   "metadata": {
    "collapsed": true
   },
   "outputs": [],
   "source": [
    "y = (y+1)/2 # to have y in 0 and 1"
   ]
  },
  {
   "cell_type": "code",
   "execution_count": null,
   "metadata": {
    "collapsed": true
   },
   "outputs": [],
   "source": [
    "df = pd.DataFrame(y, columns=['Bound'])\n",
    "df.index.name = 'Id'\n",
    "df.Bound = df.Bound.astype(int)\n",
    "df.to_csv('test.csv')"
   ]
  }
 ],
 "metadata": {
  "kernelspec": {
   "display_name": "Python 3",
   "language": "python",
   "name": "python3"
  },
  "language_info": {
   "codemirror_mode": {
    "name": "ipython",
    "version": 3
   },
   "file_extension": ".py",
   "mimetype": "text/x-python",
   "name": "python",
   "nbconvert_exporter": "python",
   "pygments_lexer": "ipython3",
   "version": "3.5.3"
  }
 },
 "nbformat": 4,
 "nbformat_minor": 2
}
