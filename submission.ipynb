{
 "cells": [
  {
   "cell_type": "code",
   "execution_count": 29,
   "metadata": {},
   "outputs": [],
   "source": [
    "from SVM import SVM\n",
    "from processing import load_mat50, load_y\n",
    "import numpy as np\n",
    "\n",
    "import pandas as pd"
   ]
  },
  {
   "cell_type": "code",
   "execution_count": 30,
   "metadata": {},
   "outputs": [
    {
     "name": "stdout",
     "output_type": "stream",
     "text": [
      "51\n",
      "[-0.85843155]\n",
      "[-1.02332483]\n",
      "51\n",
      "[1.07621044]\n",
      "[0.75863702]\n",
      "51\n",
      "[1.04927601]\n",
      "[0.94878278]\n"
     ]
    }
   ],
   "source": [
    "# load SVM\n",
    "SVM_classifier = SVM(0.01)\n",
    "y = np.zeros((3000,))\n",
    "for i in range(3):\n",
    "    SVM_classifier.load('SVM_{}.npy'.format(i))\n",
    "    w = SVM_classifier.get_weights()\n",
    "    print(len(w))\n",
    "    X = load_mat50(\"data/test/Xte{}_mat50.csv\".format(i))\n",
    "    n,d = X.shape\n",
    "    X = np.concatenate([X,np.ones((n,1))], axis=1)\n",
    "    print(max(np.dot(X,w)))\n",
    "    print(min(np.dot(X,w)))\n",
    "    #print(SVM_classifier.pred(X)[140:150])\n",
    "    y[1000*i:1000*(i+1)] = np.reshape(SVM_classifier.pred(X), (1000,))"
   ]
  },
  {
   "cell_type": "code",
   "execution_count": 23,
   "metadata": {},
   "outputs": [],
   "source": [
    "df = pd.DataFrame(y)\n",
    "df.to_csv('test.csv')\n",
    "# not the right format yet"
   ]
  },
  {
   "cell_type": "code",
   "execution_count": 26,
   "metadata": {},
   "outputs": [
    {
     "name": "stdout",
     "output_type": "stream",
     "text": [
      "3000\n"
     ]
    }
   ],
   "source": [
    "print(len(y==0))\n"
   ]
  }
 ],
 "metadata": {
  "kernelspec": {
   "display_name": "Python 3",
   "language": "python",
   "name": "python3"
  },
  "language_info": {
   "codemirror_mode": {
    "name": "ipython",
    "version": 3
   },
   "file_extension": ".py",
   "mimetype": "text/x-python",
   "name": "python",
   "nbconvert_exporter": "python",
   "pygments_lexer": "ipython3",
   "version": "3.5.2"
  }
 },
 "nbformat": 4,
 "nbformat_minor": 2
}
