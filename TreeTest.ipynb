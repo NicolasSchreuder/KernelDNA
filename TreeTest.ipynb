{
 "cells": [
  {
   "cell_type": "code",
   "execution_count": 1,
   "metadata": {
    "collapsed": true
   },
   "outputs": [],
   "source": [
    "from mismatchtree import mismatchTree, isInMismatchTree, inMismatchTree\n",
    "\n",
    "import json"
   ]
  },
  {
   "cell_type": "code",
   "execution_count": 2,
   "metadata": {
    "collapsed": true
   },
   "outputs": [],
   "source": [
    "s = 'TAGG'"
   ]
  },
  {
   "cell_type": "markdown",
   "metadata": {},
   "source": [
    "# Build mismatch tree"
   ]
  },
  {
   "cell_type": "code",
   "execution_count": 3,
   "metadata": {
    "collapsed": true
   },
   "outputs": [],
   "source": [
    "mismatch_tree_example = mismatchTree(s, 1)"
   ]
  },
  {
   "cell_type": "code",
   "execution_count": 4,
   "metadata": {},
   "outputs": [
    {
     "name": "stdout",
     "output_type": "stream",
     "text": [
      "{\n",
      "    \"A\": {\n",
      "        \"A\": {\n",
      "            \"G\": [\n",
      "                \"G\"\n",
      "            ]\n",
      "        }\n",
      "    },\n",
      "    \"C\": {\n",
      "        \"A\": {\n",
      "            \"G\": [\n",
      "                \"G\"\n",
      "            ]\n",
      "        }\n",
      "    },\n",
      "    \"G\": {\n",
      "        \"A\": {\n",
      "            \"G\": [\n",
      "                \"G\"\n",
      "            ]\n",
      "        }\n",
      "    },\n",
      "    \"T\": {\n",
      "        \"A\": {\n",
      "            \"A\": [\n",
      "                \"G\"\n",
      "            ],\n",
      "            \"C\": [\n",
      "                \"G\"\n",
      "            ],\n",
      "            \"G\": [\n",
      "                \"T\",\n",
      "                \"A\",\n",
      "                \"C\",\n",
      "                \"G\"\n",
      "            ],\n",
      "            \"T\": [\n",
      "                \"G\"\n",
      "            ]\n",
      "        },\n",
      "        \"C\": {\n",
      "            \"G\": [\n",
      "                \"G\"\n",
      "            ]\n",
      "        },\n",
      "        \"G\": {\n",
      "            \"G\": [\n",
      "                \"G\"\n",
      "            ]\n",
      "        },\n",
      "        \"T\": {\n",
      "            \"G\": [\n",
      "                \"G\"\n",
      "            ]\n",
      "        }\n",
      "    }\n",
      "}\n"
     ]
    }
   ],
   "source": [
    "print(json.dumps(mismatch_tree_example, indent=4, sort_keys=True))"
   ]
  },
  {
   "cell_type": "code",
   "execution_count": 5,
   "metadata": {},
   "outputs": [
    {
     "data": {
      "text/plain": [
       "'TACG'"
      ]
     },
     "execution_count": 5,
     "metadata": {},
     "output_type": "execute_result"
    }
   ],
   "source": [
    "'TACG'"
   ]
  },
  {
   "cell_type": "code",
   "execution_count": 6,
   "metadata": {},
   "outputs": [
    {
     "data": {
      "text/plain": [
       "True"
      ]
     },
     "execution_count": 6,
     "metadata": {},
     "output_type": "execute_result"
    }
   ],
   "source": [
    "isInMismatchTree(mismatchTree('TACG', 1), 'TACG')"
   ]
  },
  {
   "cell_type": "code",
   "execution_count": 7,
   "metadata": {},
   "outputs": [
    {
     "data": {
      "text/plain": [
       "False"
      ]
     },
     "execution_count": 7,
     "metadata": {},
     "output_type": "execute_result"
    }
   ],
   "source": [
    "isInMismatchTree(mismatchTree('TACC', 1), 'TAGG')"
   ]
  },
  {
   "cell_type": "code",
   "execution_count": 8,
   "metadata": {},
   "outputs": [
    {
     "data": {
      "text/plain": [
       "['TACG', 'TGCC']"
      ]
     },
     "execution_count": 8,
     "metadata": {},
     "output_type": "execute_result"
    }
   ],
   "source": [
    "inMismatchTree(mismatchTree('TACC', 1), ['TAGG', 'TGGG', 'TACG', 'TGCC'])"
   ]
  },
  {
   "cell_type": "code",
   "execution_count": 9,
   "metadata": {},
   "outputs": [
    {
     "data": {
      "text/plain": [
       "{'A': {'A': {'C': ['C']}},\n",
       " 'C': {'A': {'C': ['C']}},\n",
       " 'G': {'A': {'C': ['C']}},\n",
       " 'T': {'A': {'A': ['C'], 'C': ['T', 'A', 'C', 'G'], 'G': ['C'], 'T': ['C']},\n",
       "  'C': {'C': ['C']},\n",
       "  'G': {'C': ['C']},\n",
       "  'T': {'C': ['C']}}}"
      ]
     },
     "execution_count": 9,
     "metadata": {},
     "output_type": "execute_result"
    }
   ],
   "source": [
    "mismatchTree('TACC', 1)"
   ]
  },
  {
   "cell_type": "code",
   "execution_count": null,
   "metadata": {
    "collapsed": true
   },
   "outputs": [],
   "source": []
  },
  {
   "cell_type": "markdown",
   "metadata": {
    "collapsed": true
   },
   "source": [
    "# Speed test"
   ]
  },
  {
   "cell_type": "code",
   "execution_count": 10,
   "metadata": {
    "collapsed": true
   },
   "outputs": [],
   "source": [
    "%load_ext line_profiler"
   ]
  },
  {
   "cell_type": "code",
   "execution_count": 11,
   "metadata": {
    "collapsed": true
   },
   "outputs": [],
   "source": [
    "mismatch_tree = mismatchTree('TACC', 1)"
   ]
  },
  {
   "cell_type": "code",
   "execution_count": 23,
   "metadata": {
    "collapsed": true
   },
   "outputs": [],
   "source": [
    "%lprun -f isInMismatchTree isInMismatchTree(mismatch_tree, 'TAGG')"
   ]
  },
  {
   "cell_type": "code",
   "execution_count": null,
   "metadata": {
    "collapsed": true
   },
   "outputs": [],
   "source": []
  },
  {
   "cell_type": "code",
   "execution_count": 33,
   "metadata": {},
   "outputs": [],
   "source": [
    "d={(1, 'a'):4}"
   ]
  },
  {
   "cell_type": "code",
   "execution_count": 34,
   "metadata": {},
   "outputs": [
    {
     "data": {
      "text/plain": [
       "4"
      ]
     },
     "execution_count": 34,
     "metadata": {},
     "output_type": "execute_result"
    }
   ],
   "source": [
    "d[1,'a']"
   ]
  },
  {
   "cell_type": "code",
   "execution_count": 36,
   "metadata": {},
   "outputs": [],
   "source": [
    "d[2, 'b']=5"
   ]
  },
  {
   "cell_type": "code",
   "execution_count": 38,
   "metadata": {},
   "outputs": [
    {
     "data": {
      "text/plain": [
       "True"
      ]
     },
     "execution_count": 38,
     "metadata": {},
     "output_type": "execute_result"
    }
   ],
   "source": [
    "(2, 'b') in d"
   ]
  },
  {
   "cell_type": "code",
   "execution_count": null,
   "metadata": {
    "collapsed": true
   },
   "outputs": [],
   "source": []
  }
 ],
 "metadata": {
  "kernelspec": {
   "display_name": "Python 3",
   "language": "python",
   "name": "python3"
  },
  "language_info": {
   "codemirror_mode": {
    "name": "ipython",
    "version": 3
   },
   "file_extension": ".py",
   "mimetype": "text/x-python",
   "name": "python",
   "nbconvert_exporter": "python",
   "pygments_lexer": "ipython3",
   "version": "3.5.3"
  }
 },
 "nbformat": 4,
 "nbformat_minor": 2
}
