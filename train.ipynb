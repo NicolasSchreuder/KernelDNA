{
 "cells": [
  {
   "cell_type": "code",
   "execution_count": 1,
   "metadata": {
    "collapsed": true
   },
   "outputs": [],
   "source": [
    "import numpy as np\n",
    "\n",
    "# Homemade\n",
    "from SVM import SVM\n",
    "from processing import train_test_split, load_mat50, load_y"
   ]
  },
  {
   "cell_type": "markdown",
   "metadata": {},
   "source": [
    "# Pre-processed data"
   ]
  },
  {
   "cell_type": "code",
   "execution_count": 3,
   "metadata": {
    "collapsed": true
   },
   "outputs": [],
   "source": [
    "dataset_index = '0'\n",
    "# load training data\n",
    "X = load_mat50(\"data/train/Xtr{}_mat50.csv\".format(dataset_index))\n",
    "n,d = X.shape\n",
    "X = np.concatenate([X,np.ones((n,1))], axis=1)\n",
    "\n",
    "y = 2*load_y(\"data/train/Ytr{}.csv\".format(dataset_index)) -1 #y should belong to {-1,1}, not {0,1} !"
   ]
  },
  {
   "cell_type": "code",
   "execution_count": 4,
   "metadata": {
    "collapsed": true
   },
   "outputs": [],
   "source": [
    "classifier = SVM(0.01)"
   ]
  },
  {
   "cell_type": "code",
   "execution_count": 52,
   "metadata": {
    "collapsed": true
   },
   "outputs": [],
   "source": [
    "X_train, X_test, y_train, y_test = train_test_split(X, y, test_size=0.1, random_state=42)"
   ]
  },
  {
   "cell_type": "code",
   "execution_count": 53,
   "metadata": {
    "collapsed": true
   },
   "outputs": [],
   "source": [
    "classifier.fit(X_train, y_train)"
   ]
  },
  {
   "cell_type": "code",
   "execution_count": 54,
   "metadata": {
    "collapsed": true
   },
   "outputs": [],
   "source": [
    "classifier.save('SVM_{}'.format(dataset_index))"
   ]
  },
  {
   "cell_type": "code",
   "execution_count": 32,
   "metadata": {},
   "outputs": [
    {
     "data": {
      "text/plain": [
       "(2000, 51)"
      ]
     },
     "execution_count": 32,
     "metadata": {},
     "output_type": "execute_result"
    }
   ],
   "source": [
    "X.shape"
   ]
  },
  {
   "cell_type": "markdown",
   "metadata": {
    "collapsed": true
   },
   "source": [
    "# Raw DNA strings"
   ]
  },
  {
   "cell_type": "code",
   "execution_count": 2,
   "metadata": {},
   "outputs": [],
   "source": [
    "from kernel import spectrum_kernel\n",
    "\n",
    "from KernelSVM import KernelSVM"
   ]
  },
  {
   "cell_type": "code",
   "execution_count": 8,
   "metadata": {},
   "outputs": [
    {
     "data": {
      "text/plain": [
       "'TCCTCAACTTTTATTGGGCCGCTGTGGCACCAGAATCTACGAATGGCGCCCTCTAGAGTTGTGTAAAGAAGTGGCGTCACCTCATTATAAATAAAAGGTTG'"
      ]
     },
     "execution_count": 8,
     "metadata": {},
     "output_type": "execute_result"
    }
   ],
   "source": [
    "# Load raw dna strings\n",
    "\n",
    "dataset_index = '0'\n",
    "f = open('data/train/Xtr{}.csv'.format(dataset_index), 'r')\n",
    "data = [line.strip('\\n') for line in f.readlines()]\n",
    "f.close()\n",
    "\n",
    "y = 2*load_y(\"data/train/Ytr{}.csv\".format(dataset_index)) -1 # y should belong to {-1,1}, not {0,1} !\n",
    "y = np.reshape(y.astype(float), -1)\n",
    "data[0]"
   ]
  },
  {
   "cell_type": "code",
   "execution_count": null,
   "metadata": {},
   "outputs": [],
   "source": [
    "# train-test split \n",
    "X_train, y_train, X_test, y_test = data[:1500], y[:1500], data[1500:], y[1500:]"
   ]
  },
  {
   "cell_type": "code",
   "execution_count": null,
   "metadata": {},
   "outputs": [],
   "source": [
    "svm = KernelSVM(lambda_reg = 0.1, kernel = spectrum_kernel, data_type='DNA')"
   ]
  },
  {
   "cell_type": "code",
   "execution_count": null,
   "metadata": {},
   "outputs": [],
   "source": [
    "# train svm\n",
    "svm.fit(X_train, y_train)"
   ]
  },
  {
   "cell_type": "code",
   "execution_count": null,
   "metadata": {
    "collapsed": true
   },
   "outputs": [],
   "source": [
    "y_pred = svm.pred(X_test)"
   ]
  },
  {
   "cell_type": "code",
   "execution_count": null,
   "metadata": {},
   "outputs": [],
   "source": [
    "sum(y_test == y_pred)/500"
   ]
  },
  {
   "cell_type": "code",
   "execution_count": 3,
   "metadata": {},
   "outputs": [],
   "source": [
    "# train the 3 SVM\n",
    "for dataset_index in range(3):\n",
    "    f = open('data/train/Xtr{}.csv'.format(dataset_index), 'r')\n",
    "    data = [line.strip('\\n') for line in f.readlines()]\n",
    "    f.close()\n",
    "\n",
    "    y = 2*load_y(\"data/train/Ytr{}.csv\".format(dataset_index)) -1 # y should belong to {-1,1}, not {0,1} !\n",
    "    y = np.reshape(y.astype(float), -1)\n",
    "\n",
    "    svm = KernelSVM(lambda_reg = 0.1, kernel = spectrum_kernel, data_type='DNA')\n",
    "\n",
    "    svm.fit(data, y)\n",
    "\n",
    "    svm.save('SVM_{}'.format(dataset_index), 'Xtrain_{}'.format(dataset_index))"
   ]
  },
  {
   "cell_type": "code",
   "execution_count": null,
   "metadata": {
    "collapsed": true
   },
   "outputs": [],
   "source": []
  }
 ],
 "metadata": {
  "kernelspec": {
   "display_name": "Python 3",
   "language": "python",
   "name": "python3"
  },
  "language_info": {
   "codemirror_mode": {
    "name": "ipython",
    "version": 3
   },
   "file_extension": ".py",
   "mimetype": "text/x-python",
   "name": "python",
   "nbconvert_exporter": "python",
   "pygments_lexer": "ipython3",
   "version": "3.5.3"
  }
 },
 "nbformat": 4,
 "nbformat_minor": 2
}
