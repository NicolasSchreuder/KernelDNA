{
 "cells": [
  {
   "cell_type": "code",
   "execution_count": 23,
   "metadata": {},
   "outputs": [],
   "source": [
    "import numpy as np\n",
    "\n",
    "# Homemade\n",
    "from SVM import SVM\n",
    "from processing import train_test_split, load_mat50, load_y"
   ]
  },
  {
   "cell_type": "code",
   "execution_count": 39,
   "metadata": {},
   "outputs": [],
   "source": [
    "dataset_index = '2'\n",
    "\n",
    "# load training data\n",
    "X = load_mat50(\"data/train/Xtr{}_mat50.csv\".format(dataset_index))\n",
    "y = load_y(\"data/train/Ytr{}.csv\".format(dataset_index))"
   ]
  },
  {
   "cell_type": "code",
   "execution_count": 40,
   "metadata": {
    "collapsed": true
   },
   "outputs": [],
   "source": [
    "classifier = SVM(0.01)"
   ]
  },
  {
   "cell_type": "code",
   "execution_count": 41,
   "metadata": {},
   "outputs": [],
   "source": [
    "X_train, X_test, y_train, y_test = train_test_split(X, y, test_size=0.1, random_state=42)"
   ]
  },
  {
   "cell_type": "code",
   "execution_count": 42,
   "metadata": {},
   "outputs": [],
   "source": [
    "classifier.fit(X_train, y_train)"
   ]
  },
  {
   "cell_type": "code",
   "execution_count": 43,
   "metadata": {},
   "outputs": [],
   "source": [
    "classifier.save('SVM_{}'.format(dataset_index))"
   ]
  },
  {
   "cell_type": "code",
   "execution_count": 45,
   "metadata": {},
   "outputs": [
    {
     "data": {
      "text/plain": [
       "array([[ 0.79320319],\n",
       "       [ 1.46487503],\n",
       "       [ 0.6363279 ],\n",
       "       [ 1.07235208],\n",
       "       [ 0.72314342],\n",
       "       [ 0.70090879],\n",
       "       [ 1.3928177 ],\n",
       "       [ 1.15258682],\n",
       "       [ 0.55112019],\n",
       "       [ 0.84469944],\n",
       "       [ 0.82612172],\n",
       "       [ 0.68907934],\n",
       "       [ 0.81632737],\n",
       "       [ 0.9632926 ],\n",
       "       [ 1.01509824],\n",
       "       [ 1.01339045],\n",
       "       [ 0.88820454],\n",
       "       [ 0.99418438],\n",
       "       [ 0.73546451],\n",
       "       [ 0.59644754],\n",
       "       [ 1.0102819 ],\n",
       "       [ 1.02090178],\n",
       "       [ 1.041192  ],\n",
       "       [ 0.75134024],\n",
       "       [ 0.61712883],\n",
       "       [ 0.67399374],\n",
       "       [ 0.79122659],\n",
       "       [ 1.38119216],\n",
       "       [ 0.74908004],\n",
       "       [ 1.24165229],\n",
       "       [ 0.76822616],\n",
       "       [ 1.0286336 ],\n",
       "       [ 0.9012678 ],\n",
       "       [ 0.55640347],\n",
       "       [ 1.35783919],\n",
       "       [ 1.21964358],\n",
       "       [ 1.15857535],\n",
       "       [ 0.84385821],\n",
       "       [ 0.83794412],\n",
       "       [ 0.85922419],\n",
       "       [ 0.79676931],\n",
       "       [ 0.82279775],\n",
       "       [ 0.75830654],\n",
       "       [ 1.23853593],\n",
       "       [ 1.04961637],\n",
       "       [ 0.74816515],\n",
       "       [ 1.01607577],\n",
       "       [ 0.76647618],\n",
       "       [ 1.13766815],\n",
       "       [ 0.76784115]])"
      ]
     },
     "execution_count": 45,
     "metadata": {},
     "output_type": "execute_result"
    }
   ],
   "source": []
  },
  {
   "cell_type": "code",
   "execution_count": null,
   "metadata": {
    "collapsed": true
   },
   "outputs": [],
   "source": []
  }
 ],
 "metadata": {
  "kernelspec": {
   "display_name": "Python 3",
   "language": "python",
   "name": "python3"
  },
  "language_info": {
   "codemirror_mode": {
    "name": "ipython",
    "version": 3
   },
   "file_extension": ".py",
   "mimetype": "text/x-python",
   "name": "python",
   "nbconvert_exporter": "python",
   "pygments_lexer": "ipython3",
   "version": "3.5.3"
  }
 },
 "nbformat": 4,
 "nbformat_minor": 2
}
