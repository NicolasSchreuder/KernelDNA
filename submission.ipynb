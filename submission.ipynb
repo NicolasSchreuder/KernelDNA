{
 "cells": [
  {
   "cell_type": "code",
   "execution_count": 51,
   "metadata": {
    "collapsed": true
   },
   "outputs": [],
   "source": [
    "from SVM import SVM\n",
    "from processing import load_mat50, load_y\n",
    "import numpy as np\n",
    "\n",
    "import pandas as pd"
   ]
  },
  {
   "cell_type": "code",
   "execution_count": 49,
   "metadata": {},
   "outputs": [
    {
     "name": "stdout",
     "output_type": "stream",
     "text": [
      "[ 1.]\n",
      "[ 1.]\n",
      "[ 1.]\n"
     ]
    }
   ],
   "source": [
    "# load SVM\n",
    "SVM_classifier = SVM(0.1)\n",
    "y = np.zeros((3000,))\n",
    "for i in range(3):\n",
    "    SVM_classifier.load('SVM_{}.npy'.format(i))\n",
    "    X = load_mat50(\"data/test/Xte{}_mat50.csv\".format(i))\n",
    "    y[1000*i:1000*(i+1)] = np.reshape(SVM_classifier.pred(X), (1000,))"
   ]
  },
  {
   "cell_type": "code",
   "execution_count": 54,
   "metadata": {
    "collapsed": true
   },
   "outputs": [],
   "source": [
    "df = pd.DataFrame(y)\n",
    "df.to_csv('test.csv')\n",
    "# not the right format yet"
   ]
  },
  {
   "cell_type": "code",
   "execution_count": null,
   "metadata": {
    "collapsed": true
   },
   "outputs": [],
   "source": []
  }
 ],
 "metadata": {
  "kernelspec": {
   "display_name": "Python 3",
   "language": "python",
   "name": "python3"
  },
  "language_info": {
   "codemirror_mode": {
    "name": "ipython",
    "version": 3
   },
   "file_extension": ".py",
   "mimetype": "text/x-python",
   "name": "python",
   "nbconvert_exporter": "python",
   "pygments_lexer": "ipython3",
   "version": "3.5.3"
  }
 },
 "nbformat": 4,
 "nbformat_minor": 2
}
