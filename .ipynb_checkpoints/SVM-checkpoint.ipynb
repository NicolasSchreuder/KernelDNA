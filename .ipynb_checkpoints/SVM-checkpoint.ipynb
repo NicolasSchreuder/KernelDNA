{
 "cells": [
  {
   "cell_type": "markdown",
   "metadata": {},
   "source": [
    "# Convex Optimization - Homework 3"
   ]
  },
  {
   "cell_type": "markdown",
   "metadata": {},
   "source": [
    "## Student : Nicolas Schreuder"
   ]
  },
  {
   "cell_type": "code",
   "execution_count": 1,
   "metadata": {},
   "outputs": [
    {
     "name": "stdout",
     "output_type": "stream",
     "text": [
      "Populating the interactive namespace from numpy and matplotlib\n"
     ]
    }
   ],
   "source": [
    "import numpy as np\n",
    "from numpy.linalg import inv\n",
    "\n",
    "import matplotlib.pyplot as plt\n",
    "%pylab inline\n",
    "\n",
    "import sklearn.metrics\n",
    "from sklearn import datasets\n",
    "from sklearn.model_selection import train_test_split\n",
    "from sklearn import svm\n",
    "\n",
    "from cvxopt import matrix\n",
    "from cvxopt import solvers\n",
    "\n",
    "import warnings\n",
    "\n",
    "%load_ext line_profiler"
   ]
  },
  {
   "cell_type": "code",
   "execution_count": 2,
   "metadata": {
    "collapsed": true
   },
   "outputs": [],
   "source": [
    "def B(x):\n",
    "    \"\"\"Logarithmic barrier function\"\"\"\n",
    "    return -np.sum(np.log(x))"
   ]
  },
  {
   "cell_type": "markdown",
   "metadata": {},
   "source": [
    "## I- Interior Points Method"
   ]
  },
  {
   "cell_type": "code",
   "execution_count": 3,
   "metadata": {
    "collapsed": true
   },
   "outputs": [],
   "source": [
    "def phi_uc(x, Q, p):\n",
    "    \"\"\"Quadratic objective\"\"\"\n",
    "    return (0.5*np.dot(x.T, Q.dot(x)) + np.dot(p.T, x))"
   ]
  },
  {
   "cell_type": "code",
   "execution_count": 4,
   "metadata": {
    "collapsed": true
   },
   "outputs": [],
   "source": [
    "def phi(x, t, Q, p, A, b):\n",
    "    \"\"\"Barrier objective \"\"\"\n",
    "    return t*(0.5*np.dot(x.T, Q.dot(x)) + np.dot(p.T, x)) +  B(b - A.dot(x))"
   ]
  },
  {
   "cell_type": "code",
   "execution_count": 5,
   "metadata": {
    "collapsed": true
   },
   "outputs": [],
   "source": [
    "def grad(x, t, Q, p, A, b):\n",
    "    \"\"\"Gradient of barrier objective\"\"\"    \n",
    "    return t*(Q.dot(x) + p) + np.dot(A.T, np.reciprocal(b - A.dot(x)))\n",
    "    # np.reciprocal returns the reciprocal of the argument element-wise"
   ]
  },
  {
   "cell_type": "code",
   "execution_count": 6,
   "metadata": {
    "collapsed": true
   },
   "outputs": [],
   "source": [
    "def hess(x, t, Q, p, A, b):\n",
    "    \"\"\"Hessian of barrier objective\"\"\"\n",
    "    diag = np.diag(np.squeeze(np.reciprocal(np.array(b - A.dot(x)))))**2\n",
    "    return t*Q + np.dot(A.T, np.dot(diag, A))"
   ]
  },
  {
   "cell_type": "code",
   "execution_count": 7,
   "metadata": {
    "collapsed": true
   },
   "outputs": [],
   "source": [
    "# Tests\n",
    "Q = np.matrix(([10, 2],\n",
    "               [2,10]))\n",
    "p = np.matrix(([2],[3]))\n",
    "A = np.matrix(([2,7], \n",
    "               [6, 3]))\n",
    "b = np.matrix(([3],[1]))\n",
    "t = 1 # Set the barrier parameter\n",
    "\n",
    "f = lambda x: phi(x, t, Q, p, A, b)\n",
    "g = lambda x: grad(x, t, Q, p, A, b)\n",
    "h = lambda x: hess(x, t, Q, p, A, b)\n",
    "\n",
    "x = np.array(([0.1],[0]))\n",
    "\n",
    "# f(x), g(x), h(x) # ok"
   ]
  },
  {
   "cell_type": "markdown",
   "metadata": {},
   "source": [
    "## II- Newton Method"
   ]
  },
  {
   "cell_type": "markdown",
   "metadata": {},
   "source": [
    "### Damped Newton algorithm"
   ]
  },
  {
   "cell_type": "code",
   "execution_count": 8,
   "metadata": {
    "collapsed": true
   },
   "outputs": [],
   "source": [
    "def squaredNewtonDecrement(x, grad_x, inv_hessian_x):\n",
    "    \"\"\"Returns squared Newton decrement\n",
    "    Input : point x, gradient in x, inverse of Hessian in x\n",
    "    \"\"\"\n",
    "    return np.dot(grad_x.T, inv_hessian_x.dot(grad_x))"
   ]
  },
  {
   "cell_type": "code",
   "execution_count": 9,
   "metadata": {
    "collapsed": true
   },
   "outputs": [],
   "source": [
    "def dampedNewtonStep(x, f, g, h):\n",
    "    \"\"\"Returns damped Newton step\"\"\"\n",
    "    \n",
    "    # Reduces calls to g and h\n",
    "    grad_x, inv_hessian_x = g(x), inv(h(x)) \n",
    "    \n",
    "    # Computes damped newton step\n",
    "    damped_coeff = 1/(1 + np.sqrt(squaredNewtonDecrement(x, grad_x, inv_hessian_x)))\n",
    "    x_dns = x - damped_coeff*inv_hessian_x.dot(grad_x)\n",
    "    \n",
    "    # Computes gap based on Newton decrement (second call to g and h seems unavoidable)\n",
    "    gap = 0.5 * squaredNewtonDecrement(x_dns, g(x_dns), np.linalg.inv(h(x_dns)))\n",
    "    \n",
    "    return x_dns, gap"
   ]
  },
  {
   "cell_type": "code",
   "execution_count": 10,
   "metadata": {
    "collapsed": true
   },
   "outputs": [],
   "source": [
    "def dampedNewton(x0, f, g, h, tol):\n",
    "    \"\"\"\n",
    "    Damped Newton algorithm\n",
    "    tol should be smaller than 0.5*(3+sqrt(5))\n",
    "    \"\"\"\n",
    "    # Raises warning if tol is too big\n",
    "    if tol > 0.5*(3 - np.sqrt(5)):\n",
    "        warnings.warn(\"deprecated\", Warning)\n",
    "        \n",
    "    gap = tol + 1\n",
    "    x, xhist = x0, []\n",
    "    while gap > tol:\n",
    "        xhist.append(x) # keeps history of all Netwon steps\n",
    "        x, gap = dampedNewtonStep(x, f, g, h) # one damped Newton step\n",
    "    return x, xhist"
   ]
  },
  {
   "cell_type": "markdown",
   "metadata": {},
   "source": [
    "### Newton algorithm with backtracking line-search"
   ]
  },
  {
   "cell_type": "code",
   "execution_count": 11,
   "metadata": {
    "collapsed": true
   },
   "outputs": [],
   "source": [
    "def backtrackingLS(x, newton_step, f, grad_x, alpha=0.2, beta=0.8):\n",
    "    \"\"\"Backtracking line search \"\"\"\n",
    "    t_LS = 1\n",
    "    f_x = f(x)\n",
    "    # the np.isnan condition was added to handle cases of infeasible x + T_LS*newton_step\n",
    "    while (f(x + t_LS*newton_step) > f_x + alpha*t_LS*np.dot(grad_x.T, newton_step)\n",
    "           or np.isnan(f(x + t_LS*newton_step))):\n",
    "        t_LS = beta*t_LS\n",
    "    return t_LS"
   ]
  },
  {
   "cell_type": "code",
   "execution_count": 12,
   "metadata": {
    "collapsed": true
   },
   "outputs": [],
   "source": [
    "def newtonLS(x0, f, g, h, tol):\n",
    "    \"\"\"Newton algorithm with backtracking line-search\"\"\"\n",
    "    \n",
    "    # Initialization\n",
    "    x, grad_x, inv_hessian_x = x0, g(x0), inv(h(x0))\n",
    "    x_hist = []\n",
    "    squared_decrement = squaredNewtonDecrement(x, grad_x, inv_hessian_x)\n",
    "        \n",
    "    while 0.5*squared_decrement > tol:\n",
    "        \n",
    "        x_hist.append(x)\n",
    "        \n",
    "        # Compute Newton Step\n",
    "        newton_step = -inv_hessian_x.dot(grad_x)\n",
    "        \n",
    "        # Set t using backtracking line search\n",
    "        t_LS = backtrackingLS(x, newton_step, f, grad_x)\n",
    "        \n",
    "        # Update x\n",
    "        x += t_LS*newton_step\n",
    "                \n",
    "        # Update squared decrement\n",
    "        grad_x, inv_hessian_x = g(x), inv(h(x))\n",
    "        squared_decrement = squaredNewtonDecrement(x, grad_x, inv_hessian_x)\n",
    "        \n",
    "    return (x, x_hist)"
   ]
  },
  {
   "cell_type": "markdown",
   "metadata": {},
   "source": [
    "## III- Support Vector Machine Problem"
   ]
  },
  {
   "cell_type": "code",
   "execution_count": 1,
   "metadata": {
    "collapsed": true,
    "scrolled": true
   },
   "outputs": [],
   "source": [
    "def transformSvmPrimal(tau, X, y):\n",
    "    \"\"\"Transforms SVM primal problem into generic QP problem\"\"\"\n",
    "    n, d = X.shape\n",
    "    \n",
    "    Q = np.block([\n",
    "        [np.eye(d), np.zeros((d, n))],\n",
    "        [np.zeros((n, d+n))]\n",
    "    ])\n",
    "    \n",
    "    p = 1/(tau*n)*np.concatenate((np.zeros(d), np.ones(n)))\n",
    "        \n",
    "    A_1 = np.concatenate((-np.dot(np.diag(np.squeeze(np.array(y))), X), \n",
    "                          -np.eye(n)), axis=1)\n",
    "    A_2 = np.concatenate((np.zeros((n, d)), -np.eye(n)), axis=1)\n",
    "    \n",
    "    A  = np.concatenate((A_1, A_2), axis=0)\n",
    "    \n",
    "    b = np.concatenate((-np.ones(n), np.zeros(n)))\n",
    "    \n",
    "    return (Q, p, A, b)"
   ]
  },
  {
   "cell_type": "code",
   "execution_count": 14,
   "metadata": {
    "collapsed": true
   },
   "outputs": [],
   "source": [
    "def transformSvmDual(tau, X, y):\n",
    "    \"\"\"Transforms SVM dual problem into generic QP problem\"\"\"\n",
    "    # As it is a maximization problem, we consider the associated minimization problem\n",
    "    n, d = X.shape\n",
    "    \n",
    "    diag_y = np.diag(np.squeeze(np.array(y)))\n",
    "        \n",
    "    Q = np.dot(np.dot(diag_y, X), np.dot(X.T, diag_y))\n",
    "        \n",
    "    p = -np.ones(n)\n",
    "    \n",
    "    A = np.concatenate((-np.eye(n), np.eye(n)), axis=0)\n",
    "    \n",
    "    b = np.concatenate((np.zeros(n), (1/(tau*n))*np.ones(n)))\n",
    "    \n",
    "    return (Q, p, A, b)"
   ]
  },
  {
   "cell_type": "code",
   "execution_count": 15,
   "metadata": {
    "collapsed": true
   },
   "outputs": [],
   "source": [
    "# Test\n",
    "# X = np.array([[1,4,2], [3,6,2]])\n",
    "# y = np.array([[1], [-1]])\n",
    "# tau = 10\n",
    "# transformSvmPrimal(tau, X, y)\n",
    "# transformSvmDual(0.1, X, y)\n",
    "# ok"
   ]
  },
  {
   "cell_type": "code",
   "execution_count": 16,
   "metadata": {
    "collapsed": true
   },
   "outputs": [],
   "source": [
    "def barrMethod(Q, p, A, b, x0, mu, tol, BTlinesearch=False):\n",
    "    \"\"\"Barrier method for generic QP\"\"\"\n",
    "    \n",
    "    # Initialization\n",
    "    m = b.shape[0] # number of constraints\n",
    "    t, x, x_hist = 1, x0, []\n",
    "    \n",
    "    f = lambda x: phi(x, t, Q, p, A, b) \n",
    "    g = lambda x: grad(x, t, Q, p, A, b)\n",
    "    h = lambda x: hess(x, t, Q, p, A, b)\n",
    "\n",
    "    while m/t >= tol:\n",
    "        x_hist.append(x) \n",
    "\n",
    "        if BTlinesearch:\n",
    "            (x, x_hist_nt) = newtonLS(x, f, g, h, tol) # One Newton with backtracking LS step\n",
    "        else:\n",
    "            (x, x_hist_nt) = dampedNewton(x, f, g, h, tol) # One damped Newton step\n",
    "        \n",
    "        t = mu*t # updates t\n",
    "        \n",
    "    return x, x_hist"
   ]
  },
  {
   "cell_type": "markdown",
   "metadata": {},
   "source": [
    "### Iris dataset"
   ]
  },
  {
   "cell_type": "code",
   "execution_count": 17,
   "metadata": {
    "collapsed": true
   },
   "outputs": [],
   "source": [
    "# Load the data from scikit-learn module\n",
    "iris = datasets.load_iris()\n",
    "\n",
    "# Keep only the last two classes\n",
    "X, y = iris.data[50:], iris.target[50:]\n",
    "X = np.concatenate((X, np.ones((100,1))), axis=1) # for the bias term\n",
    "\n",
    "# Re-labeling : y = 0,1 to y = -1, 1\n",
    "y[:50] = np.ones(50)\n",
    "y[50:100] = -np.ones(50)\n",
    "\n",
    "# Train/test split, 20% test\n",
    "X_train, X_test, y_train, y_test = train_test_split(X, y, \n",
    "                                                    test_size=0.20, random_state=42)"
   ]
  },
  {
   "cell_type": "code",
   "execution_count": 18,
   "metadata": {
    "scrolled": false
   },
   "outputs": [
    {
     "name": "stdout",
     "output_type": "stream",
     "text": [
      "Train accuracy score : 0.9875\n",
      "Test accuracy score : 0.9\n",
      "Test average precision : 0.916666666667\n"
     ]
    }
   ],
   "source": [
    "# Parameters\n",
    "tau, tol, mu = 0.01, 10**(-8), 2\n",
    "n, d = X_train.shape\n",
    "\n",
    "# Transforms SVM primal and dual problems to generic QP\n",
    "(Q, p, A, b) = transformSvmPrimal(tau, X_train, y_train)\n",
    "(Q_dual, p_dual, A_dual, b_dual) = transformSvmDual(tau, X_train, y_train)\n",
    "\n",
    "# Strictly feasible initializations \n",
    "x0, x0_dual = np.concatenate((np.zeros(d), 2*np.ones(n))), 1/(2*tau*n)*np.ones(n) \n",
    "\n",
    "w_opt, hist = barrMethod(Q, p, A, b, x0, mu, tol)\n",
    "w_dual, hist_dual = barrMethod(Q_dual, p_dual, A_dual, b_dual, x0_dual, mu, tol)\n",
    "\n",
    "train_pred = sign(np.dot(X_train, w_opt[:5]))\n",
    "test_pred = sign(np.dot(X_test, w_opt[:5]))\n",
    "\n",
    "print(\"Train accuracy score : \" + \n",
    "      str(sklearn.metrics.accuracy_score(train_pred, y_train)))\n",
    "print(\"Test accuracy score : \" + \n",
    "      str(sklearn.metrics.accuracy_score(test_pred, y_test)))\n",
    "print(\"Test average precision : \" + \n",
    "      str(sklearn.metrics.average_precision_score(test_pred, y_test)))"
   ]
  },
  {
   "cell_type": "code",
   "execution_count": 19,
   "metadata": {
    "collapsed": true
   },
   "outputs": [],
   "source": [
    "# Time profiler for barrier with damped Newton method\n",
    "#%prun barrMethod(Q, p, A, b, x0, 5, 0.0001)\n",
    "# ccl : everything is fine"
   ]
  },
  {
   "cell_type": "code",
   "execution_count": 20,
   "metadata": {
    "collapsed": true
   },
   "outputs": [],
   "source": [
    "# Time profiler for barrier with damped Newton method\n",
    "#%prun barrMethod(Q, p, A, b, x0, 5, 0.0001, BTlinesearch=True)\n",
    "# ccl : 5 to 10 times faster than damped Newton method !"
   ]
  },
  {
   "cell_type": "markdown",
   "metadata": {},
   "source": [
    "I compared my result to those obtained with a solver from CVXOPT and those obtained with the SVM implemented in the scikit-learn module :"
   ]
  },
  {
   "cell_type": "code",
   "execution_count": 21,
   "metadata": {},
   "outputs": [
    {
     "name": "stdout",
     "output_type": "stream",
     "text": [
      "     pcost       dcost       gap    pres   dres\n",
      " 0: -8.6573e+01  2.1134e+02  1e+03  5e+00  2e+01\n",
      " 1:  1.0977e+02 -2.6073e+01  2e+02  3e-01  1e+00\n",
      " 2:  2.5443e+01  8.2489e+00  2e+01  3e-02  1e-01\n",
      " 3:  1.8392e+01  1.3602e+01  5e+00  7e-03  3e-02\n",
      " 4:  1.7258e+01  1.5333e+01  2e+00  2e-03  9e-03\n",
      " 5:  1.6600e+01  1.5967e+01  7e-01  7e-04  3e-03\n",
      " 6:  1.6338e+01  1.6277e+01  6e-02  1e-15  2e-13\n",
      " 7:  1.6305e+01  1.6304e+01  1e-03  1e-15  1e-12\n",
      " 8:  1.6304e+01  1.6304e+01  2e-05  1e-15  8e-12\n",
      " 9:  1.6304e+01  1.6304e+01  2e-07  8e-16  7e-11\n",
      "Optimal solution found.\n",
      "Solver train accuracy score : 0.9875\n",
      "Solver test accuracy score : 0.9\n",
      "Test average precision : 0.916666666667\n"
     ]
    }
   ],
   "source": [
    "Q_solver, p_solver = matrix(Q), matrix(p)\n",
    "A_solver, b_solver = matrix(A), matrix(b)\n",
    "\n",
    "sol = solvers.qp(Q_solver,p_solver,A_solver,b_solver)\n",
    "w_opt_solver = np.array(sol['x'][:5])\n",
    "\n",
    "# solver score\n",
    "train_pred_solver = sign(np.dot(X_train, w_opt_solver[:5]))\n",
    "test_pred_solver = sign(np.dot(X_test, w_opt_solver[:5]))\n",
    "\n",
    "print(\"Solver train accuracy score : \" + \n",
    "      str(sklearn.metrics.accuracy_score(train_pred_solver, y_train)))\n",
    "print(\"Solver test accuracy score : \" + \n",
    "      str(sklearn.metrics.accuracy_score(test_pred_solver, y_test)))\n",
    "print(\"Test average precision : \" + \n",
    "      str(sklearn.metrics.average_precision_score(test_pred_solver, y_test)))"
   ]
  },
  {
   "cell_type": "code",
   "execution_count": 22,
   "metadata": {},
   "outputs": [
    {
     "name": "stdout",
     "output_type": "stream",
     "text": [
      "Sklearn SVM train accuracy score : 0.9875\n",
      "Sklearn SVM test accuracy score : 0.95\n",
      "Sklearn SVM test average precision : 0.958333333333\n"
     ]
    }
   ],
   "source": [
    "# Scikit-learn SVM\n",
    "clf = svm.SVC()\n",
    "clf.fit(X_train, y_train)\n",
    "\n",
    "train_pred_SVM, test_pred_SVM = clf.predict(X_train), clf.predict(X_test)\n",
    "\n",
    "print(\"Sklearn SVM train accuracy score : \" + \n",
    "      str(sklearn.metrics.accuracy_score(train_pred_SVM, y_train)))\n",
    "print(\"Sklearn SVM test accuracy score : \" + \n",
    "      str(sklearn.metrics.accuracy_score(test_pred_SVM, y_test)))\n",
    "print(\"Sklearn SVM test average precision : \" + \n",
    "      str(sklearn.metrics.average_precision_score(test_pred_SVM, y_test)))"
   ]
  },
  {
   "cell_type": "markdown",
   "metadata": {},
   "source": [
    "### Conclusion : \n",
    "\n",
    "- Same results with CVXOPT solver and the Newton Methods I implemented. \n",
    "\n",
    "- Scitki-learn's SVM gives same train score but has the best prediction score."
   ]
  },
  {
   "cell_type": "markdown",
   "metadata": {},
   "source": [
    "### Duality gap versus iterations for different values of the barrier method parameter $\\mu$"
   ]
  },
  {
   "cell_type": "code",
   "execution_count": 24,
   "metadata": {
    "collapsed": true,
    "scrolled": false
   },
   "outputs": [],
   "source": [
    "mu_values, tol, plots = [2, 15, 50, 100], 10**(-6), []\n",
    "\n",
    "for i in range(len(mu_values)):\n",
    "    w_opt, hist = barrMethod(Q, p, A, b, x0, mu_values[i], tol)\n",
    "    w_dual, hist_dual = barrMethod(Q_dual, p_dual, A_dual, \n",
    "                                   b_dual, x0_dual, mu_values[i], tol)\n",
    "    \n",
    "    # Computes duality gap for each iteration\n",
    "    plots.append([phi_uc(hist[k], Q, p) + phi_uc(hist_dual[k], Q_dual, p_dual) \n",
    "                  for k in range(1, len(hist))])"
   ]
  },
  {
   "cell_type": "code",
   "execution_count": 25,
   "metadata": {
    "scrolled": true
   },
   "outputs": [
    {
     "data": {
      "image/png": "[encoded data removed]",
      "text/plain": [
       "<matplotlib.figure.Figure at 0x10ad16908>"
      ]
     },
     "metadata": {},
     "output_type": "display_data"
    }
   ],
   "source": [
    "for i, plot in enumerate(plots):\n",
    "    plt.step(range(len(plot)), plot)\n",
    "    \n",
    "plt.legend(mu_values, title='Value of μ')\n",
    "plt.xlabel('Number of iterations')\n",
    "plt.ylabel('Duality gap')\n",
    "plt.yscale('log')\n",
    "plt.title('Duality gap for different values of $\\mu$ (semilog scale)')\n",
    "plt.show()"
   ]
  },
  {
   "cell_type": "markdown",
   "metadata": {},
   "source": [
    "### Comments : \n",
    "\n",
    "- The bigger the value of $\\mu$ is, the less iterations are needed to obtain a given precision. \n",
    "- Not much difference in terms of number of iterations when $\\mu$ is bigger than 15."
   ]
  },
  {
   "cell_type": "markdown",
   "metadata": {},
   "source": [
    "### Performance comparison for backtracking linesearch and damped Newton methods"
   ]
  },
  {
   "cell_type": "code",
   "execution_count": 26,
   "metadata": {
    "scrolled": true
   },
   "outputs": [
    {
     "name": "stderr",
     "output_type": "stream",
     "text": [
      "/Users/Schreuder/anaconda/lib/python3.5/site-packages/ipykernel_launcher.py:3: RuntimeWarning: invalid value encountered in log\n",
      "  This is separate from the ipykernel package so we can avoid doing imports until\n"
     ]
    }
   ],
   "source": [
    "# Damped Newton method\n",
    "plots = []\n",
    "w_opt, hist = barrMethod(Q, p, A, b, x0, 5, tol, BTlinesearch=False)\n",
    "w_dual, hist_dual = barrMethod(Q_dual, p_dual, A_dual, \n",
    "                               b_dual, x0_dual, 5, tol)\n",
    "\n",
    "# Computes duality gap for each iteration\n",
    "plots.append([phi_uc(hist[k], Q, p) + phi_uc(hist_dual[k], Q_dual, p_dual) \n",
    "              for k in range(1, len(hist))])\n",
    "\n",
    "\n",
    "# Backtracking linesearch method\n",
    "w_opt, hist = barrMethod(Q, p, A, b, x0, 5, tol, BTlinesearch=True)\n",
    "w_dual, hist_dual = barrMethod(Q_dual, p_dual, A_dual, \n",
    "                               b_dual, x0_dual, 5, tol)\n",
    "\n",
    "# Computes duality gap for each iteration\n",
    "plots.append([phi_uc(hist[k], Q, p) + phi_uc(hist_dual[k], Q_dual, p_dual) \n",
    "              for k in range(1, len(hist))])"
   ]
  },
  {
   "cell_type": "code",
   "execution_count": 27,
   "metadata": {},
   "outputs": [
    {
     "data": {
      "image/png": "[encoded data removed]",
      "text/plain": [
       "<matplotlib.figure.Figure at 0x10b8026a0>"
      ]
     },
     "metadata": {},
     "output_type": "display_data"
    }
   ],
   "source": [
    "for i, plot in enumerate(plots):\n",
    "    plt.step(range(len(plot)), plot)\n",
    "    \n",
    "plt.legend([\"Damped Newton\", \"Backtracking linesearch\"], title='Method')\n",
    "plt.xlabel('Number of iterations')\n",
    "plt.ylabel('Duality gap')\n",
    "plt.yscale('log')\n",
    "plt.title('Damped Newton versus backtracking linesearch')\n",
    "plt.show()"
   ]
  },
  {
   "cell_type": "markdown",
   "metadata": {},
   "source": [
    "### Comments :\n",
    "- Backtracking linesearch returns slightly smaller duality gaps for each iteration\n",
    "- The difference in terms of duality gap between the two methods seems roughly constant in the number of iterations"
   ]
  },
  {
   "cell_type": "markdown",
   "metadata": {},
   "source": [
    "## Optional : Simulated mixture of Gaussians dataset"
   ]
  },
  {
   "cell_type": "markdown",
   "metadata": {},
   "source": [
    "I generated a dataset consisting of two 2D-Gaussians with different means and covariance to visualize the results of the SVM."
   ]
  },
  {
   "cell_type": "code",
   "execution_count": 28,
   "metadata": {
    "scrolled": false
   },
   "outputs": [
    {
     "data": {
      "text/plain": [
       "<matplotlib.text.Text at 0x10b92a710>"
      ]
     },
     "execution_count": 28,
     "metadata": {},
     "output_type": "execute_result"
    },
    {
     "data": {
      "image/png": "[encoded data removed]",
      "text/plain": [
       "<matplotlib.figure.Figure at 0x10b9117f0>"
      ]
     },
     "metadata": {},
     "output_type": "display_data"
    }
   ],
   "source": [
    "# Data generation\n",
    "n_samples = 200\n",
    "\n",
    "blob1 = np.random.multivariate_normal([0,0], 0.2*np.eye(2), n_samples)\n",
    "blob2 = np.random.multivariate_normal([1,1], 0.07*np.eye(2), n_samples)\n",
    "\n",
    "X_blob = np.concatenate((blob1, blob2))\n",
    "X_blob = np.concatenate((X_blob, np.ones((n_samples*2,1))), axis=1) # to account for offset\n",
    "y_blob = np.concatenate((np.ones(n_samples), -np.ones(n_samples)))\n",
    "\n",
    "plt.scatter(X_blob[:,0], X_blob[:,1], c=y_blob)\n",
    "plt.title(\"2 Gaussian blobs\")"
   ]
  },
  {
   "cell_type": "code",
   "execution_count": 29,
   "metadata": {},
   "outputs": [
    {
     "data": {
      "text/plain": [
       "array([-3.2681735 , -2.83703845,  3.4043288 ])"
      ]
     },
     "execution_count": 29,
     "metadata": {},
     "output_type": "execute_result"
    }
   ],
   "source": [
    "# Randomize train/test split : 80% train/20% test\n",
    "X_blob_train, X_blob_test, y_blob_train, y_blob_test = train_test_split(X_blob, y_blob, \n",
    "                                                                        test_size=0.20, \n",
    "                                                                        random_state=42)\n",
    "\n",
    "tau = 0.001\n",
    "n, d = X_blob_train.shape\n",
    "\n",
    "(Q, p, A, b) = transformSvmPrimal(tau, X_blob_train, y_blob_train)\n",
    "\n",
    "x0 = np.concatenate((np.zeros(d), 1.1*np.ones(n)))\n",
    "\n",
    "w_opt = barrMethod(Q, p, A, b, x0, 10, 0.1)[0][:3]\n",
    "w_opt"
   ]
  },
  {
   "cell_type": "code",
   "execution_count": 30,
   "metadata": {},
   "outputs": [
    {
     "name": "stdout",
     "output_type": "stream",
     "text": [
      "Train accuracy score : 0.971875\n",
      "Test accuracy score : 0.9625\n",
      "Test average precision : 0.971894820296\n"
     ]
    }
   ],
   "source": [
    "train_pred = sign(np.dot(X_blob_train, w_opt[:3]))\n",
    "test_pred = sign(np.dot(X_blob_test, w_opt[:3]))\n",
    "\n",
    "print(\"Train accuracy score : \" + \n",
    "      str(sklearn.metrics.accuracy_score(train_pred, y_blob_train)))\n",
    "print(\"Test accuracy score : \" + \n",
    "      str(sklearn.metrics.accuracy_score(test_pred, y_blob_test)))\n",
    "print(\"Test average precision : \" + \n",
    "      str(sklearn.metrics.average_precision_score(test_pred, y_blob_test)))"
   ]
  },
  {
   "cell_type": "code",
   "execution_count": 31,
   "metadata": {
    "scrolled": true
   },
   "outputs": [
    {
     "data": {
      "text/plain": [
       "<matplotlib.text.Text at 0x10b807898>"
      ]
     },
     "execution_count": 31,
     "metadata": {},
     "output_type": "execute_result"
    },
    {
     "data": {
      "image/png": "[encoded data removed]",
      "text/plain": [
       "<matplotlib.figure.Figure at 0x10b86b7b8>"
      ]
     },
     "metadata": {},
     "output_type": "display_data"
    }
   ],
   "source": [
    "plt.scatter(X_blob[:,0], X_blob[:,1], c=y_blob)\n",
    "\n",
    "plt.plot(np.linspace(-5,5, 10), [-(w_opt[0]*x + w_opt[2])/w_opt[1] \n",
    "                                 for x in np.linspace(-5,5,10)])\n",
    "plt.xlim(-1 ,2)\n",
    "plt.ylim(-2, 2)\n",
    "plt.title('SVM hyperplan vizualization')"
   ]
  }
 ],
 "metadata": {
  "kernelspec": {
   "display_name": "Python 3",
   "language": "python",
   "name": "python3"
  },
  "language_info": {
   "codemirror_mode": {
    "name": "ipython",
    "version": 3
   },
   "file_extension": ".py",
   "mimetype": "text/x-python",
   "name": "python",
   "nbconvert_exporter": "python",
   "pygments_lexer": "ipython3",
   "version": "3.5.3"
  }
 },
 "nbformat": 4,
 "nbformat_minor": 2
}
