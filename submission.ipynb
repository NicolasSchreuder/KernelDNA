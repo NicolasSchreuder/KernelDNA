{
 "cells": [
  {
   "cell_type": "code",
   "execution_count": 3,
   "metadata": {
    "collapsed": true
   },
   "outputs": [],
   "source": [
    "from SVM import SVM\n",
    "from processing import load_mat50, load_y\n",
    "import numpy as np\n",
    "\n",
    "import pandas as pd"
   ]
  },
  {
   "cell_type": "markdown",
   "metadata": {},
   "source": [
    "# Linear SVM"
   ]
  },
  {
   "cell_type": "code",
   "execution_count": 46,
   "metadata": {},
   "outputs": [
    {
     "name": "stdout",
     "output_type": "stream",
     "text": [
      "51\n",
      "[-0.85843155]\n",
      "[-1.02332483]\n",
      "51\n",
      "[1.07621044]\n",
      "[0.75863702]\n",
      "51\n",
      "[1.04927601]\n",
      "[0.94878278]\n"
     ]
    }
   ],
   "source": [
    "# load SVM\n",
    "SVM_classifier = SVM(0.01)\n",
    "y = np.zeros((3000,))\n",
    "for i in range(3):\n",
    "    SVM_classifier.load('SVM_{}.npy'.format(i))\n",
    "    w = SVM_classifier.get_weights()\n",
    "    print(len(w))\n",
    "    X = load_mat50(\"data/test/Xte{}_mat50.csv\".format(i))\n",
    "    n,d = X.shape\n",
    "    X = np.concatenate([X,np.ones((n,1))], axis=1)\n",
    "    print(max(np.dot(X,w)))\n",
    "    print(min(np.dot(X,w)))\n",
    "    #print(SVM_classifier.pred(X)[140:150])\n",
    "    y[1000*i:1000*(i+1)] = np.reshape(SVM_classifier.pred(X), (1000,))"
   ]
  },
  {
   "cell_type": "code",
   "execution_count": 59,
   "metadata": {
    "collapsed": true
   },
   "outputs": [],
   "source": [
    "y = (y+1)/2 # to have y in 0 and 1"
   ]
  },
  {
   "cell_type": "code",
   "execution_count": 60,
   "metadata": {
    "collapsed": true
   },
   "outputs": [],
   "source": [
    "df = pd.DataFrame(y, columns=['Bound'])\n",
    "df.index.name = 'Id'\n",
    "df.Bound = df.Bound.astype(int)\n",
    "df.to_csv('test.csv')\n"
   ]
  },
  {
   "cell_type": "markdown",
   "metadata": {
    "collapsed": true
   },
   "source": [
    "# Kernel SVM"
   ]
  },
  {
   "cell_type": "code",
   "execution_count": 4,
   "metadata": {
    "collapsed": true
   },
   "outputs": [],
   "source": [
    "from kernel import spectrum_kernel\n",
    "\n",
    "from KernelSVM import KernelSVM"
   ]
  },
  {
   "cell_type": "code",
   "execution_count": 5,
   "metadata": {},
   "outputs": [],
   "source": [
    "# load SVM\n",
    "SVM_classifier = KernelSVM(lambda_reg = 0.1, kernel = spectrum_kernel, data_type='DNA')\n",
    "y = np.zeros((3000,))\n",
    "for i in range(3):\n",
    "    SVM_classifier.load('SVM_{}.npy'.format(i), 'Xtrain_{}.npy'.format(i))\n",
    "    \n",
    "    f = open('data/test/Xte{}.csv'.format(i), 'r')\n",
    "    X = [line.strip('\\n') for line in f.readlines()]\n",
    "    f.close()\n",
    "\n",
    "    y[1000*i:1000*(i+1)] = np.reshape(SVM_classifier.pred(X), (1000,))"
   ]
  },
  {
   "cell_type": "code",
   "execution_count": 6,
   "metadata": {
    "collapsed": true
   },
   "outputs": [],
   "source": [
    "y = (y+1)/2 # to have y in 0 and 1"
   ]
  },
  {
   "cell_type": "code",
   "execution_count": 7,
   "metadata": {
    "collapsed": true
   },
   "outputs": [],
   "source": [
    "df = pd.DataFrame(y, columns=['Bound'])\n",
    "df.index.name = 'Id'\n",
    "df.Bound = df.Bound.astype(int)\n",
    "df.to_csv('test.csv')"
   ]
  },
  {
   "cell_type": "code",
   "execution_count": null,
   "metadata": {
    "collapsed": true
   },
   "outputs": [],
   "source": []
  }
 ],
 "metadata": {
  "kernelspec": {
   "display_name": "Python 3",
   "language": "python",
   "name": "python3"
  },
  "language_info": {
   "codemirror_mode": {
    "name": "ipython",
    "version": 3
   },
   "file_extension": ".py",
   "mimetype": "text/x-python",
   "name": "python",
   "nbconvert_exporter": "python",
   "pygments_lexer": "ipython3",
   "version": "3.5.3"
  }
 },
 "nbformat": 4,
 "nbformat_minor": 2
}
