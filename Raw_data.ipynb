{
 "cells": [
  {
   "cell_type": "markdown",
   "metadata": {
    "collapsed": true
   },
   "source": [
    "# Raw DNA strings"
   ]
  },
  {
   "cell_type": "markdown",
   "metadata": {},
   "source": [
    "In this notebook we train SVM on string data (DNA strings)."
   ]
  },
  {
   "cell_type": "code",
   "execution_count": 1,
   "metadata": {},
   "outputs": [],
   "source": [
    "from kernel import spectrum_kernel\n",
    "\n",
    "from KernelSVM import KernelSVM\n",
    "\n",
    "import numpy as np\n",
    "\n",
    "from processing import train_test_split, load_y\n",
    "\n",
    "import pandas as pd"
   ]
  },
  {
   "cell_type": "markdown",
   "metadata": {},
   "source": [
    "# Load and pre-process data"
   ]
  },
  {
   "cell_type": "code",
   "execution_count": 78,
   "metadata": {
    "scrolled": true
   },
   "outputs": [
    {
     "name": "stdout",
     "output_type": "stream",
     "text": [
      "First DNA string : \n"
     ]
    },
    {
     "data": {
      "text/plain": [
       "'TCCTCAACTTTTATTGGGCCGCTGTGGCACCAGAATCTACGAATGGCGCCCTCTAGAGTTGTGTAAAGAAGTGGCGTCACCTCATTATAAATAAAAGGTTG'"
      ]
     },
     "execution_count": 78,
     "metadata": {},
     "output_type": "execute_result"
    }
   ],
   "source": [
    "data = []\n",
    "\n",
    "dataset_index = '0'\n",
    "\n",
    "# load DNA strings \n",
    "f = open('data/train/Xtr{}.csv'.format(dataset_index), 'r')\n",
    "data += [line.strip('\\n') for line in f.readlines()]\n",
    "f.close()\n",
    "\n",
    "# load target vector \n",
    "y = (load_y(\"data/train/Ytr{}.csv\".format(dataset_index)))\n",
    "y = 2*y - 1 # transform y to lie in {-1, 1} instead of {0, 1}\n",
    "y = np.reshape(y.astype(float), -1) # \n",
    "\n",
    "print('First DNA string : ')\n",
    "data[0]"
   ]
  },
  {
   "cell_type": "code",
   "execution_count": 80,
   "metadata": {},
   "outputs": [],
   "source": [
    "# train-test split \n",
    "X_train, y_train, X_test, y_test = data[:1500], y[:1500], data[1500:], y[1500:]\n",
    "#X_train, y_train, X_test, y_test = X_train[:300], y_train[:300], X_test[:100], y_test[:100]"
   ]
  },
  {
   "cell_type": "markdown",
   "metadata": {},
   "source": [
    "# Train"
   ]
  },
  {
   "cell_type": "code",
   "execution_count": 81,
   "metadata": {
    "scrolled": true
   },
   "outputs": [
    {
     "name": "stderr",
     "output_type": "stream",
     "text": [
      "Building kernel matrix: 100%|██████████| 1500/1500 [00:19<00:00, 75.99it/s] \n"
     ]
    },
    {
     "name": "stdout",
     "output_type": "stream",
     "text": [
      "     pcost       dcost       gap    pres   dres\n",
      " 0: -2.5774e+01 -3.0306e+01  4e+03  6e+01  5e-15\n",
      " 1: -2.5149e+01 -2.6832e+01  3e+02  5e+00  5e-15\n",
      " 2: -1.6123e+01 -1.7304e+01  9e+01  1e+00  4e-15\n",
      " 3: -8.4431e+00 -1.4228e+01  2e+01  1e-01  2e-15\n",
      " 4: -7.5947e+00 -1.0041e+01  3e+00  1e-02  8e-16\n",
      " 5: -7.8488e+00 -8.2831e+00  5e-01  2e-03  8e-16\n",
      " 6: -7.9639e+00 -8.0170e+00  6e-02  1e-04  9e-16\n",
      " 7: -7.9828e+00 -7.9870e+00  4e-03  8e-06  8e-16\n",
      " 8: -7.9845e+00 -7.9846e+00  2e-04  2e-07  9e-16\n"
     ]
    },
    {
     "name": "stderr",
     "output_type": "stream",
     "text": [
      "Predicting values:   0%|          | 1/500 [00:00<00:51,  9.77it/s]"
     ]
    },
    {
     "name": "stdout",
     "output_type": "stream",
     "text": [
      " 9: -7.9845e+00 -7.9845e+00  7e-06  3e-09  9e-16\n",
      "Optimal solution found.\n"
     ]
    },
    {
     "name": "stderr",
     "output_type": "stream",
     "text": [
      "Predicting values: 100%|██████████| 500/500 [00:40<00:00, 12.46it/s]\n",
      "Building kernel matrix: 100%|██████████| 1500/1500 [00:16<00:00, 91.95it/s] \n"
     ]
    },
    {
     "name": "stdout",
     "output_type": "stream",
     "text": [
      "     pcost       dcost       gap    pres   dres\n",
      " 0: -2.5773e+01 -2.8899e+01  4e+03  6e+01  5e-15\n",
      " 1: -2.5142e+01 -2.5374e+01  3e+02  5e+00  5e-15\n",
      " 2: -1.5927e+01 -1.5273e+01  9e+01  1e+00  3e-15\n",
      " 3: -7.8542e+00 -1.2062e+01  2e+01  1e-01  2e-15\n",
      " 4: -6.5868e+00 -8.9192e+00  3e+00  1e-02  9e-16\n",
      " 5: -6.7690e+00 -7.1725e+00  5e-01  2e-03  7e-16\n",
      " 6: -6.8753e+00 -6.9264e+00  5e-02  1e-04  7e-16\n",
      " 7: -6.8937e+00 -6.8976e+00  4e-03  9e-06  7e-16\n",
      " 8: -6.8953e+00 -6.8954e+00  1e-04  2e-07  7e-16\n"
     ]
    },
    {
     "name": "stderr",
     "output_type": "stream",
     "text": [
      "Predicting values:   0%|          | 2/500 [00:00<00:38, 13.06it/s]"
     ]
    },
    {
     "name": "stdout",
     "output_type": "stream",
     "text": [
      " 9: -6.8954e+00 -6.8954e+00  5e-06  3e-09  7e-16\n",
      "Optimal solution found.\n"
     ]
    },
    {
     "name": "stderr",
     "output_type": "stream",
     "text": [
      "Predicting values: 100%|██████████| 500/500 [00:36<00:00, 13.58it/s]\n",
      "Building kernel matrix: 100%|██████████| 1500/1500 [00:15<00:00, 94.68it/s] \n"
     ]
    },
    {
     "name": "stdout",
     "output_type": "stream",
     "text": [
      "     pcost       dcost       gap    pres   dres\n",
      " 0: -2.5772e+01 -2.7961e+01  4e+03  6e+01  5e-15\n",
      " 1: -2.5137e+01 -2.4398e+01  3e+02  5e+00  5e-15\n",
      " 2: -1.5794e+01 -1.3893e+01  9e+01  1e+00  3e-15\n",
      " 3: -7.4372e+00 -1.0514e+01  2e+01  2e-01  2e-15\n",
      " 4: -5.8147e+00 -8.0503e+00  3e+00  1e-02  1e-15\n",
      " 5: -5.9618e+00 -6.3205e+00  4e-01  1e-03  6e-16\n",
      " 6: -6.0628e+00 -6.1127e+00  5e-02  1e-04  7e-16\n",
      " 7: -6.0815e+00 -6.0854e+00  4e-03  8e-06  6e-16\n",
      " 8: -6.0831e+00 -6.0833e+00  2e-04  4e-07  6e-16\n",
      " 9: -6.0832e+00 -6.0832e+00  8e-06  1e-08  6e-16\n"
     ]
    },
    {
     "name": "stderr",
     "output_type": "stream",
     "text": [
      "Predicting values:   0%|          | 2/500 [00:00<00:39, 12.58it/s]"
     ]
    },
    {
     "name": "stdout",
     "output_type": "stream",
     "text": [
      "10: -6.0832e+00 -6.0832e+00  3e-07  1e-10  7e-16\n",
      "Optimal solution found.\n"
     ]
    },
    {
     "name": "stderr",
     "output_type": "stream",
     "text": [
      "Predicting values: 100%|██████████| 500/500 [00:36<00:00, 13.60it/s]\n",
      "Building kernel matrix: 100%|██████████| 1500/1500 [00:16<00:00, 89.77it/s] \n"
     ]
    },
    {
     "name": "stdout",
     "output_type": "stream",
     "text": [
      "     pcost       dcost       gap    pres   dres\n",
      " 0: -2.5772e+01 -2.7290e+01  4e+03  6e+01  5e-15\n",
      " 1: -2.5133e+01 -2.3700e+01  3e+02  5e+00  5e-15\n",
      " 2: -1.5697e+01 -1.2895e+01  9e+01  1e+00  3e-15\n",
      " 3: -7.1888e+00 -9.3637e+00  2e+01  2e-01  2e-15\n",
      " 4: -5.2141e+00 -7.3556e+00  3e+00  1e-02  8e-16\n",
      " 5: -5.3294e+00 -5.6772e+00  4e-01  1e-03  5e-16\n",
      " 6: -5.4253e+00 -5.4824e+00  6e-02  1e-04  5e-16\n",
      " 7: -5.4469e+00 -5.4500e+00  3e-03  5e-06  6e-16\n",
      " 8: -5.4483e+00 -5.4484e+00  1e-04  1e-07  6e-16\n"
     ]
    },
    {
     "name": "stderr",
     "output_type": "stream",
     "text": [
      "Predicting values:   0%|          | 2/500 [00:00<00:39, 12.52it/s]"
     ]
    },
    {
     "name": "stdout",
     "output_type": "stream",
     "text": [
      " 9: -5.4483e+00 -5.4483e+00  4e-06  2e-09  6e-16\n",
      "Optimal solution found.\n"
     ]
    },
    {
     "name": "stderr",
     "output_type": "stream",
     "text": [
      "Predicting values: 100%|██████████| 500/500 [00:37<00:00, 13.50it/s]\n",
      "Building kernel matrix: 100%|██████████| 1500/1500 [00:16<00:00, 92.14it/s] \n"
     ]
    },
    {
     "name": "stdout",
     "output_type": "stream",
     "text": [
      "     pcost       dcost       gap    pres   dres\n",
      " 0: -2.5772e+01 -2.6786e+01  4e+03  6e+01  5e-15\n",
      " 1: -2.5130e+01 -2.3175e+01  3e+02  5e+00  5e-15\n",
      " 2: -1.5624e+01 -1.2139e+01  9e+01  1e+00  3e-15\n",
      " 3: -7.0061e+00 -8.4734e+00  2e+01  2e-01  2e-15\n",
      " 4: -4.7324e+00 -6.7574e+00  3e+00  1e-02  9e-16\n",
      " 5: -4.8227e+00 -5.1225e+00  3e-01  9e-04  5e-16\n",
      " 6: -4.9137e+00 -4.9606e+00  5e-02  1e-04  5e-16\n",
      " 7: -4.9320e+00 -4.9356e+00  4e-03  6e-06  5e-16\n",
      " 8: -4.9336e+00 -4.9337e+00  1e-04  2e-07  5e-16\n"
     ]
    },
    {
     "name": "stderr",
     "output_type": "stream",
     "text": [
      "Predicting values:   0%|          | 2/500 [00:00<00:39, 12.63it/s]"
     ]
    },
    {
     "name": "stdout",
     "output_type": "stream",
     "text": [
      " 9: -4.9336e+00 -4.9336e+00  2e-06  2e-09  5e-16\n",
      "Optimal solution found.\n"
     ]
    },
    {
     "name": "stderr",
     "output_type": "stream",
     "text": [
      "Predicting values: 100%|██████████| 500/500 [00:36<00:00, 13.56it/s]\n"
     ]
    }
   ],
   "source": [
    "#Grid search for parameters\n",
    "\n",
    "kernel_parameters_list = [{'k':3},{'k':5},{'k':6}]\n",
    "#kernel_parameters_list = [{'k':6}]\n",
    "best_score = 0\n",
    "best_param = None\n",
    "\n",
    "for kernel_parameters in kernel_parameters_list:\n",
    "    for lambda_reg in np.linspace(0.08,0.16,5):\n",
    "        \n",
    "\n",
    "        svm = KernelSVM(lambda_reg = lambda_reg, kernel = spectrum_kernel, \n",
    "                        kernel_parameters = kernel_parameters, data_type='string')\n",
    "\n",
    "        # train svm\n",
    "        svm.fit(X_train, y_train)\n",
    "\n",
    "        y_pred = svm.pred(X_test)\n",
    "\n",
    "        #print('Score : ')\n",
    "        #sum(y_test == y_pred)/len(y_test)\n",
    "        score = sum(y_test == y_pred)/len(y_test)\n",
    "        if score > best_score:\n",
    "            best_score=score\n",
    "            best_param = lambda_reg, kernel_parameters"
   ]
  },
  {
   "cell_type": "code",
   "execution_count": 82,
   "metadata": {},
   "outputs": [
    {
     "name": "stdout",
     "output_type": "stream",
     "text": [
      "0.776\n",
      "(0.12, {'k': 6})\n"
     ]
    }
   ],
   "source": [
    "print(best_score)\n",
    "print(best_param)\n"
   ]
  },
  {
   "cell_type": "markdown",
   "metadata": {},
   "source": [
    "# Submission"
   ]
  },
  {
   "cell_type": "code",
   "execution_count": 3,
   "metadata": {},
   "outputs": [
    {
     "name": "stderr",
     "output_type": "stream",
     "text": [
      "Building kernel matrix: 100%|██████████| 1500/1500 [00:16<00:00, 92.03it/s] \n"
     ]
    },
    {
     "name": "stdout",
     "output_type": "stream",
     "text": [
      "     pcost       dcost       gap    pres   dres\n",
      " 0: -2.5772e+01 -2.7961e+01  4e+03  6e+01  5e-15\n",
      " 1: -2.5137e+01 -2.4398e+01  3e+02  5e+00  5e-15\n",
      " 2: -1.5794e+01 -1.3893e+01  9e+01  1e+00  3e-15\n",
      " 3: -7.4372e+00 -1.0514e+01  2e+01  2e-01  2e-15\n",
      " 4: -5.8147e+00 -8.0503e+00  3e+00  1e-02  1e-15\n",
      " 5: -5.9618e+00 -6.3205e+00  4e-01  1e-03  6e-16\n",
      " 6: -6.0628e+00 -6.1127e+00  5e-02  1e-04  7e-16\n",
      " 7: -6.0815e+00 -6.0854e+00  4e-03  8e-06  6e-16\n",
      " 8: -6.0831e+00 -6.0833e+00  2e-04  4e-07  6e-16\n",
      " 9: -6.0832e+00 -6.0832e+00  8e-06  1e-08  6e-16\n"
     ]
    },
    {
     "name": "stderr",
     "output_type": "stream",
     "text": [
      "Predicting values:   0%|          | 2/500 [00:00<00:40, 12.26it/s]"
     ]
    },
    {
     "name": "stdout",
     "output_type": "stream",
     "text": [
      "10: -6.0832e+00 -6.0832e+00  3e-07  1e-10  7e-16\n",
      "Optimal solution found.\n"
     ]
    },
    {
     "name": "stderr",
     "output_type": "stream",
     "text": [
      "Predicting values: 100%|██████████| 500/500 [00:37<00:00, 13.25it/s]\n",
      "Predicting values:   0%|          | 2/1000 [00:00<01:17, 12.95it/s]"
     ]
    },
    {
     "name": "stdout",
     "output_type": "stream",
     "text": [
      "0.776\n"
     ]
    },
    {
     "name": "stderr",
     "output_type": "stream",
     "text": [
      "Predicting values: 100%|██████████| 1000/1000 [01:14<00:00, 13.34it/s]\n",
      "Building kernel matrix: 100%|██████████| 1500/1500 [00:15<00:00, 93.92it/s] \n"
     ]
    },
    {
     "name": "stdout",
     "output_type": "stream",
     "text": [
      "     pcost       dcost       gap    pres   dres\n",
      " 0: -1.5045e+01 -2.7338e+01  3e+03  6e+01  3e-15\n",
      " 1: -1.4808e+01 -2.5674e+01  2e+02  3e+00  3e-15\n",
      " 2: -1.0547e+01 -2.1220e+01  6e+01  8e-01  2e-15\n",
      " 3: -7.5712e+00 -1.9048e+01  3e+01  2e-01  1e-15\n",
      " 4: -6.9652e+00 -1.0953e+01  4e+00  8e-03  1e-15\n",
      " 5: -7.4578e+00 -8.0999e+00  7e-01  1e-03  1e-15\n",
      " 6: -7.6146e+00 -7.7036e+00  9e-02  1e-04  1e-15\n",
      " 7: -7.6402e+00 -7.6468e+00  7e-03  5e-06  1e-15\n",
      " 8: -7.6424e+00 -7.6427e+00  3e-04  1e-07  1e-15\n",
      " 9: -7.6425e+00 -7.6425e+00  1e-05  2e-09  1e-15\n"
     ]
    },
    {
     "name": "stderr",
     "output_type": "stream",
     "text": [
      "Predicting values:   0%|          | 2/500 [00:00<00:39, 12.61it/s]"
     ]
    },
    {
     "name": "stdout",
     "output_type": "stream",
     "text": [
      "10: -7.6425e+00 -7.6425e+00  6e-07  3e-11  1e-15\n",
      "Optimal solution found.\n"
     ]
    },
    {
     "name": "stderr",
     "output_type": "stream",
     "text": [
      "Predicting values: 100%|██████████| 500/500 [00:37<00:00, 13.28it/s]\n",
      "Predicting values:   0%|          | 1/1000 [00:00<01:40,  9.90it/s]"
     ]
    },
    {
     "name": "stdout",
     "output_type": "stream",
     "text": [
      "0.876\n"
     ]
    },
    {
     "name": "stderr",
     "output_type": "stream",
     "text": [
      "Predicting values: 100%|██████████| 1000/1000 [01:14<00:00, 13.36it/s]\n",
      "Building kernel matrix: 100%|██████████| 1500/1500 [00:20<00:00, 72.09it/s] \n"
     ]
    },
    {
     "name": "stdout",
     "output_type": "stream",
     "text": [
      "     pcost       dcost       gap    pres   dres\n",
      " 0: -2.1606e+03 -3.6473e+01  3e+04  2e+02  2e-12\n",
      " 1: -9.6788e+01 -3.2830e+01  1e+03  6e+00  1e-12\n",
      " 2: -1.1958e+01 -2.9315e+01  5e+01  2e-01  8e-14\n",
      " 3: -9.4483e+00 -1.7181e+01  8e+00  5e-17  8e-15\n",
      " 4: -1.0561e+01 -1.1998e+01  1e+00  3e-17  7e-15\n",
      " 5: -1.0934e+01 -1.1411e+01  5e-01  4e-17  6e-15\n",
      " 6: -1.1077e+01 -1.1195e+01  1e-01  4e-17  7e-15\n",
      " 7: -1.1118e+01 -1.1138e+01  2e-02  4e-17  7e-15\n",
      " 8: -1.1126e+01 -1.1128e+01  2e-03  4e-17  8e-15\n",
      " 9: -1.1127e+01 -1.1127e+01  6e-05  4e-17  8e-15\n"
     ]
    },
    {
     "name": "stderr",
     "output_type": "stream",
     "text": [
      "Predicting values:   0%|          | 2/500 [00:00<00:40, 12.20it/s]"
     ]
    },
    {
     "name": "stdout",
     "output_type": "stream",
     "text": [
      "10: -1.1127e+01 -1.1127e+01  1e-06  4e-17  8e-15\n",
      "Optimal solution found.\n"
     ]
    },
    {
     "name": "stderr",
     "output_type": "stream",
     "text": [
      "Predicting values: 100%|██████████| 500/500 [00:38<00:00, 13.03it/s]\n",
      "Predicting values:   0%|          | 2/1000 [00:00<01:19, 12.62it/s]"
     ]
    },
    {
     "name": "stdout",
     "output_type": "stream",
     "text": [
      "0.656\n"
     ]
    },
    {
     "name": "stderr",
     "output_type": "stream",
     "text": [
      "Predicting values: 100%|██████████| 1000/1000 [01:14<00:00, 13.41it/s]\n"
     ]
    }
   ],
   "source": [
    "y_pred = np.zeros((3000,))\n",
    "\n",
    "lambda_opt=[0.12,0.04,0.066]\n",
    "kernel_parameters_opt=[{'k':6}, {'k':6}, {'k':4}]\n",
    "\n",
    "for dataset_index in range(3):\n",
    "    # load DNA strings \n",
    "    data = []\n",
    "    f = open('data/train/Xtr{}.csv'.format(dataset_index), 'r')\n",
    "    data += [line.strip('\\n') for line in f.readlines()]\n",
    "    f.close()\n",
    "\n",
    "    # load target vector \n",
    "    y = (load_y(\"data/train/Ytr{}.csv\".format(dataset_index)))\n",
    "    y = 2*y - 1 # transform y to lie in {-1, 1} instead of {0, 1}\n",
    "    y = np.reshape(y.astype(float), -1) # \n",
    "\n",
    "    X_train, y_train, X_test, y_test = data[:1500], y[:1500], data[1500:], y[1500:]\n",
    "    \n",
    "    lambda_reg=lambda_opt[dataset_index]\n",
    "    kernel_parameters=kernel_parameters_opt[dataset_index]\n",
    "\n",
    "    SVM = KernelSVM(lambda_reg = lambda_reg, kernel = spectrum_kernel, \n",
    "                    kernel_parameters = kernel_parameters, data_type='string')\n",
    "    \n",
    "    SVM.fit(X_train, y_train)\n",
    "    y_loc = SVM.pred(X_test)\n",
    "    print(sum(y_test == y_loc)/len(y_test))\n",
    "    \n",
    "    #SVM.load('SVM_opt{}.npy'.format(i), 'Xtrain_{}.npy'.format(i) )\n",
    "    \n",
    "    \n",
    "    f_ = open('data/test/Xte{}.csv'.format(dataset_index), 'r')\n",
    "    X = [line.strip('\\n') for line in f_.readlines()]\n",
    "    f_.close()\n",
    "\n",
    "    y_pred[1000*dataset_index:1000*(dataset_index+1)] = np.reshape(SVM.pred(X), (1000,))"
   ]
  },
  {
   "cell_type": "code",
   "execution_count": 5,
   "metadata": {},
   "outputs": [
    {
     "name": "stdout",
     "output_type": "stream",
     "text": [
      "1519.0\n"
     ]
    }
   ],
   "source": [
    "y_pred = (y_pred+1)/2 # to have y in 0 and 1\n",
    "df = pd.DataFrame(y_pred, columns=['Bound'])\n",
    "df.index.name = 'Id'\n",
    "df.Bound = df.Bound.astype(int)\n",
    "df.to_csv('submit_good_last_.csv')"
   ]
  }
 ],
 "metadata": {
  "kernelspec": {
   "display_name": "Python 3",
   "language": "python",
   "name": "python3"
  },
  "language_info": {
   "codemirror_mode": {
    "name": "ipython",
    "version": 3
   },
   "file_extension": ".py",
   "mimetype": "text/x-python",
   "name": "python",
   "nbconvert_exporter": "python",
   "pygments_lexer": "ipython3",
   "version": "3.5.2"
  }
 },
 "nbformat": 4,
 "nbformat_minor": 2
}
