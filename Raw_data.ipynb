{
 "cells": [
  {
   "cell_type": "markdown",
   "metadata": {
    "collapsed": true
   },
   "source": [
    "# Raw DNA strings"
   ]
  },
  {
   "cell_type": "markdown",
   "metadata": {},
   "source": [
    "In this notebook we train SVM on string data (DNA strings)."
   ]
  },
  {
   "cell_type": "code",
   "execution_count": 1,
   "metadata": {},
   "outputs": [],
   "source": [
    "from kernel import *\n",
    "\n",
    "from KernelSVM import KernelSVM\n",
    "\n",
    "import numpy as np\n",
    "\n",
    "from processing import train_test_split, load_y\n",
    "\n",
    "import pandas as pd"
   ]
  },
  {
   "cell_type": "markdown",
   "metadata": {},
   "source": [
    "# Load and pre-process data"
   ]
  },
  {
   "cell_type": "code",
   "execution_count": 2,
   "metadata": {
    "scrolled": true
   },
   "outputs": [
    {
     "name": "stdout",
     "output_type": "stream",
     "text": [
      "First DNA string : \n"
     ]
    },
    {
     "data": {
      "text/plain": [
       "'GAAAAAACGTTAGCAAACAAGGAACAAAGACAAAGCTGTCAACGGTCCATGGAATCTTGAAATTTAAATAATTGTTACACATTTTGTTTTGTTCTAACTGT'"
      ]
     },
     "execution_count": 2,
     "metadata": {},
     "output_type": "execute_result"
    }
   ],
   "source": [
    "data = []\n",
    "\n",
    "dataset_index = '2'\n",
    "\n",
    "# load DNA strings \n",
    "f = open('data/train/Xtr{}.csv'.format(dataset_index), 'r')\n",
    "data += [line.strip('\\n') for line in f.readlines()]\n",
    "f.close()\n",
    "\n",
    "# load target vector \n",
    "y = (load_y(\"data/train/Ytr{}.csv\".format(dataset_index)))\n",
    "y = 2*y - 1 # transform y to lie in {-1, 1} instead of {0, 1}\n",
    "y = np.reshape(y.astype(float), -1) # \n",
    "\n",
    "print('First DNA string : ')\n",
    "data[0]"
   ]
  },
  {
   "cell_type": "code",
   "execution_count": 3,
   "metadata": {
    "collapsed": true
   },
   "outputs": [],
   "source": [
    "X_train, y_train, X_test, y_test = data[:1500], y[:1500], data[1500:], y[1500:]\n",
    "#X_train, y_train, X_test, y_test = X_train[:75], y_train[:75], X_test[:25], y_test[:25]"
   ]
  },
  {
   "cell_type": "markdown",
   "metadata": {},
   "source": [
    "# Train"
   ]
  },
  {
   "cell_type": "markdown",
   "metadata": {},
   "source": [
    "### Kitchen sink"
   ]
  },
  {
   "cell_type": "code",
   "execution_count": null,
   "metadata": {
    "scrolled": true
   },
   "outputs": [
    {
     "name": "stdout",
     "output_type": "stream",
     "text": [
      "Train set lifted\n",
      "Test set lifted\n",
      "Gamma : 0.6, Lambda : 0.01, Score: 66.4\n",
      "Gamma : 0.6, Lambda : 0.06210526315789474, Score: 64.60000000000001\n",
      "Gamma : 0.6, Lambda : 0.11421052631578947, Score: 65.0\n",
      "Gamma : 0.6, Lambda : 0.16631578947368422, Score: 64.2\n",
      "Gamma : 0.6, Lambda : 0.21842105263157896, Score: 63.2\n",
      "Gamma : 0.6, Lambda : 0.2705263157894737, Score: 63.6\n",
      "Gamma : 0.6, Lambda : 0.32263157894736844, Score: 64.8\n",
      "Gamma : 0.6, Lambda : 0.37473684210526315, Score: 65.0\n",
      "Gamma : 0.6, Lambda : 0.4268421052631579, Score: 64.4\n",
      "Gamma : 0.6, Lambda : 0.4789473684210527, Score: 63.6\n",
      "Gamma : 0.6, Lambda : 0.5310526315789474, Score: 63.0\n",
      "Gamma : 0.6, Lambda : 0.5831578947368421, Score: 63.6\n",
      "Gamma : 0.6, Lambda : 0.6352631578947369, Score: 64.2\n",
      "Gamma : 0.6, Lambda : 0.6873684210526316, Score: 64.0\n",
      "Gamma : 0.6, Lambda : 0.7394736842105263, Score: 64.4\n",
      "Gamma : 0.6, Lambda : 0.791578947368421, Score: 64.4\n",
      "Gamma : 0.6, Lambda : 0.8436842105263158, Score: 64.0\n",
      "Gamma : 0.6, Lambda : 0.8957894736842106, Score: 64.2\n",
      "Gamma : 0.6, Lambda : 0.9478947368421053, Score: 64.2\n",
      "Gamma : 0.6, Lambda : 1.0, Score: 64.2\n",
      "Train set lifted\n",
      "Test set lifted\n",
      "Gamma : 0.8, Lambda : 0.01, Score: 66.0\n",
      "Gamma : 0.8, Lambda : 0.06210526315789474, Score: 68.4\n",
      "Gamma : 0.8, Lambda : 0.11421052631578947, Score: 66.2\n",
      "Gamma : 0.8, Lambda : 0.16631578947368422, Score: 66.2\n",
      "Gamma : 0.8, Lambda : 0.21842105263157896, Score: 65.60000000000001\n",
      "Gamma : 0.8, Lambda : 0.2705263157894737, Score: 65.60000000000001\n",
      "Gamma : 0.8, Lambda : 0.32263157894736844, Score: 65.4\n",
      "Gamma : 0.8, Lambda : 0.37473684210526315, Score: 65.60000000000001\n",
      "Gamma : 0.8, Lambda : 0.4268421052631579, Score: 65.2\n",
      "Gamma : 0.8, Lambda : 0.4789473684210527, Score: 65.4\n",
      "Gamma : 0.8, Lambda : 0.5310526315789474, Score: 65.4\n",
      "Gamma : 0.8, Lambda : 0.5831578947368421, Score: 64.8\n",
      "Gamma : 0.8, Lambda : 0.6352631578947369, Score: 65.60000000000001\n",
      "Gamma : 0.8, Lambda : 0.6873684210526316, Score: 65.8\n",
      "Gamma : 0.8, Lambda : 0.7394736842105263, Score: 65.8\n",
      "Gamma : 0.8, Lambda : 0.791578947368421, Score: 65.8\n",
      "Gamma : 0.8, Lambda : 0.8436842105263158, Score: 65.0\n",
      "Gamma : 0.8, Lambda : 0.8957894736842106, Score: 65.0\n",
      "Gamma : 0.8, Lambda : 0.9478947368421053, Score: 65.0\n",
      "Gamma : 0.8, Lambda : 1.0, Score: 64.8\n",
      "Train set lifted\n",
      "Test set lifted\n",
      "Gamma : 1.0, Lambda : 0.01, Score: 60.0\n",
      "Gamma : 1.0, Lambda : 0.06210526315789474, Score: 65.60000000000001\n",
      "Gamma : 1.0, Lambda : 0.11421052631578947, Score: 65.8\n",
      "Gamma : 1.0, Lambda : 0.16631578947368422, Score: 65.8\n",
      "Gamma : 1.0, Lambda : 0.21842105263157896, Score: 65.0\n",
      "Gamma : 1.0, Lambda : 0.2705263157894737, Score: 66.0\n",
      "Gamma : 1.0, Lambda : 0.32263157894736844, Score: 66.0\n",
      "Gamma : 1.0, Lambda : 0.37473684210526315, Score: 67.0\n",
      "Gamma : 1.0, Lambda : 0.4268421052631579, Score: 66.2\n",
      "Gamma : 1.0, Lambda : 0.4789473684210527, Score: 65.60000000000001\n",
      "Gamma : 1.0, Lambda : 0.5310526315789474, Score: 65.4\n",
      "Gamma : 1.0, Lambda : 0.5831578947368421, Score: 65.4\n",
      "Gamma : 1.0, Lambda : 0.6352631578947369, Score: 65.0\n",
      "Gamma : 1.0, Lambda : 0.6873684210526316, Score: 64.2\n",
      "Gamma : 1.0, Lambda : 0.7394736842105263, Score: 64.0\n",
      "Gamma : 1.0, Lambda : 0.791578947368421, Score: 64.2\n",
      "Gamma : 1.0, Lambda : 0.8436842105263158, Score: 64.0\n",
      "Gamma : 1.0, Lambda : 0.8957894736842106, Score: 63.6\n",
      "Gamma : 1.0, Lambda : 0.9478947368421053, Score: 63.4\n",
      "Gamma : 1.0, Lambda : 1.0, Score: 63.2\n",
      "Train set lifted\n",
      "Test set lifted\n",
      "Gamma : 0.6, Lambda : 0.01, Score: 67.80000000000001\n",
      "Gamma : 0.6, Lambda : 0.06210526315789474, Score: 69.39999999999999\n",
      "Gamma : 0.6, Lambda : 0.11421052631578947, Score: 69.0\n",
      "Gamma : 0.6, Lambda : 0.16631578947368422, Score: 67.4\n",
      "Gamma : 0.6, Lambda : 0.21842105263157896, Score: 67.60000000000001\n",
      "Gamma : 0.6, Lambda : 0.2705263157894737, Score: 67.4\n",
      "Gamma : 0.6, Lambda : 0.32263157894736844, Score: 67.0\n",
      "Gamma : 0.6, Lambda : 0.37473684210526315, Score: 66.60000000000001\n",
      "Gamma : 0.6, Lambda : 0.4268421052631579, Score: 66.60000000000001\n",
      "Gamma : 0.6, Lambda : 0.4789473684210527, Score: 65.8\n",
      "Gamma : 0.6, Lambda : 0.5310526315789474, Score: 65.60000000000001\n",
      "Gamma : 0.6, Lambda : 0.5831578947368421, Score: 65.0\n",
      "Gamma : 0.6, Lambda : 0.6352631578947369, Score: 65.0\n",
      "Gamma : 0.6, Lambda : 0.6873684210526316, Score: 64.60000000000001\n",
      "Gamma : 0.6, Lambda : 0.7394736842105263, Score: 64.4\n",
      "Gamma : 0.6, Lambda : 0.791578947368421, Score: 64.2\n",
      "Gamma : 0.6, Lambda : 0.8436842105263158, Score: 64.4\n",
      "Gamma : 0.6, Lambda : 0.8957894736842106, Score: 64.4\n",
      "Gamma : 0.6, Lambda : 0.9478947368421053, Score: 64.2\n",
      "Gamma : 0.6, Lambda : 1.0, Score: 64.2\n",
      "Train set lifted\n",
      "Test set lifted\n",
      "Gamma : 0.8, Lambda : 0.01, Score: 66.2\n",
      "Gamma : 0.8, Lambda : 0.06210526315789474, Score: 69.0\n",
      "Gamma : 0.8, Lambda : 0.11421052631578947, Score: 68.2\n",
      "Gamma : 0.8, Lambda : 0.16631578947368422, Score: 68.2\n",
      "Gamma : 0.8, Lambda : 0.21842105263157896, Score: 68.0\n",
      "Gamma : 0.8, Lambda : 0.2705263157894737, Score: 67.80000000000001\n",
      "Gamma : 0.8, Lambda : 0.32263157894736844, Score: 66.8\n",
      "Gamma : 0.8, Lambda : 0.37473684210526315, Score: 67.4\n",
      "Gamma : 0.8, Lambda : 0.4268421052631579, Score: 67.2\n",
      "Gamma : 0.8, Lambda : 0.4789473684210527, Score: 67.2\n",
      "Gamma : 0.8, Lambda : 0.5310526315789474, Score: 67.4\n",
      "Gamma : 0.8, Lambda : 0.5831578947368421, Score: 67.2\n",
      "Gamma : 0.8, Lambda : 0.6352631578947369, Score: 66.4\n",
      "Gamma : 0.8, Lambda : 0.6873684210526316, Score: 66.2\n",
      "Gamma : 0.8, Lambda : 0.7394736842105263, Score: 65.60000000000001\n",
      "Gamma : 0.8, Lambda : 0.791578947368421, Score: 66.2\n",
      "Gamma : 0.8, Lambda : 0.8436842105263158, Score: 66.0\n",
      "Gamma : 0.8, Lambda : 0.8957894736842106, Score: 66.0\n",
      "Gamma : 0.8, Lambda : 0.9478947368421053, Score: 65.4\n",
      "Gamma : 0.8, Lambda : 1.0, Score: 65.4\n",
      "Train set lifted\n",
      "Test set lifted\n",
      "Gamma : 1.0, Lambda : 0.01, Score: 66.8\n",
      "Gamma : 1.0, Lambda : 0.06210526315789474, Score: 69.0\n",
      "Gamma : 1.0, Lambda : 0.11421052631578947, Score: 70.39999999999999\n",
      "Gamma : 1.0, Lambda : 0.16631578947368422, Score: 69.19999999999999\n",
      "Gamma : 1.0, Lambda : 0.21842105263157896, Score: 69.19999999999999\n",
      "Gamma : 1.0, Lambda : 0.2705263157894737, Score: 69.19999999999999\n",
      "Gamma : 1.0, Lambda : 0.32263157894736844, Score: 68.60000000000001\n",
      "Gamma : 1.0, Lambda : 0.37473684210526315, Score: 69.0\n",
      "Gamma : 1.0, Lambda : 0.4268421052631579, Score: 69.19999999999999\n",
      "Gamma : 1.0, Lambda : 0.4789473684210527, Score: 68.2\n",
      "Gamma : 1.0, Lambda : 0.5310526315789474, Score: 68.60000000000001\n",
      "Gamma : 1.0, Lambda : 0.5831578947368421, Score: 67.80000000000001\n",
      "Gamma : 1.0, Lambda : 0.6352631578947369, Score: 67.4\n",
      "Gamma : 1.0, Lambda : 0.6873684210526316, Score: 66.60000000000001\n",
      "Gamma : 1.0, Lambda : 0.7394736842105263, Score: 66.2\n",
      "Gamma : 1.0, Lambda : 0.791578947368421, Score: 66.0\n",
      "Gamma : 1.0, Lambda : 0.8436842105263158, Score: 65.8\n",
      "Gamma : 1.0, Lambda : 0.8957894736842106, Score: 65.60000000000001\n",
      "Gamma : 1.0, Lambda : 0.9478947368421053, Score: 65.4\n",
      "Gamma : 1.0, Lambda : 1.0, Score: 65.0\n",
      "Train set lifted\n",
      "Test set lifted\n",
      "Gamma : 0.6, Lambda : 0.01, Score: 66.0\n",
      "Gamma : 0.6, Lambda : 0.06210526315789474, Score: 67.80000000000001\n",
      "Gamma : 0.6, Lambda : 0.11421052631578947, Score: 66.4\n",
      "Gamma : 0.6, Lambda : 0.16631578947368422, Score: 67.2\n",
      "Gamma : 0.6, Lambda : 0.21842105263157896, Score: 66.2\n",
      "Gamma : 0.6, Lambda : 0.2705263157894737, Score: 66.2\n",
      "Gamma : 0.6, Lambda : 0.32263157894736844, Score: 66.0\n",
      "Gamma : 0.6, Lambda : 0.37473684210526315, Score: 66.4\n",
      "Gamma : 0.6, Lambda : 0.4268421052631579, Score: 66.2\n",
      "Gamma : 0.6, Lambda : 0.4789473684210527, Score: 66.4\n",
      "Gamma : 0.6, Lambda : 0.5310526315789474, Score: 66.8\n",
      "Gamma : 0.6, Lambda : 0.5831578947368421, Score: 67.0\n",
      "Gamma : 0.6, Lambda : 0.6352631578947369, Score: 66.60000000000001\n",
      "Gamma : 0.6, Lambda : 0.6873684210526316, Score: 66.60000000000001\n",
      "Gamma : 0.6, Lambda : 0.7394736842105263, Score: 66.0\n",
      "Gamma : 0.6, Lambda : 0.791578947368421, Score: 65.0\n",
      "Gamma : 0.6, Lambda : 0.8436842105263158, Score: 64.2\n",
      "Gamma : 0.6, Lambda : 0.8957894736842106, Score: 64.2\n",
      "Gamma : 0.6, Lambda : 0.9478947368421053, Score: 64.0\n",
      "Gamma : 0.6, Lambda : 1.0, Score: 64.0\n",
      "Train set lifted\n",
      "Test set lifted\n",
      "Gamma : 0.8, Lambda : 0.01, Score: 67.4\n",
      "Gamma : 0.8, Lambda : 0.06210526315789474, Score: 68.0\n",
      "Gamma : 0.8, Lambda : 0.11421052631578947, Score: 69.0\n",
      "Gamma : 0.8, Lambda : 0.16631578947368422, Score: 68.60000000000001\n"
     ]
    },
    {
     "name": "stdout",
     "output_type": "stream",
     "text": [
      "Gamma : 0.8, Lambda : 0.21842105263157896, Score: 68.4\n",
      "Gamma : 0.8, Lambda : 0.2705263157894737, Score: 67.80000000000001\n",
      "Gamma : 0.8, Lambda : 0.32263157894736844, Score: 68.4\n",
      "Gamma : 0.8, Lambda : 0.37473684210526315, Score: 68.2\n",
      "Gamma : 0.8, Lambda : 0.4268421052631579, Score: 67.60000000000001\n",
      "Gamma : 0.8, Lambda : 0.4789473684210527, Score: 68.0\n",
      "Gamma : 0.8, Lambda : 0.5310526315789474, Score: 68.0\n",
      "Gamma : 0.8, Lambda : 0.5831578947368421, Score: 68.0\n",
      "Gamma : 0.8, Lambda : 0.6352631578947369, Score: 68.0\n",
      "Gamma : 0.8, Lambda : 0.6873684210526316, Score: 68.0\n",
      "Gamma : 0.8, Lambda : 0.7394736842105263, Score: 67.60000000000001\n",
      "Gamma : 0.8, Lambda : 0.791578947368421, Score: 67.4\n",
      "Gamma : 0.8, Lambda : 0.8436842105263158, Score: 67.0\n",
      "Gamma : 0.8, Lambda : 0.8957894736842106, Score: 66.2\n",
      "Gamma : 0.8, Lambda : 0.9478947368421053, Score: 66.2\n",
      "Gamma : 0.8, Lambda : 1.0, Score: 66.4\n",
      "Train set lifted\n",
      "Test set lifted\n",
      "Gamma : 1.0, Lambda : 0.01, Score: 65.4\n",
      "Gamma : 1.0, Lambda : 0.06210526315789474, Score: 67.0\n",
      "Gamma : 1.0, Lambda : 0.11421052631578947, Score: 68.60000000000001\n",
      "Gamma : 1.0, Lambda : 0.16631578947368422, Score: 68.4\n",
      "Gamma : 1.0, Lambda : 0.21842105263157896, Score: 67.80000000000001\n",
      "Gamma : 1.0, Lambda : 0.2705263157894737, Score: 67.4\n",
      "Gamma : 1.0, Lambda : 0.32263157894736844, Score: 66.8\n",
      "Gamma : 1.0, Lambda : 0.37473684210526315, Score: 66.4\n",
      "Gamma : 1.0, Lambda : 0.4268421052631579, Score: 66.0\n",
      "Gamma : 1.0, Lambda : 0.4789473684210527, Score: 66.0\n",
      "Gamma : 1.0, Lambda : 0.5310526315789474, Score: 65.4\n",
      "Gamma : 1.0, Lambda : 0.5831578947368421, Score: 66.0\n",
      "Gamma : 1.0, Lambda : 0.6352631578947369, Score: 66.2\n",
      "Gamma : 1.0, Lambda : 0.6873684210526316, Score: 66.0\n",
      "Gamma : 1.0, Lambda : 0.7394736842105263, Score: 65.60000000000001\n",
      "Gamma : 1.0, Lambda : 0.791578947368421, Score: 65.60000000000001\n",
      "Gamma : 1.0, Lambda : 0.8436842105263158, Score: 65.2\n",
      "Gamma : 1.0, Lambda : 0.8957894736842106, Score: 65.0\n",
      "Gamma : 1.0, Lambda : 0.9478947368421053, Score: 65.2\n",
      "Gamma : 1.0, Lambda : 1.0, Score: 64.8\n",
      "Train set lifted\n",
      "Test set lifted\n",
      "Gamma : 0.6, Lambda : 0.01, Score: 66.2\n",
      "Gamma : 0.6, Lambda : 0.06210526315789474, Score: 67.80000000000001\n",
      "Gamma : 0.6, Lambda : 0.11421052631578947, Score: 67.60000000000001\n",
      "Gamma : 0.6, Lambda : 0.16631578947368422, Score: 68.2\n",
      "Gamma : 0.6, Lambda : 0.21842105263157896, Score: 68.60000000000001\n",
      "Gamma : 0.6, Lambda : 0.2705263157894737, Score: 67.80000000000001\n",
      "Gamma : 0.6, Lambda : 0.32263157894736844, Score: 67.4\n",
      "Gamma : 0.6, Lambda : 0.37473684210526315, Score: 67.0\n",
      "Gamma : 0.6, Lambda : 0.4268421052631579, Score: 67.0\n",
      "Gamma : 0.6, Lambda : 0.4789473684210527, Score: 67.80000000000001\n",
      "Gamma : 0.6, Lambda : 0.5310526315789474, Score: 67.4\n",
      "Gamma : 0.6, Lambda : 0.5831578947368421, Score: 67.80000000000001\n",
      "Gamma : 0.6, Lambda : 0.6352631578947369, Score: 68.2\n",
      "Gamma : 0.6, Lambda : 0.6873684210526316, Score: 67.60000000000001\n",
      "Gamma : 0.6, Lambda : 0.7394736842105263, Score: 67.0\n",
      "Gamma : 0.6, Lambda : 0.791578947368421, Score: 66.8\n",
      "Gamma : 0.6, Lambda : 0.8436842105263158, Score: 66.8\n",
      "Gamma : 0.6, Lambda : 0.8957894736842106, Score: 66.60000000000001\n",
      "Gamma : 0.6, Lambda : 0.9478947368421053, Score: 66.0\n",
      "Gamma : 0.6, Lambda : 1.0, Score: 66.0\n",
      "Train set lifted\n",
      "Test set lifted\n",
      "Gamma : 0.8, Lambda : 0.01, Score: 65.0\n",
      "Gamma : 0.8, Lambda : 0.06210526315789474, Score: 65.60000000000001\n",
      "Gamma : 0.8, Lambda : 0.11421052631578947, Score: 66.60000000000001\n",
      "Gamma : 0.8, Lambda : 0.16631578947368422, Score: 66.8\n",
      "Gamma : 0.8, Lambda : 0.21842105263157896, Score: 66.60000000000001\n",
      "Gamma : 0.8, Lambda : 0.2705263157894737, Score: 65.8\n",
      "Gamma : 0.8, Lambda : 0.32263157894736844, Score: 66.4\n",
      "Gamma : 0.8, Lambda : 0.37473684210526315, Score: 66.4\n",
      "Gamma : 0.8, Lambda : 0.4268421052631579, Score: 66.4\n",
      "Gamma : 0.8, Lambda : 0.4789473684210527, Score: 66.2\n",
      "Gamma : 0.8, Lambda : 0.5310526315789474, Score: 66.8\n",
      "Gamma : 0.8, Lambda : 0.5831578947368421, Score: 67.2\n",
      "Gamma : 0.8, Lambda : 0.6352631578947369, Score: 67.4\n",
      "Gamma : 0.8, Lambda : 0.6873684210526316, Score: 67.2\n",
      "Gamma : 0.8, Lambda : 0.7394736842105263, Score: 66.4\n",
      "Gamma : 0.8, Lambda : 0.791578947368421, Score: 66.2\n",
      "Gamma : 0.8, Lambda : 0.8436842105263158, Score: 66.0\n",
      "Gamma : 0.8, Lambda : 0.8957894736842106, Score: 65.8\n"
     ]
    }
   ],
   "source": [
    "#### TEST of the KITCHENS SINKs\n",
    "alpha_size = 4\n",
    "\n",
    "M = 4*2048\n",
    "\n",
    "best_score = 0\n",
    "\n",
    "kernel_parameters = {} # no parameters for linear kernel\n",
    "\n",
    "\"\"\" \n",
    "X_lift_train = phi_sink(X_train, k, gamma, M)\n",
    "print(\"Train set lifted\")\n",
    "X_lift_test = phi_sink(X_test, k, gamma, M)\n",
    "print(\"Test set lifted\")\n",
    "\"\"\"\n",
    "for k in [6, 7, 8, 9]:\n",
    "    for gamma in [0.6, 0.8, 1.]:\n",
    "        W = gamma*np.random.randn(M,4*k)\n",
    "        b = (2*np.pi)*np.random.rand(M)\n",
    "\n",
    "        X_train_ = sequence_to_matrix(X_train)\n",
    "        X_test_ = sequence_to_matrix(X_test)\n",
    "\n",
    "        X_lift_train = compute_conv_features(X_train_, W, b, alpha_size = alpha_size)\n",
    "        print(\"Train set lifted\")\n",
    "        X_lift_test = compute_conv_features(X_test_, W, b, alpha_size = alpha_size)\n",
    "        print(\"Test set lifted\")\n",
    "\n",
    "        clf = KernelSVM(lambda_reg = 0, loss=\"squared_hinge\", kernel = linear, \n",
    "                    kernel_parameters = kernel_parameters, data_type='vector', threshold=0, verbose=False)\n",
    "\n",
    "        for lambda_reg in np.linspace(0.01, 1, 20):\n",
    "\n",
    "            clf.lambda_reg = lambda_reg\n",
    "\n",
    "            clf.fit(X_lift_train, y_train)\n",
    "\n",
    "            y_pred_test = clf.predict(X_lift_test)\n",
    "            score =  sum(y_test == y_pred_test)/len(y_test)*100\n",
    "\n",
    "            print('Gamma : {}, Lambda : {}, Score: {}'.format(gamma, lambda_reg, score))\n",
    "            if score > best_score:\n",
    "                best_score = score\n",
    "                best_gamma = gamma\n",
    "                best_lambda = lambda_reg\n",
    "                best_k = k\n",
    "\n",
    "print('Best k : {}, best gamma : {}, best lambda : {}, best score: {}'.format(best_k, best_gamma, best_lambda, best_score))"
   ]
  },
  {
   "cell_type": "markdown",
   "metadata": {},
   "source": [
    "### k-spectrum kernel"
   ]
  },
  {
   "cell_type": "code",
   "execution_count": 4,
   "metadata": {
    "scrolled": false
   },
   "outputs": [
    {
     "name": "stderr",
     "output_type": "stream",
     "text": [
      "Building kernel matrix:   1%|          | 14/1500 [00:02<04:13,  5.87it/s]\n"
     ]
    },
    {
     "ename": "KeyboardInterrupt",
     "evalue": "",
     "output_type": "error",
     "traceback": [
      "\u001b[0;31m---------------------------------------------------------------------------\u001b[0m",
      "\u001b[0;31mKeyboardInterrupt\u001b[0m                         Traceback (most recent call last)",
      "\u001b[0;32m<ipython-input-4-89ec5c57d3bf>\u001b[0m in \u001b[0;36m<module>\u001b[0;34m()\u001b[0m\n\u001b[1;32m      7\u001b[0m \u001b[0;34m\u001b[0m\u001b[0m\n\u001b[1;32m      8\u001b[0m \u001b[0;31m# train svm\u001b[0m\u001b[0;34m\u001b[0m\u001b[0;34m\u001b[0m\u001b[0m\n\u001b[0;32m----> 9\u001b[0;31m \u001b[0msvm\u001b[0m\u001b[0;34m.\u001b[0m\u001b[0mfit\u001b[0m\u001b[0;34m(\u001b[0m\u001b[0mX_train\u001b[0m\u001b[0;34m,\u001b[0m \u001b[0my_train\u001b[0m\u001b[0;34m)\u001b[0m\u001b[0;34m\u001b[0m\u001b[0m\n\u001b[0m\u001b[1;32m     10\u001b[0m \u001b[0;34m\u001b[0m\u001b[0m\n\u001b[1;32m     11\u001b[0m \u001b[0my_pred\u001b[0m \u001b[0;34m=\u001b[0m \u001b[0msvm\u001b[0m\u001b[0;34m.\u001b[0m\u001b[0mpred\u001b[0m\u001b[0;34m(\u001b[0m\u001b[0mX_test\u001b[0m\u001b[0;34m)\u001b[0m\u001b[0;34m\u001b[0m\u001b[0m\n",
      "\u001b[0;32m/Users/Schreuder/Google Drive/Cours/MVA/S2/Machine Learning with Kernel Methods/KernelDNA/KernelSVM.py\u001b[0m in \u001b[0;36mfit\u001b[0;34m(self, X, y)\u001b[0m\n\u001b[1;32m     55\u001b[0m             \u001b[0;32melif\u001b[0m \u001b[0mself\u001b[0m\u001b[0;34m.\u001b[0m\u001b[0mdata_type\u001b[0m \u001b[0;34m==\u001b[0m \u001b[0;34m'string'\u001b[0m \u001b[0;34m:\u001b[0m\u001b[0;34m\u001b[0m\u001b[0m\n\u001b[1;32m     56\u001b[0m                 \u001b[0;32mif\u001b[0m \u001b[0mself\u001b[0m\u001b[0;34m.\u001b[0m\u001b[0mkernel\u001b[0m \u001b[0;34m==\u001b[0m \u001b[0mspectrum_kernel\u001b[0m\u001b[0;34m:\u001b[0m\u001b[0;34m\u001b[0m\u001b[0m\n\u001b[0;32m---> 57\u001b[0;31m                     \u001b[0mK\u001b[0m \u001b[0;34m=\u001b[0m \u001b[0mbuild_spectrum_kernel_matrix\u001b[0m\u001b[0;34m(\u001b[0m\u001b[0mX\u001b[0m\u001b[0;34m,\u001b[0m \u001b[0mself\u001b[0m\u001b[0;34m.\u001b[0m\u001b[0mkernel_parameters\u001b[0m\u001b[0;34m)\u001b[0m\u001b[0;34m\u001b[0m\u001b[0m\n\u001b[0m\u001b[1;32m     58\u001b[0m \u001b[0;34m\u001b[0m\u001b[0m\n\u001b[1;32m     59\u001b[0m             \u001b[0;32melse\u001b[0m\u001b[0;34m:\u001b[0m\u001b[0;34m\u001b[0m\u001b[0m\n",
      "\u001b[0;32m/Users/Schreuder/Google Drive/Cours/MVA/S2/Machine Learning with Kernel Methods/KernelDNA/kernel.py\u001b[0m in \u001b[0;36mbuild_spectrum_kernel_matrix\u001b[0;34m(X, kernel_parameters)\u001b[0m\n\u001b[1;32m    157\u001b[0m                     \u001b[0;31m# and list of keys has already been computed\u001b[0m\u001b[0;34m\u001b[0m\u001b[0;34m\u001b[0m\u001b[0m\n\u001b[1;32m    158\u001b[0m                     \u001b[0;32mif\u001b[0m \u001b[0;34m(\u001b[0m\u001b[0mj\u001b[0m\u001b[0;34m,\u001b[0m \u001b[0mkey\u001b[0m\u001b[0;34m)\u001b[0m \u001b[0;32mnot\u001b[0m \u001b[0;32min\u001b[0m \u001b[0min_mismatch_trees\u001b[0m\u001b[0;34m:\u001b[0m\u001b[0;34m\u001b[0m\u001b[0m\n\u001b[0;32m--> 159\u001b[0;31m                         \u001b[0min_mismatch_trees\u001b[0m\u001b[0;34m[\u001b[0m\u001b[0mj\u001b[0m\u001b[0;34m,\u001b[0m \u001b[0mkey\u001b[0m\u001b[0;34m]\u001b[0m \u001b[0;34m=\u001b[0m \u001b[0minMismatchTree\u001b[0m\u001b[0;34m(\u001b[0m\u001b[0mmismatch_trees\u001b[0m\u001b[0;34m[\u001b[0m\u001b[0mkey\u001b[0m\u001b[0;34m]\u001b[0m\u001b[0;34m,\u001b[0m \u001b[0mspectrum\u001b[0m\u001b[0;34m[\u001b[0m\u001b[0mj\u001b[0m\u001b[0;34m]\u001b[0m\u001b[0;34m)\u001b[0m\u001b[0;34m\u001b[0m\u001b[0m\n\u001b[0m\u001b[1;32m    160\u001b[0m \u001b[0;34m\u001b[0m\u001b[0m\n\u001b[1;32m    161\u001b[0m                     K[i, j] += spectrum[i][key] * sum([spectrum[j][mismatch_key]\n",
      "\u001b[0;32m/Users/Schreuder/Google Drive/Cours/MVA/S2/Machine Learning with Kernel Methods/KernelDNA/mismatchtree.py\u001b[0m in \u001b[0;36minMismatchTree\u001b[0;34m(mismatch_tree, list_of_strings)\u001b[0m\n\u001b[1;32m     40\u001b[0m \u001b[0;32mdef\u001b[0m \u001b[0minMismatchTree\u001b[0m\u001b[0;34m(\u001b[0m\u001b[0mmismatch_tree\u001b[0m\u001b[0;34m,\u001b[0m \u001b[0mlist_of_strings\u001b[0m\u001b[0;34m)\u001b[0m\u001b[0;34m:\u001b[0m\u001b[0;34m\u001b[0m\u001b[0m\n\u001b[1;32m     41\u001b[0m     \u001b[0;34m\"Given a list of string, determines all elements of the list which belong to a given mismatch tree\"\u001b[0m\u001b[0;34m\u001b[0m\u001b[0m\n\u001b[0;32m---> 42\u001b[0;31m     \u001b[0;32mreturn\u001b[0m \u001b[0;34m[\u001b[0m\u001b[0ms\u001b[0m \u001b[0;32mfor\u001b[0m \u001b[0ms\u001b[0m \u001b[0;32min\u001b[0m \u001b[0mlist_of_strings\u001b[0m \u001b[0;32mif\u001b[0m \u001b[0misInMismatchTree\u001b[0m\u001b[0;34m(\u001b[0m\u001b[0mmismatch_tree\u001b[0m\u001b[0;34m,\u001b[0m \u001b[0ms\u001b[0m\u001b[0;34m)\u001b[0m\u001b[0;34m]\u001b[0m\u001b[0;34m\u001b[0m\u001b[0m\n\u001b[0m\u001b[1;32m     43\u001b[0m \u001b[0;34m\u001b[0m\u001b[0m\n",
      "\u001b[0;32m/Users/Schreuder/Google Drive/Cours/MVA/S2/Machine Learning with Kernel Methods/KernelDNA/mismatchtree.py\u001b[0m in \u001b[0;36m<listcomp>\u001b[0;34m(.0)\u001b[0m\n\u001b[1;32m     40\u001b[0m \u001b[0;32mdef\u001b[0m \u001b[0minMismatchTree\u001b[0m\u001b[0;34m(\u001b[0m\u001b[0mmismatch_tree\u001b[0m\u001b[0;34m,\u001b[0m \u001b[0mlist_of_strings\u001b[0m\u001b[0;34m)\u001b[0m\u001b[0;34m:\u001b[0m\u001b[0;34m\u001b[0m\u001b[0m\n\u001b[1;32m     41\u001b[0m     \u001b[0;34m\"Given a list of string, determines all elements of the list which belong to a given mismatch tree\"\u001b[0m\u001b[0;34m\u001b[0m\u001b[0m\n\u001b[0;32m---> 42\u001b[0;31m     \u001b[0;32mreturn\u001b[0m \u001b[0;34m[\u001b[0m\u001b[0ms\u001b[0m \u001b[0;32mfor\u001b[0m \u001b[0ms\u001b[0m \u001b[0;32min\u001b[0m \u001b[0mlist_of_strings\u001b[0m \u001b[0;32mif\u001b[0m \u001b[0misInMismatchTree\u001b[0m\u001b[0;34m(\u001b[0m\u001b[0mmismatch_tree\u001b[0m\u001b[0;34m,\u001b[0m \u001b[0ms\u001b[0m\u001b[0;34m)\u001b[0m\u001b[0;34m]\u001b[0m\u001b[0;34m\u001b[0m\u001b[0m\n\u001b[0m\u001b[1;32m     43\u001b[0m \u001b[0;34m\u001b[0m\u001b[0m\n",
      "\u001b[0;32m/Users/Schreuder/Google Drive/Cours/MVA/S2/Machine Learning with Kernel Methods/KernelDNA/mismatchtree.py\u001b[0m in \u001b[0;36misInMismatchTree\u001b[0;34m(mismatch_tree, s)\u001b[0m\n\u001b[1;32m     27\u001b[0m     \u001b[0mcompt\u001b[0m \u001b[0;34m=\u001b[0m \u001b[0;36m0\u001b[0m\u001b[0;34m\u001b[0m\u001b[0m\n\u001b[1;32m     28\u001b[0m \u001b[0;34m\u001b[0m\u001b[0m\n\u001b[0;32m---> 29\u001b[0;31m     \u001b[0;32mfor\u001b[0m \u001b[0mletter\u001b[0m \u001b[0;32min\u001b[0m \u001b[0ms\u001b[0m\u001b[0;34m:\u001b[0m\u001b[0;34m\u001b[0m\u001b[0m\n\u001b[0m\u001b[1;32m     30\u001b[0m         \u001b[0;31m#if isinstance(current_sub_tree, list): # i.e. we attained a set of leaves\u001b[0m\u001b[0;34m\u001b[0m\u001b[0;34m\u001b[0m\u001b[0m\n\u001b[1;32m     31\u001b[0m         \u001b[0;32mif\u001b[0m \u001b[0mcompt\u001b[0m \u001b[0;34m==\u001b[0m \u001b[0mn\u001b[0m\u001b[0;34m:\u001b[0m\u001b[0;34m\u001b[0m\u001b[0m\n",
      "\u001b[0;31mKeyboardInterrupt\u001b[0m: "
     ]
    }
   ],
   "source": [
    "# allow mismatch\n",
    "kernel_parameters = {'k':7, 'm':1}\n",
    "\n",
    "lambda_reg = 0.12\n",
    "svm = KernelSVM(lambda_reg = lambda_reg, kernel = spectrum_kernel, \n",
    "                kernel_parameters = kernel_parameters, data_type='string', threshold=0)\n",
    "\n",
    "# train svm\n",
    "svm.fit(X_train, y_train)\n",
    "\n",
    "y_pred = svm.pred(X_test)\n",
    "\n",
    "print('Score : ')\n",
    "score = sum(y_test == y_pred)/len(y_test)*100\n",
    "print(\"lambda :\", lambda_reg, \" \", \"score:\",score)"
   ]
  },
  {
   "cell_type": "code",
   "execution_count": null,
   "metadata": {
    "scrolled": true
   },
   "outputs": [
    {
     "name": "stderr",
     "output_type": "stream",
     "text": [
      "Building kernel matrix:  67%|██████▋   | 671/1000 [02:01<00:59,  5.50it/s]"
     ]
    }
   ],
   "source": [
    "#Grid search for parameters\n",
    "\n",
    "kernel_parameters_list = [{'k':3, 'm':1},{'k':5, 'm':1},{'k':6, 'm':1}]\n",
    "best_score = 0\n",
    "best_param = None\n",
    "\n",
    "for kernel_parameters in kernel_parameters_list:\n",
    "    \n",
    "    svm = KernelSVM(lambda_reg = 1, kernel = spectrum_kernel, \n",
    "                kernel_parameters = kernel_parameters, data_type='string')\n",
    "\n",
    "    for lambda_reg in np.linspace(0.08,0.16, 3):\n",
    "        \n",
    "        svm.lambda_reg = lambda_reg\n",
    "        \n",
    "        # train svm\n",
    "        svm.fit(X_train, y_train)\n",
    "\n",
    "        y_pred = svm.pred(X_test)\n",
    "\n",
    "        #print('Score : ')\n",
    "        #sum(y_test == y_pred)/len(y_test)\n",
    "        score = sum(y_test == y_pred)/len(y_test)\n",
    "        print(kernel_parameters, lambda_reg, score)\n",
    "        if score > best_score:\n",
    "            best_score=score\n",
    "            best_param = lambda_reg, kernel_parameters\n",
    "            \n",
    "print(best_score)\n",
    "print(best_param)"
   ]
  },
  {
   "cell_type": "markdown",
   "metadata": {},
   "source": [
    "# Submission"
   ]
  },
  {
   "cell_type": "code",
   "execution_count": 19,
   "metadata": {
    "scrolled": false
   },
   "outputs": [
    {
     "name": "stderr",
     "output_type": "stream",
     "text": [
      "Building kernel matrix: 100%|██████████| 2000/2000 [00:31<00:00, 62.81it/s] \n"
     ]
    },
    {
     "name": "stdout",
     "output_type": "stream",
     "text": [
      "     pcost       dcost       gap    pres   dres\n",
      " 0: -5.0459e+01 -4.5490e+01  5e+03  7e+01  1e-14\n",
      " 1: -4.5703e+01 -3.4125e+01  6e+02  8e+00  1e-14\n",
      " 2: -2.2657e+01 -1.6444e+01  2e+02  2e+00  6e-15\n",
      " 3: -9.5445e+00 -1.1559e+01  3e+01  3e-01  2e-15\n",
      " 4: -5.7943e+00 -9.2809e+00  4e+00  4e-03  9e-16\n",
      " 5: -6.1193e+00 -6.7273e+00  6e-01  6e-04  6e-16\n",
      " 6: -6.2542e+00 -6.3671e+00  1e-01  5e-05  6e-16\n",
      " 7: -6.2928e+00 -6.3026e+00  1e-02  3e-06  6e-16\n",
      " 8: -6.2967e+00 -6.2971e+00  3e-04  8e-08  7e-16\n",
      " 9: -6.2969e+00 -6.2969e+00  1e-05  2e-09  6e-16\n",
      "10: -6.2969e+00 -6.2969e+00  3e-07  2e-11  7e-16\n",
      "Optimal solution found.\n",
      "[   0    1    2 ... 1996 1997 1999]\n"
     ]
    },
    {
     "name": "stderr",
     "output_type": "stream",
     "text": [
      "Predicting values:   0%|          | 1/1000 [00:00<01:48,  9.18it/s]"
     ]
    },
    {
     "name": "stdout",
     "output_type": "stream",
     "text": [
      "Numbers of support vectors : 1915\n"
     ]
    },
    {
     "name": "stderr",
     "output_type": "stream",
     "text": [
      "Predicting values: 100%|██████████| 1000/1000 [01:51<00:00,  9.01it/s]\n",
      "Building kernel matrix: 100%|██████████| 2000/2000 [00:30<00:00, 65.91it/s] \n"
     ]
    },
    {
     "name": "stdout",
     "output_type": "stream",
     "text": [
      "     pcost       dcost       gap    pres   dres\n",
      " 0: -2.8829e+01 -4.0671e+01  5e+03  7e+01  6e-15\n",
      " 1: -2.7091e+01 -3.5225e+01  5e+02  6e+00  6e-15\n",
      " 2: -1.5188e+01 -2.6530e+01  1e+02  1e+00  4e-15\n",
      " 3: -9.3484e+00 -2.4162e+01  4e+01  3e-01  2e-15\n",
      " 4: -8.1452e+00 -1.5392e+01  9e+00  2e-02  1e-15\n",
      " 5: -8.7394e+00 -9.9694e+00  1e+00  4e-03  1e-15\n",
      " 6: -9.0512e+00 -9.2459e+00  2e-01  4e-04  1e-15\n",
      " 7: -9.1109e+00 -9.1304e+00  2e-02  3e-05  1e-15\n",
      " 8: -9.1175e+00 -9.1191e+00  2e-03  1e-06  1e-15\n",
      " 9: -9.1181e+00 -9.1181e+00  6e-05  3e-08  1e-15\n",
      "10: -9.1181e+00 -9.1181e+00  2e-06  4e-10  1e-15\n",
      "Optimal solution found.\n",
      "[   0    2    5 ... 1997 1998 1999]\n"
     ]
    },
    {
     "name": "stderr",
     "output_type": "stream",
     "text": [
      "Predicting values:   0%|          | 1/1000 [00:00<01:44,  9.59it/s]"
     ]
    },
    {
     "name": "stdout",
     "output_type": "stream",
     "text": [
      "Numbers of support vectors : 1207\n"
     ]
    },
    {
     "name": "stderr",
     "output_type": "stream",
     "text": [
      "Predicting values: 100%|██████████| 1000/1000 [01:48<00:00,  9.22it/s]\n",
      "Building kernel matrix: 100%|██████████| 2000/2000 [00:40<00:00, 49.08it/s] \n"
     ]
    },
    {
     "name": "stdout",
     "output_type": "stream",
     "text": [
      "     pcost       dcost       gap    pres   dres\n",
      " 0: -2.9430e+03 -3.5752e+01  4e+04  2e+02  2e-12\n",
      " 1: -1.0559e+02 -3.3006e+01  1e+03  6e+00  2e-12\n",
      " 2: -1.2367e+01 -2.9323e+01  6e+01  2e-01  1e-13\n",
      " 3: -9.4820e+00 -1.7739e+01  8e+00  4e-17  8e-15\n",
      " 4: -1.0591e+01 -1.2302e+01  2e+00  3e-17  7e-15\n",
      " 5: -1.1076e+01 -1.1465e+01  4e-01  3e-17  7e-15\n",
      " 6: -1.1192e+01 -1.1290e+01  1e-01  3e-17  7e-15\n",
      " 7: -1.1225e+01 -1.1245e+01  2e-02  3e-17  8e-15\n",
      " 8: -1.1232e+01 -1.1235e+01  3e-03  3e-17  8e-15\n",
      " 9: -1.1234e+01 -1.1234e+01  1e-04  3e-17  8e-15\n",
      "10: -1.1234e+01 -1.1234e+01  2e-06  3e-17  8e-15\n",
      "Optimal solution found.\n",
      "[   0    1    2 ... 1996 1998 1999]\n"
     ]
    },
    {
     "name": "stderr",
     "output_type": "stream",
     "text": [
      "Predicting values:   0%|          | 1/1000 [00:00<01:50,  9.08it/s]"
     ]
    },
    {
     "name": "stdout",
     "output_type": "stream",
     "text": [
      "Numbers of support vectors : 1636\n"
     ]
    },
    {
     "name": "stderr",
     "output_type": "stream",
     "text": [
      "Predicting values: 100%|██████████| 1000/1000 [01:51<00:00,  8.97it/s]\n"
     ]
    }
   ],
   "source": [
    "y_pred = np.zeros((3000,))\n",
    "\n",
    "lambda_opt=[0.12,0.035,0.066]\n",
    "kernel_parameters_opt=[{'k':6}, {'k':6}, {'k':4}]\n",
    "\n",
    "for dataset_index in range(3):\n",
    "    # load DNA strings \n",
    "    data = []\n",
    "    f = open('data/train/Xtr{}.csv'.format(dataset_index), 'r')\n",
    "    data += [line.strip('\\n') for line in f.readlines()]\n",
    "    f.close()\n",
    "\n",
    "    # load target vector \n",
    "    y = (load_y(\"data/train/Ytr{}.csv\".format(dataset_index)))\n",
    "    y = 2*y - 1 # transform y to lie in {-1, 1} instead of {0, 1}\n",
    "    y = np.reshape(y.astype(float), -1) # \n",
    "\n",
    "    X_train, y_train, X_test, y_test = data, y, data[1500:], y[1500:]\n",
    "    \n",
    "    lambda_reg=lambda_opt[dataset_index]\n",
    "    kernel_parameters=kernel_parameters_opt[dataset_index]\n",
    "\n",
    "    SVM = KernelSVM(lambda_reg = lambda_reg, kernel = spectrum_kernel, \n",
    "                    kernel_parameters = kernel_parameters, data_type='string')\n",
    "    \n",
    "    SVM.fit(X_train, y_train)\n",
    "    #y_loc = SVM.pred(X_test)\n",
    "    #print(sum(y_test == y_loc)/len(y_test))\n",
    "    \n",
    "    #SVM.load('SVM_opt{}.npy'.format(i), 'Xtrain_{}.npy'.format(i) )\n",
    "    \n",
    "    \n",
    "    f_ = open('data/test/Xte{}.csv'.format(dataset_index), 'r')\n",
    "    X = [line.strip('\\n') for line in f_.readlines()]\n",
    "    f_.close()\n",
    "\n",
    "    y_pred[1000*dataset_index:1000*(dataset_index+1)] = np.reshape(SVM.pred(X), (1000,))"
   ]
  },
  {
   "cell_type": "code",
   "execution_count": 20,
   "metadata": {
    "collapsed": true
   },
   "outputs": [],
   "source": [
    "y_pred = (y_pred+1)/2 # to have y in 0 and 1\n",
    "df = pd.DataFrame(y_pred, columns=['Bound'])\n",
    "df.index.name = 'Id'\n",
    "df.Bound = df.Bound.astype(int)\n",
    "df.to_csv('submit_full.csv')"
   ]
  }
 ],
 "metadata": {
  "kernelspec": {
   "display_name": "Python 3",
   "language": "python",
   "name": "python3"
  },
  "language_info": {
   "codemirror_mode": {
    "name": "ipython",
    "version": 3
   },
   "file_extension": ".py",
   "mimetype": "text/x-python",
   "name": "python",
   "nbconvert_exporter": "python",
   "pygments_lexer": "ipython3",
   "version": "3.5.3"
  }
 },
 "nbformat": 4,
 "nbformat_minor": 2
}
