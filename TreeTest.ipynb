{
 "cells": [
  {
   "cell_type": "code",
   "execution_count": 1,
   "metadata": {
    "collapsed": true
   },
   "outputs": [],
   "source": [
    "from mismatchtree import mismatchTree, isInMismatchTree, inMismatchTree\n",
    "\n",
    "import json"
   ]
  },
  {
   "cell_type": "code",
   "execution_count": 2,
   "metadata": {
    "collapsed": true
   },
   "outputs": [],
   "source": [
    "s = 'TAGG'"
   ]
  },
  {
   "cell_type": "markdown",
   "metadata": {},
   "source": [
    "# Build mismatch tree"
   ]
  },
  {
   "cell_type": "code",
   "execution_count": 3,
   "metadata": {
    "collapsed": true
   },
   "outputs": [],
   "source": [
    "mismatch_tree_example = mismatchTree(s, 1)"
   ]
  },
  {
   "cell_type": "code",
   "execution_count": 4,
   "metadata": {},
   "outputs": [
    {
     "name": "stdout",
     "output_type": "stream",
     "text": [
      "{\n",
      "    \"A\": {\n",
      "        \"A\": {\n",
      "            \"G\": [\n",
      "                \"G\"\n",
      "            ]\n",
      "        }\n",
      "    },\n",
      "    \"C\": {\n",
      "        \"A\": {\n",
      "            \"G\": [\n",
      "                \"G\"\n",
      "            ]\n",
      "        }\n",
      "    },\n",
      "    \"G\": {\n",
      "        \"A\": {\n",
      "            \"G\": [\n",
      "                \"G\"\n",
      "            ]\n",
      "        }\n",
      "    },\n",
      "    \"T\": {\n",
      "        \"A\": {\n",
      "            \"A\": [\n",
      "                \"G\"\n",
      "            ],\n",
      "            \"C\": [\n",
      "                \"G\"\n",
      "            ],\n",
      "            \"G\": [\n",
      "                \"T\",\n",
      "                \"A\",\n",
      "                \"C\",\n",
      "                \"G\"\n",
      "            ],\n",
      "            \"T\": [\n",
      "                \"G\"\n",
      "            ]\n",
      "        },\n",
      "        \"C\": {\n",
      "            \"G\": [\n",
      "                \"G\"\n",
      "            ]\n",
      "        },\n",
      "        \"G\": {\n",
      "            \"G\": [\n",
      "                \"G\"\n",
      "            ]\n",
      "        },\n",
      "        \"T\": {\n",
      "            \"G\": [\n",
      "                \"G\"\n",
      "            ]\n",
      "        }\n",
      "    }\n",
      "}\n"
     ]
    }
   ],
   "source": [
    "print(json.dumps(mismatch_tree_example, indent=4, sort_keys=True))"
   ]
  },
  {
   "cell_type": "code",
   "execution_count": 5,
   "metadata": {},
   "outputs": [
    {
     "data": {
      "text/plain": [
       "'TACG'"
      ]
     },
     "execution_count": 5,
     "metadata": {},
     "output_type": "execute_result"
    }
   ],
   "source": [
    "'TACG'"
   ]
  },
  {
   "cell_type": "code",
   "execution_count": 6,
   "metadata": {},
   "outputs": [
    {
     "data": {
      "text/plain": [
       "True"
      ]
     },
     "execution_count": 6,
     "metadata": {},
     "output_type": "execute_result"
    }
   ],
   "source": [
    "isInMismatchTree(mismatchTree('TACG', 1), 'TACG')"
   ]
  },
  {
   "cell_type": "code",
   "execution_count": 7,
   "metadata": {},
   "outputs": [
    {
     "data": {
      "text/plain": [
       "False"
      ]
     },
     "execution_count": 7,
     "metadata": {},
     "output_type": "execute_result"
    }
   ],
   "source": [
    "isInMismatchTree(mismatchTree('TACC', 1), 'TAGG')"
   ]
  },
  {
   "cell_type": "code",
   "execution_count": 8,
   "metadata": {},
   "outputs": [
    {
     "data": {
      "text/plain": [
       "['TACG', 'TGCC']"
      ]
     },
     "execution_count": 8,
     "metadata": {},
     "output_type": "execute_result"
    }
   ],
   "source": [
    "inMismatchTree(mismatchTree('TACC', 1), ['TAGG', 'TGGG', 'TACG', 'TGCC'])"
   ]
  },
  {
   "cell_type": "code",
   "execution_count": 9,
   "metadata": {},
   "outputs": [
    {
     "data": {
      "text/plain": [
       "{'A': {'A': {'C': ['C']}},\n",
       " 'C': {'A': {'C': ['C']}},\n",
       " 'G': {'A': {'C': ['C']}},\n",
       " 'T': {'A': {'A': ['C'], 'C': ['T', 'A', 'C', 'G'], 'G': ['C'], 'T': ['C']},\n",
       "  'C': {'C': ['C']},\n",
       "  'G': {'C': ['C']},\n",
       "  'T': {'C': ['C']}}}"
      ]
     },
     "execution_count": 9,
     "metadata": {},
     "output_type": "execute_result"
    }
   ],
   "source": [
    "mismatchTree('TACC', 1)"
   ]
  },
  {
   "cell_type": "code",
   "execution_count": null,
   "metadata": {
    "collapsed": true
   },
   "outputs": [],
   "source": []
  },
  {
   "cell_type": "markdown",
   "metadata": {
    "collapsed": true
   },
   "source": [
    "# Speed test"
   ]
  },
  {
   "cell_type": "code",
   "execution_count": 10,
   "metadata": {
    "collapsed": true
   },
   "outputs": [],
   "source": [
    "%load_ext line_profiler"
   ]
  },
  {
   "cell_type": "code",
   "execution_count": 11,
   "metadata": {
    "collapsed": true
   },
   "outputs": [],
   "source": [
    "mismatch_tree = mismatchTree('TACC', 1)"
   ]
  },
  {
   "cell_type": "code",
   "execution_count": 23,
   "metadata": {
    "collapsed": true
   },
   "outputs": [],
   "source": [
    "%lprun -f isInMismatchTree isInMismatchTree(mismatch_tree, 'TAGG')"
   ]
  },
  {
   "cell_type": "markdown",
   "metadata": {
    "collapsed": true
   },
   "source": [
    "# Debugging treetest"
   ]
  },
  {
   "cell_type": "code",
   "execution_count": 29,
   "metadata": {
    "scrolled": true
   },
   "outputs": [
    {
     "name": "stderr",
     "output_type": "stream",
     "text": [
      "Building kernel matrix: 100%|██████████| 2/2 [00:00<00:00, 1292.94it/s]"
     ]
    },
    {
     "name": "stdout",
     "output_type": "stream",
     "text": [
      "{(1, 'AAT'): ['AAT'], (0, 'AAA'): ['AAA'], (0, 'AAT'): ['AAA'], (1, 'ATA'): ['ATA'], (0, 'ATA'): ['AAA']}\n"
     ]
    },
    {
     "name": "stderr",
     "output_type": "stream",
     "text": [
      "\n"
     ]
    },
    {
     "data": {
      "text/plain": [
       "array([[4., 4.],\n",
       "       [4., 2.]])"
      ]
     },
     "execution_count": 29,
     "metadata": {},
     "output_type": "execute_result"
    }
   ],
   "source": [
    "from kernel import build_spectrum_kernel_matrix\n",
    "s1 = 'AAAA'\n",
    "s2 = 'AATA'\n",
    "kernel_parameters = {'k':3,'m':1}\n",
    "K = build_spectrum_kernel_matrix([s1,s2],kernel_parameters)\n",
    "K"
   ]
  },
  {
   "cell_type": "code",
   "execution_count": 4,
   "metadata": {
    "collapsed": true
   },
   "outputs": [],
   "source": [
    "from kernel import get_spectrum"
   ]
  },
  {
   "cell_type": "code",
   "execution_count": 23,
   "metadata": {},
   "outputs": [
    {
     "data": {
      "text/plain": [
       "['AAA', 'AAA']"
      ]
     },
     "execution_count": 23,
     "metadata": {},
     "output_type": "execute_result"
    }
   ],
   "source": [
    "spectrum_1 = get_spectrum(s1, k=3)\n",
    "spectrum_1"
   ]
  },
  {
   "cell_type": "code",
   "execution_count": 24,
   "metadata": {},
   "outputs": [
    {
     "data": {
      "text/plain": [
       "['AAT', 'ATA']"
      ]
     },
     "execution_count": 24,
     "metadata": {},
     "output_type": "execute_result"
    }
   ],
   "source": [
    "spectrum_2 = get_spectrum(s2, k=3)\n",
    "spectrum_2"
   ]
  },
  {
   "cell_type": "code",
   "execution_count": 25,
   "metadata": {},
   "outputs": [],
   "source": [
    "from mismatchtree import mismatchTree, inMismatchTree\n",
    "mt_1 = mismatchTree('AAA', 1)\n",
    "mt_2 = mismatchTree('AAT', 1)\n",
    "mt_3 = mismatchTree('ATA', 1)"
   ]
  },
  {
   "cell_type": "code",
   "execution_count": 27,
   "metadata": {},
   "outputs": [
    {
     "data": {
      "text/plain": [
       "['AAA', 'AAA']"
      ]
     },
     "execution_count": 27,
     "metadata": {},
     "output_type": "execute_result"
    }
   ],
   "source": [
    "inMismatchTree(mt_1, spectrum_1)"
   ]
  },
  {
   "cell_type": "code",
   "execution_count": 28,
   "metadata": {},
   "outputs": [
    {
     "data": {
      "text/plain": [
       "['AAT']"
      ]
     },
     "execution_count": 28,
     "metadata": {},
     "output_type": "execute_result"
    }
   ],
   "source": [
    "inMismatchTree(mt_2, spectrum_2)"
   ]
  },
  {
   "cell_type": "markdown",
   "metadata": {},
   "source": [
    "# Mismatch String Kernel\n",
    "(https://papers.nips.cc/paper/2179-mismatch-string-kernels-for-svm-protein-classification.pdf)\n",
    "\n",
    "Alphabet $\\mathcal{A} = \\{T, C, A, G\\}$\n",
    "\n",
    "Mismatch feature vector for a k-mer $\\alpha$ : \n",
    "\n",
    "\\begin{equation}\n",
    "\\Phi_{(k,m)}(\\alpha) = (\\phi_\\beta(\\alpha))_{\\beta \\in \\mathcal{A}^4}\n",
    "\\end{equation}"
   ]
  },
  {
   "cell_type": "markdown",
   "metadata": {},
   "source": [
    "Feature vector for sequence $x$ of any length (in our case DNA sequence) : \n",
    "\\begin{equation}\n",
    "\\Phi_{(k,m)}(x) = \\sum_{\\text{k-mers } \\alpha \\text{ in } x} \\Phi_{(k,m)}(\\alpha)\n",
    "\\end{equation}"
   ]
  },
  {
   "cell_type": "markdown",
   "metadata": {},
   "source": [
    "### Exemple à la main:\n",
    "\n",
    "$s_1 =$ AAAA\n",
    "\n",
    "Spectrum($s_1$, 2) = [AAA, AAA]\n",
    "\n",
    "$s_2 =$ AATA\n",
    "\n",
    "Spectrum($s_2$, 2) = [AAT, ATA]"
   ]
  },
  {
   "cell_type": "markdown",
   "metadata": {},
   "source": [
    "$\\Phi_{(3, 1)}(\"AAA\") = 1$ pour $\\beta \\in [\"AAA\", \"AAT\", \"ATA\", \"TAA\", ...]$ \n",
    "\n",
    "\n",
    "D'où \n",
    "\\begin{equation}\n",
    "\\Phi_{(3, 1)}(s_1) = 2 \\times \\Phi_{(3, 1)}(\"AAA\")\n",
    "\\end{equation}\n",
    "\n",
    "Et \n",
    "\\begin{equation}\n",
    "\\begin{split}\n",
    "K(s_1, s_2)  &= \\langle \\Phi_{(3, 1)}(s_1), \\Phi_{(3, 1)}(s_1) \\rangle \\\\\n",
    "&= 4 \\times \\langle \\Phi_{(3, 1)}(\"AAA\"), \\Phi_{(3, 1)}(\"AAA\") \\rangle \\\\\n",
    "&= 4 \\frac{4!}{(4-m)!} \\times \\frac{k!}{(k-m)!} \\\\\n",
    "&= 48\n",
    "\\end{split}\n",
    "\\end{equation}\n",
    "\n",
    "Je me suis peut être trompé sur la dernière égalité en gros pour moi le nombre de coefficients non nuls c'est $\\frac{4!}{(4-m)!} \\times \\frac{k!}{(k-m)!} $ car il faut choisir :\n",
    "- quelles lettres remplacer : $\\frac{k!}{(k-m)!}$ (arrangement m parmi k)\n",
    "- par quelles lettres on les remplace : $\\frac{4!}{(4-m)!}$ (arrangement m parmi 4 car 4 lettres dans notre alphabet)"
   ]
  },
  {
   "cell_type": "code",
   "execution_count": null,
   "metadata": {
    "collapsed": true
   },
   "outputs": [],
   "source": []
  }
 ],
 "metadata": {
  "kernelspec": {
   "display_name": "Python 3",
   "language": "python",
   "name": "python3"
  },
  "language_info": {
   "codemirror_mode": {
    "name": "ipython",
    "version": 3
   },
   "file_extension": ".py",
   "mimetype": "text/x-python",
   "name": "python",
   "nbconvert_exporter": "python",
   "pygments_lexer": "ipython3",
   "version": "3.5.3"
  }
 },
 "nbformat": 4,
 "nbformat_minor": 2
}
