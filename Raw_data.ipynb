{
 "cells": [
  {
   "cell_type": "markdown",
   "metadata": {
    "collapsed": true
   },
   "source": [
    "# Raw DNA strings"
   ]
  },
  {
   "cell_type": "markdown",
   "metadata": {},
   "source": [
    "In this notebook we train SVM on string data (DNA strings)."
   ]
  },
  {
   "cell_type": "code",
   "execution_count": null,
   "metadata": {},
   "outputs": [],
   "source": [
    "from kernel import *\n",
    "\n",
    "from KernelSVM import KernelSVM\n",
    "\n",
    "import numpy as np\n",
    "\n",
    "from processing import train_test_split, load_y\n",
    "\n",
    "import pandas as pd"
   ]
  },
  {
   "cell_type": "markdown",
   "metadata": {},
   "source": [
    "# Load and pre-process data"
   ]
  },
  {
   "cell_type": "code",
   "execution_count": null,
   "metadata": {
    "scrolled": true
   },
   "outputs": [],
   "source": [
    "data = []\n",
    "\n",
    "dataset_index = '2'\n",
    "\n",
    "# load DNA strings \n",
    "f = open('data/train/Xtr{}.csv'.format(dataset_index), 'r')\n",
    "data += [line.strip('\\n') for line in f.readlines()]\n",
    "f.close()\n",
    "\n",
    "# load target vector \n",
    "y = (load_y(\"data/train/Ytr{}.csv\".format(dataset_index)))\n",
    "y = 2*y - 1 # transform y to lie in {-1, 1} instead of {0, 1}\n",
    "y = np.reshape(y.astype(float), -1) # \n",
    "\n",
    "print('First DNA string : ')\n",
    "data[0]"
   ]
  },
  {
   "cell_type": "code",
   "execution_count": null,
   "metadata": {
    "collapsed": true
   },
   "outputs": [],
   "source": [
    "X_train, y_train, X_test, y_test = data[:200], y[:200], data[200:300], y[200:300]\n",
    "#X_train, y_train, X_test, y_test = X_train[:75], y_train[:75], X_test[:25], y_test[:25]"
   ]
  },
  {
   "cell_type": "markdown",
   "metadata": {},
   "source": [
    "# Train"
   ]
  },
  {
   "cell_type": "markdown",
   "metadata": {},
   "source": [
    "### Kitchen sink"
   ]
  },
  {
   "cell_type": "code",
   "execution_count": null,
   "metadata": {
    "scrolled": false
   },
   "outputs": [],
   "source": [
    "#### TEST of the KITCHENS SINKs\n",
    "alpha_size = 4\n",
    "\n",
    "M = 6*2048\n",
    "\n",
    "best_score = 0\n",
    "\n",
    "kernel_parameters = {} # no parameters for linear kernel\n",
    "\n",
    "n_lambda = 10\n",
    "for k in [7]:\n",
    "    for gamma in np.linspace(0.5, 1, 5):\n",
    "        score_avg_list = np.zeros(n_lambda)\n",
    "        for run in range(5):\n",
    "\n",
    "            W = gamma*np.random.randn(M,4*k)\n",
    "            b = (2*np.pi)*np.random.rand(M)\n",
    "\n",
    "            X_train_ = sequence_to_matrix(X_train)\n",
    "            X_test_ = sequence_to_matrix(X_test)\n",
    "\n",
    "            X_lift_train = compute_conv_features(X_train_, W, b, alpha_size = alpha_size)\n",
    "            print(\"Train set lifted\")\n",
    "            X_lift_test = compute_conv_features(X_test_, W, b, alpha_size = alpha_size)\n",
    "            print(\"Test set lifted\")\n",
    "\n",
    "            clf = KernelSVM(lambda_reg = 0, loss=\"squared_hinge\", kernel = linear, \n",
    "                        kernel_parameters = kernel_parameters, data_type='vector', threshold=0, verbose=False)\n",
    "            \n",
    "            lambda_list = np.linspace(0.005, 0.01, 10)\n",
    "            for lambda_reg, lambda_index in zip(lambda_list,range(n_lambda)):\n",
    "            \n",
    "\n",
    "                clf.lambda_reg = lambda_reg\n",
    "\n",
    "                clf.fit(X_lift_train, y_train)\n",
    "                y_pred_test = clf.pred(X_lift_test)\n",
    "\n",
    "                score =  sum(y_test == y_pred_test)/len(y_test)*100\n",
    "                #print('k : {}, Gamma : {}, Lambda : {}, Score: {}'.format(k,gamma, lambda_reg, score))\n",
    "                \n",
    "                score_avg_list[lambda_index] += score\n",
    "            \n",
    "        score_avg_list = score_avg_list/n_lambda\n",
    "        score_avg = np.max(score_avg_list)\n",
    "        lambda_opt_index = np.argmax(score_avg_list)\n",
    "        lambda_opt = lambda_list[lambda_opt_index]\n",
    "        \n",
    "        if score_avg > best_score:\n",
    "            best_score = score_avg\n",
    "            best_gamma = gamma\n",
    "            best_lambda = lambda_opt\n",
    "            best_k = k\n",
    "\n",
    "print('Best k : {}, best gamma : {}, best lambda : {}, best score: {}'.format(best_k, best_gamma, best_lambda, best_score))"
   ]
  },
  {
   "cell_type": "markdown",
   "metadata": {},
   "source": [
    "### k-spectrum kernel"
   ]
  },
  {
   "cell_type": "code",
   "execution_count": null,
   "metadata": {
    "scrolled": false
   },
   "outputs": [],
   "source": [
    "#Grid search for parameters\n",
    "\n",
    "kernel_parameters_list = [{'k':6}, {'k':7}, {'k':8}]\n",
    "best_score = 0\n",
    "best_param = None\n",
    "\n",
    "for kernel_parameters in kernel_parameters_list:\n",
    "    \n",
    "    svm = KernelSVM(lambda_reg = 1, loss='hinge', kernel = spectrum_kernel, \n",
    "                kernel_parameters = kernel_parameters, data_type='string')\n",
    "\n",
    "    for lambda_reg in np.linspace(0.01,1, 10):\n",
    "        \n",
    "        svm.lambda_reg = lambda_reg\n",
    "        \n",
    "        # train svm\n",
    "        svm.fit(X_train, y_train)\n",
    "\n",
    "        y_pred = svm.pred(X_test)\n",
    "\n",
    "        #print('Score : ')\n",
    "        #sum(y_test == y_pred)/len(y_test)\n",
    "        score = sum(y_test == y_pred)/len(y_test)\n",
    "        print(kernel_parameters, lambda_reg, score)\n",
    "        if score > best_score:\n",
    "            best_score=score\n",
    "            best_param = lambda_reg, kernel_parameters\n",
    "            \n",
    "print(best_score)\n",
    "print(best_param)"
   ]
  },
  {
   "cell_type": "markdown",
   "metadata": {},
   "source": [
    "# Submission"
   ]
  },
  {
   "cell_type": "markdown",
   "metadata": {},
   "source": [
    "### Mixed (k-spectrum + kitchen sink)"
   ]
  },
  {
   "cell_type": "code",
   "execution_count": null,
   "metadata": {
    "collapsed": true
   },
   "outputs": [],
   "source": [
    "y_pred = np.zeros((3000,))"
   ]
  },
  {
   "cell_type": "code",
   "execution_count": null,
   "metadata": {},
   "outputs": [],
   "source": [
    "dataset_index = 0\n",
    "\n",
    "## Training ##\n",
    "# load DNA strings \n",
    "data = []\n",
    "f = open('data/train/Xtr{}.csv'.format(dataset_index), 'r')\n",
    "data += [line.strip('\\n') for line in f.readlines()]\n",
    "f.close()\n",
    "\n",
    "# load target vector \n",
    "y = (load_y(\"data/train/Ytr{}.csv\".format(dataset_index)))\n",
    "y = 2*y - 1 # transform y to lie in {-1, 1} instead of {0, 1}\n",
    "y = np.reshape(y.astype(float), -1) # \n",
    "\n",
    "X_train, y_train = data, y\n",
    "\n",
    "kernel_parameters = {'k':6}\n",
    "\n",
    "clf =  KernelSVM(lambda_reg = 0.1, loss='hinge', kernel = spectrum_kernel, \n",
    "                kernel_parameters = kernel_parameters, data_type='string')\n",
    "\n",
    "clf.fit(X_train, y_train)\n",
    "\n",
    "## Prediction ##\n",
    "\n",
    "f_ = open('data/test/Xte{}.csv'.format(dataset_index), 'r')\n",
    "X_test = [line.strip('\\n') for line in f_.readlines()]\n",
    "f_.close()\n",
    "\n",
    "y_pred[1000*dataset_index:1000*(dataset_index+1)] = np.reshape(clf.pred(X_test), (1000,))"
   ]
  },
  {
   "cell_type": "code",
   "execution_count": null,
   "metadata": {},
   "outputs": [],
   "source": [
    "dataset_index = 1\n",
    "\n",
    "alpha_size = 4\n",
    "\n",
    "kernel_parameters = {}\n",
    "\n",
    "## Training ##\n",
    "# load DNA strings \n",
    "data = []\n",
    "f = open('data/train/Xtr{}.csv'.format(dataset_index), 'r')\n",
    "data += [line.strip('\\n') for line in f.readlines()]\n",
    "f.close()\n",
    "\n",
    "# load target vector \n",
    "y = (load_y(\"data/train/Ytr{}.csv\".format(dataset_index)))\n",
    "y = 2*y - 1 # transform y to lie in {-1, 1} instead of {0, 1}\n",
    "y = np.reshape(y.astype(float), -1) # \n",
    "\n",
    "X_train, y_train = data, y\n",
    "\n",
    "W = np.load('pickled_files/W_1.npy')\n",
    "b = np.load('pickled_files/b_1.npy')\n",
    "\n",
    "# Vectorize string (one-hot encoding)\n",
    "X_train_ = sequence_to_matrix(X_train)\n",
    "\n",
    "# Get features\n",
    "X_lift_train = compute_conv_features(X_train_, W, b, alpha_size = alpha_size)\n",
    "\n",
    "clf = KernelSVM(lambda_reg = 0.054210526315789466, loss=\"squared_hinge\", kernel = linear, \n",
    "            kernel_parameters = kernel_parameters, data_type='vector', threshold=0, verbose=False)\n",
    "\n",
    "clf.fit(X_lift_train, y_train)\n",
    "\n",
    "## Prediction ##\n",
    "\n",
    "f_ = open('data/test/Xte{}.csv'.format(dataset_index), 'r')\n",
    "X_test = [line.strip('\\n') for line in f_.readlines()]\n",
    "f_.close()\n",
    "\n",
    "# Vectorize string (one-hot encoding)\n",
    "X_test_ = sequence_to_matrix(X_test)\n",
    "\n",
    "# Get features\n",
    "X_lift_test = compute_conv_features(X_test_, W, b, alpha_size = alpha_size)\n",
    "\n",
    "y_pred[1000*dataset_index:1000*(dataset_index+1)] = np.reshape(clf.pred(X_lift_test), (1000,))"
   ]
  },
  {
   "cell_type": "code",
   "execution_count": null,
   "metadata": {},
   "outputs": [],
   "source": [
    "dataset_index = 2\n",
    "\n",
    "alpha_size = 4\n",
    "\n",
    "## Training ##\n",
    "# load DNA strings \n",
    "data = []\n",
    "f = open('data/train/Xtr{}.csv'.format(dataset_index), 'r')\n",
    "data += [line.strip('\\n') for line in f.readlines()]\n",
    "f.close()\n",
    "\n",
    "# load target vector \n",
    "y = (load_y(\"data/train/Ytr{}.csv\".format(dataset_index)))\n",
    "y = 2*y - 1 # transform y to lie in {-1, 1} instead of {0, 1}\n",
    "y = np.reshape(y.astype(float), -1) # \n",
    "\n",
    "X_train, y_train = data, y\n",
    "\n",
    "W = np.load('pickled_files/W_2.npy')\n",
    "b = np.load('pickled_files/b_2.npy')\n",
    "\n",
    "# Vectorize string (one-hot encoding)\n",
    "X_train_ = sequence_to_matrix(X_train)\n",
    "\n",
    "# Get features\n",
    "X_lift_train = compute_conv_features(X_train_, W, b, alpha_size = alpha_size)\n",
    "\n",
    "clf = KernelSVM(lambda_reg = 0.16631578947368422, loss=\"squared_hinge\", kernel = linear, \n",
    "            kernel_parameters = kernel_parameters, data_type='vector', threshold=0, verbose=False)\n",
    "\n",
    "clf.fit(X_lift_train, y_train)\n",
    "\n",
    "## Prediction ##\n",
    "\n",
    "f_ = open('data/test/Xte{}.csv'.format(dataset_index), 'r')\n",
    "X_test = [line.strip('\\n') for line in f_.readlines()]\n",
    "f_.close()\n",
    "\n",
    "# Vectorize string (one-hot encoding)\n",
    "X_test_ = sequence_to_matrix(X_test)\n",
    "\n",
    "# Get features\n",
    "X_lift_test = compute_conv_features(X_test_, W, b, alpha_size = alpha_size)\n",
    "\n",
    "y_pred[1000*dataset_index:1000*(dataset_index+1)] = np.reshape(clf.pred(X_lift_test), (1000,))"
   ]
  },
  {
   "cell_type": "code",
   "execution_count": null,
   "metadata": {
    "collapsed": true
   },
   "outputs": [],
   "source": [
    "y_pred = (y_pred+1)/2 # to have y in 0 and 1\n",
    "df = pd.DataFrame(y_pred, columns=['Bound'])\n",
    "df.index.name = 'Id'\n",
    "df.Bound = df.Bound.astype(int)\n",
    "df.to_csv('mixed.csv')"
   ]
  },
  {
   "cell_type": "markdown",
   "metadata": {},
   "source": [
    "### k-spectrum"
   ]
  },
  {
   "cell_type": "code",
   "execution_count": null,
   "metadata": {
    "scrolled": false
   },
   "outputs": [],
   "source": [
    "y_pred = np.zeros((3000,))\n",
    "\n",
    "# k-spectrum\n",
    "lambda_opt=[0.12,0.035,0.066]\n",
    "kernel_parameters_opt=[{'k':6}, {'k':6}, {'k':4}]\n",
    "\n",
    "\n",
    "for dataset_index in range(3):\n",
    "    # load DNA strings \n",
    "    data = []\n",
    "    f = open('data/train/Xtr{}.csv'.format(dataset_index), 'r')\n",
    "    data += [line.strip('\\n') for line in f.readlines()]\n",
    "    f.close()\n",
    "\n",
    "    # load target vector \n",
    "    y = (load_y(\"data/train/Ytr{}.csv\".format(dataset_index)))\n",
    "    y = 2*y - 1 # transform y to lie in {-1, 1} instead of {0, 1}\n",
    "    y = np.reshape(y.astype(float), -1) # \n",
    "\n",
    "    X_train, y_train, X_test, y_test = data, y, data[1500:], y[1500:]\n",
    "    \n",
    "    lambda_reg=lambda_opt[dataset_index]\n",
    "    kernel_parameters=kernel_parameters_opt[dataset_index]\n",
    "\n",
    "    SVM = KernelSVM(lambda_reg = lambda_reg, kernel = spectrum_kernel, loss=\"hinge\",\n",
    "                    kernel_parameters = kernel_parameters, data_type='string')\n",
    "    \n",
    "    SVM.fit(X_train, y_train)    \n",
    "    \n",
    "    f_ = open('data/test/Xte{}.csv'.format(dataset_index), 'r')\n",
    "    X = [line.strip('\\n') for line in f_.readlines()]\n",
    "    f_.close()\n",
    "\n",
    "    y_pred[1000*dataset_index:1000*(dataset_index+1)] = np.reshape(SVM.pred(X), (1000,))\n",
    "\n",
    "y_pred = (y_pred+1)/2 # to have y in 0 and 1\n",
    "df = pd.DataFrame(y_pred, columns=['Bound'])\n",
    "df.index.name = 'Id'\n",
    "df.Bound = df.Bound.astype(int)\n",
    "df.to_csv('kspectrum.csv')"
   ]
  }
 ],
 "metadata": {
  "kernelspec": {
   "display_name": "Python 3",
   "language": "python",
   "name": "python3"
  },
  "language_info": {
   "codemirror_mode": {
    "name": "ipython",
    "version": 3
   },
   "file_extension": ".py",
   "mimetype": "text/x-python",
   "name": "python",
   "nbconvert_exporter": "python",
   "pygments_lexer": "ipython3",
   "version": "3.5.3"
  }
 },
 "nbformat": 4,
 "nbformat_minor": 2
}
