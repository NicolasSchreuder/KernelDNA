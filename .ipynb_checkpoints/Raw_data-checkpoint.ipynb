{
 "cells": [
  {
   "cell_type": "markdown",
   "metadata": {
    "collapsed": true
   },
   "source": [
    "# Raw DNA strings"
   ]
  },
  {
   "cell_type": "markdown",
   "metadata": {},
   "source": [
    "In this notebook we train SVM on string data (DNA strings)."
   ]
  },
  {
   "cell_type": "code",
   "execution_count": 1,
   "metadata": {},
   "outputs": [],
   "source": [
    "from kernel import *\n",
    "\n",
    "from KernelSVM import KernelSVM\n",
    "\n",
    "import numpy as np\n",
    "\n",
    "from processing import train_test_split, load_y\n",
    "\n",
    "import pandas as pd"
   ]
  },
  {
   "cell_type": "markdown",
   "metadata": {},
   "source": [
    "# Load and pre-process data"
   ]
  },
  {
   "cell_type": "code",
   "execution_count": 2,
   "metadata": {
    "scrolled": true
   },
   "outputs": [
    {
     "name": "stdout",
     "output_type": "stream",
     "text": [
      "First DNA string : \n"
     ]
    },
    {
     "data": {
      "text/plain": [
       "'TCCTCAACTTTTATTGGGCCGCTGTGGCACCAGAATCTACGAATGGCGCCCTCTAGAGTTGTGTAAAGAAGTGGCGTCACCTCATTATAAATAAAAGGTTG'"
      ]
     },
     "execution_count": 2,
     "metadata": {},
     "output_type": "execute_result"
    }
   ],
   "source": [
    "data = []\n",
    "\n",
    "dataset_index = '0'\n",
    "\n",
    "# load DNA strings \n",
    "f = open('data/train/Xtr{}.csv'.format(dataset_index), 'r')\n",
    "data += [line.strip('\\n') for line in f.readlines()]\n",
    "f.close()\n",
    "\n",
    "# load target vector \n",
    "y = (load_y(\"data/train/Ytr{}.csv\".format(dataset_index)))\n",
    "y = 2*y - 1 # transform y to lie in {-1, 1} instead of {0, 1}\n",
    "y = np.reshape(y.astype(float), -1) # \n",
    "\n",
    "print('First DNA string : ')\n",
    "data[0]"
   ]
  },
  {
   "cell_type": "code",
   "execution_count": 3,
   "metadata": {},
   "outputs": [],
   "source": [
    "X_train, y_train, X_test, y_test = data[:1500], y[:1500], data[1500:], y[1500:]\n",
    "#X_train, y_train, X_test, y_test = X_train[:75], y_train[:75], X_test[:25], y_test[:25]"
   ]
  },
  {
   "cell_type": "markdown",
   "metadata": {},
   "source": [
    "# Train"
   ]
  },
  {
   "cell_type": "markdown",
   "metadata": {},
   "source": [
    "### Kitchen sink"
   ]
  },
  {
   "cell_type": "code",
   "execution_count": 6,
   "metadata": {},
   "outputs": [],
   "source": [
    "from sklearn.svm import LinearSVC"
   ]
  },
  {
   "cell_type": "code",
   "execution_count": 9,
   "metadata": {
    "scrolled": false
   },
   "outputs": [
    {
     "name": "stdout",
     "output_type": "stream",
     "text": [
      "Train set lifted\n",
      "Test set lifted\n",
      "k : 7, Gamma : 0.9, Lambda : 0.01, Score: 85.8\n",
      "k : 7, Gamma : 0.9, Lambda : 0.015, Score: 86.2\n",
      "k : 7, Gamma : 0.9, Lambda : 0.019999999999999997, Score: 87.2\n",
      "k : 7, Gamma : 0.9, Lambda : 0.024999999999999998, Score: 88.0\n",
      "k : 7, Gamma : 0.9, Lambda : 0.03, Score: 88.2\n",
      "Train set lifted\n",
      "Test set lifted\n",
      "k : 7, Gamma : 0.9, Lambda : 0.01, Score: 87.0\n",
      "k : 7, Gamma : 0.9, Lambda : 0.015, Score: 87.8\n",
      "k : 7, Gamma : 0.9, Lambda : 0.019999999999999997, Score: 88.0\n",
      "k : 7, Gamma : 0.9, Lambda : 0.024999999999999998, Score: 88.0\n",
      "k : 7, Gamma : 0.9, Lambda : 0.03, Score: 88.0\n",
      "Train set lifted\n",
      "Test set lifted\n",
      "k : 7, Gamma : 0.9, Lambda : 0.01, Score: 88.0\n",
      "k : 7, Gamma : 0.9, Lambda : 0.015, Score: 88.6\n",
      "k : 7, Gamma : 0.9, Lambda : 0.019999999999999997, Score: 89.0\n",
      "k : 7, Gamma : 0.9, Lambda : 0.024999999999999998, Score: 89.4\n",
      "k : 7, Gamma : 0.9, Lambda : 0.03, Score: 89.4\n",
      "Train set lifted\n",
      "Test set lifted\n",
      "k : 7, Gamma : 0.9, Lambda : 0.01, Score: 88.2\n",
      "k : 7, Gamma : 0.9, Lambda : 0.015, Score: 88.0\n",
      "k : 7, Gamma : 0.9, Lambda : 0.019999999999999997, Score: 88.6\n",
      "k : 7, Gamma : 0.9, Lambda : 0.024999999999999998, Score: 88.8\n",
      "k : 7, Gamma : 0.9, Lambda : 0.03, Score: 89.4\n",
      "Train set lifted\n",
      "Test set lifted\n",
      "k : 7, Gamma : 0.9357142857142857, Lambda : 0.01, Score: 87.0\n",
      "k : 7, Gamma : 0.9357142857142857, Lambda : 0.015, Score: 87.4\n",
      "k : 7, Gamma : 0.9357142857142857, Lambda : 0.019999999999999997, Score: 87.6\n",
      "k : 7, Gamma : 0.9357142857142857, Lambda : 0.024999999999999998, Score: 88.2\n",
      "k : 7, Gamma : 0.9357142857142857, Lambda : 0.03, Score: 88.6\n",
      "Train set lifted\n",
      "Test set lifted\n",
      "k : 7, Gamma : 0.9357142857142857, Lambda : 0.01, Score: 87.0\n",
      "k : 7, Gamma : 0.9357142857142857, Lambda : 0.015, Score: 87.2\n",
      "k : 7, Gamma : 0.9357142857142857, Lambda : 0.019999999999999997, Score: 88.2\n",
      "k : 7, Gamma : 0.9357142857142857, Lambda : 0.024999999999999998, Score: 88.4\n",
      "k : 7, Gamma : 0.9357142857142857, Lambda : 0.03, Score: 88.6\n",
      "Train set lifted\n",
      "Test set lifted\n",
      "k : 7, Gamma : 0.9357142857142857, Lambda : 0.01, Score: 85.8\n",
      "k : 7, Gamma : 0.9357142857142857, Lambda : 0.015, Score: 86.4\n",
      "k : 7, Gamma : 0.9357142857142857, Lambda : 0.019999999999999997, Score: 86.6\n",
      "k : 7, Gamma : 0.9357142857142857, Lambda : 0.024999999999999998, Score: 88.4\n",
      "k : 7, Gamma : 0.9357142857142857, Lambda : 0.03, Score: 88.6\n",
      "Train set lifted\n",
      "Test set lifted\n",
      "k : 7, Gamma : 0.9357142857142857, Lambda : 0.01, Score: 86.8\n",
      "k : 7, Gamma : 0.9357142857142857, Lambda : 0.015, Score: 86.6\n",
      "k : 7, Gamma : 0.9357142857142857, Lambda : 0.019999999999999997, Score: 87.2\n",
      "k : 7, Gamma : 0.9357142857142857, Lambda : 0.024999999999999998, Score: 87.0\n",
      "k : 7, Gamma : 0.9357142857142857, Lambda : 0.03, Score: 87.0\n",
      "Train set lifted\n",
      "Test set lifted\n",
      "k : 7, Gamma : 0.9714285714285714, Lambda : 0.01, Score: 86.8\n",
      "k : 7, Gamma : 0.9714285714285714, Lambda : 0.015, Score: 87.2\n",
      "k : 7, Gamma : 0.9714285714285714, Lambda : 0.019999999999999997, Score: 87.6\n",
      "k : 7, Gamma : 0.9714285714285714, Lambda : 0.024999999999999998, Score: 87.8\n",
      "k : 7, Gamma : 0.9714285714285714, Lambda : 0.03, Score: 87.8\n",
      "Train set lifted\n",
      "Test set lifted\n",
      "k : 7, Gamma : 0.9714285714285714, Lambda : 0.01, Score: 87.2\n",
      "k : 7, Gamma : 0.9714285714285714, Lambda : 0.015, Score: 88.6\n",
      "k : 7, Gamma : 0.9714285714285714, Lambda : 0.019999999999999997, Score: 89.2\n",
      "k : 7, Gamma : 0.9714285714285714, Lambda : 0.024999999999999998, Score: 88.8\n",
      "k : 7, Gamma : 0.9714285714285714, Lambda : 0.03, Score: 88.4\n",
      "Train set lifted\n",
      "Test set lifted\n",
      "k : 7, Gamma : 0.9714285714285714, Lambda : 0.01, Score: 88.0\n",
      "k : 7, Gamma : 0.9714285714285714, Lambda : 0.015, Score: 88.2\n",
      "k : 7, Gamma : 0.9714285714285714, Lambda : 0.019999999999999997, Score: 88.2\n",
      "k : 7, Gamma : 0.9714285714285714, Lambda : 0.024999999999999998, Score: 88.2\n",
      "k : 7, Gamma : 0.9714285714285714, Lambda : 0.03, Score: 88.8\n",
      "Train set lifted\n",
      "Test set lifted\n",
      "k : 7, Gamma : 0.9714285714285714, Lambda : 0.01, Score: 86.8\n",
      "k : 7, Gamma : 0.9714285714285714, Lambda : 0.015, Score: 86.2\n",
      "k : 7, Gamma : 0.9714285714285714, Lambda : 0.019999999999999997, Score: 86.4\n",
      "k : 7, Gamma : 0.9714285714285714, Lambda : 0.024999999999999998, Score: 87.4\n",
      "k : 7, Gamma : 0.9714285714285714, Lambda : 0.03, Score: 87.4\n",
      "Train set lifted\n",
      "Test set lifted\n",
      "k : 7, Gamma : 1.0071428571428571, Lambda : 0.01, Score: 89.8\n",
      "k : 7, Gamma : 1.0071428571428571, Lambda : 0.015, Score: 89.8\n",
      "k : 7, Gamma : 1.0071428571428571, Lambda : 0.019999999999999997, Score: 90.0\n",
      "k : 7, Gamma : 1.0071428571428571, Lambda : 0.024999999999999998, Score: 90.60000000000001\n",
      "k : 7, Gamma : 1.0071428571428571, Lambda : 0.03, Score: 90.2\n",
      "Train set lifted\n",
      "Test set lifted\n",
      "k : 7, Gamma : 1.0071428571428571, Lambda : 0.01, Score: 88.2\n",
      "k : 7, Gamma : 1.0071428571428571, Lambda : 0.015, Score: 88.6\n",
      "k : 7, Gamma : 1.0071428571428571, Lambda : 0.019999999999999997, Score: 89.0\n",
      "k : 7, Gamma : 1.0071428571428571, Lambda : 0.024999999999999998, Score: 88.6\n",
      "k : 7, Gamma : 1.0071428571428571, Lambda : 0.03, Score: 88.4\n",
      "Train set lifted\n",
      "Test set lifted\n",
      "k : 7, Gamma : 1.0071428571428571, Lambda : 0.01, Score: 89.0\n",
      "k : 7, Gamma : 1.0071428571428571, Lambda : 0.015, Score: 89.0\n",
      "k : 7, Gamma : 1.0071428571428571, Lambda : 0.019999999999999997, Score: 89.2\n",
      "k : 7, Gamma : 1.0071428571428571, Lambda : 0.024999999999999998, Score: 89.2\n",
      "k : 7, Gamma : 1.0071428571428571, Lambda : 0.03, Score: 89.60000000000001\n",
      "Train set lifted\n",
      "Test set lifted\n",
      "k : 7, Gamma : 1.0071428571428571, Lambda : 0.01, Score: 87.4\n",
      "k : 7, Gamma : 1.0071428571428571, Lambda : 0.015, Score: 87.6\n",
      "k : 7, Gamma : 1.0071428571428571, Lambda : 0.019999999999999997, Score: 88.2\n",
      "k : 7, Gamma : 1.0071428571428571, Lambda : 0.024999999999999998, Score: 88.2\n",
      "k : 7, Gamma : 1.0071428571428571, Lambda : 0.03, Score: 88.0\n",
      "Train set lifted\n",
      "Test set lifted\n",
      "k : 7, Gamma : 1.0428571428571427, Lambda : 0.01, Score: 88.0\n",
      "k : 7, Gamma : 1.0428571428571427, Lambda : 0.015, Score: 87.8\n",
      "k : 7, Gamma : 1.0428571428571427, Lambda : 0.019999999999999997, Score: 88.0\n",
      "k : 7, Gamma : 1.0428571428571427, Lambda : 0.024999999999999998, Score: 87.8\n",
      "k : 7, Gamma : 1.0428571428571427, Lambda : 0.03, Score: 87.6\n",
      "Train set lifted\n",
      "Test set lifted\n",
      "k : 7, Gamma : 1.0428571428571427, Lambda : 0.01, Score: 87.0\n",
      "k : 7, Gamma : 1.0428571428571427, Lambda : 0.015, Score: 88.0\n",
      "k : 7, Gamma : 1.0428571428571427, Lambda : 0.019999999999999997, Score: 88.0\n",
      "k : 7, Gamma : 1.0428571428571427, Lambda : 0.024999999999999998, Score: 88.6\n",
      "k : 7, Gamma : 1.0428571428571427, Lambda : 0.03, Score: 89.0\n",
      "Train set lifted\n",
      "Test set lifted\n",
      "k : 7, Gamma : 1.0428571428571427, Lambda : 0.01, Score: 89.0\n",
      "k : 7, Gamma : 1.0428571428571427, Lambda : 0.015, Score: 89.2\n",
      "k : 7, Gamma : 1.0428571428571427, Lambda : 0.019999999999999997, Score: 89.0\n",
      "k : 7, Gamma : 1.0428571428571427, Lambda : 0.024999999999999998, Score: 89.0\n",
      "k : 7, Gamma : 1.0428571428571427, Lambda : 0.03, Score: 89.2\n",
      "Train set lifted\n",
      "Test set lifted\n",
      "k : 7, Gamma : 1.0428571428571427, Lambda : 0.01, Score: 88.8\n",
      "k : 7, Gamma : 1.0428571428571427, Lambda : 0.015, Score: 89.2\n",
      "k : 7, Gamma : 1.0428571428571427, Lambda : 0.019999999999999997, Score: 89.2\n",
      "k : 7, Gamma : 1.0428571428571427, Lambda : 0.024999999999999998, Score: 89.0\n",
      "k : 7, Gamma : 1.0428571428571427, Lambda : 0.03, Score: 89.0\n",
      "Train set lifted\n",
      "Test set lifted\n",
      "k : 7, Gamma : 1.0785714285714285, Lambda : 0.01, Score: 88.6\n",
      "k : 7, Gamma : 1.0785714285714285, Lambda : 0.015, Score: 88.6\n",
      "k : 7, Gamma : 1.0785714285714285, Lambda : 0.019999999999999997, Score: 88.6\n",
      "k : 7, Gamma : 1.0785714285714285, Lambda : 0.024999999999999998, Score: 88.2\n",
      "k : 7, Gamma : 1.0785714285714285, Lambda : 0.03, Score: 88.2\n",
      "Train set lifted\n",
      "Test set lifted\n",
      "k : 7, Gamma : 1.0785714285714285, Lambda : 0.01, Score: 86.8\n",
      "k : 7, Gamma : 1.0785714285714285, Lambda : 0.015, Score: 87.4\n",
      "k : 7, Gamma : 1.0785714285714285, Lambda : 0.019999999999999997, Score: 87.6\n",
      "k : 7, Gamma : 1.0785714285714285, Lambda : 0.024999999999999998, Score: 87.6\n",
      "k : 7, Gamma : 1.0785714285714285, Lambda : 0.03, Score: 88.0\n",
      "Train set lifted\n",
      "Test set lifted\n",
      "k : 7, Gamma : 1.0785714285714285, Lambda : 0.01, Score: 87.4\n",
      "k : 7, Gamma : 1.0785714285714285, Lambda : 0.015, Score: 87.8\n",
      "k : 7, Gamma : 1.0785714285714285, Lambda : 0.019999999999999997, Score: 87.8\n"
     ]
    },
    {
     "name": "stdout",
     "output_type": "stream",
     "text": [
      "k : 7, Gamma : 1.0785714285714285, Lambda : 0.024999999999999998, Score: 87.8\n",
      "k : 7, Gamma : 1.0785714285714285, Lambda : 0.03, Score: 88.2\n",
      "Train set lifted\n",
      "Test set lifted\n",
      "k : 7, Gamma : 1.0785714285714285, Lambda : 0.01, Score: 88.6\n",
      "k : 7, Gamma : 1.0785714285714285, Lambda : 0.015, Score: 88.8\n",
      "k : 7, Gamma : 1.0785714285714285, Lambda : 0.019999999999999997, Score: 89.2\n",
      "k : 7, Gamma : 1.0785714285714285, Lambda : 0.024999999999999998, Score: 89.2\n",
      "k : 7, Gamma : 1.0785714285714285, Lambda : 0.03, Score: 88.8\n",
      "Train set lifted\n",
      "Test set lifted\n",
      "k : 7, Gamma : 1.1142857142857143, Lambda : 0.01, Score: 88.6\n",
      "k : 7, Gamma : 1.1142857142857143, Lambda : 0.015, Score: 89.0\n",
      "k : 7, Gamma : 1.1142857142857143, Lambda : 0.019999999999999997, Score: 89.2\n",
      "k : 7, Gamma : 1.1142857142857143, Lambda : 0.024999999999999998, Score: 89.2\n",
      "k : 7, Gamma : 1.1142857142857143, Lambda : 0.03, Score: 89.4\n",
      "Train set lifted\n",
      "Test set lifted\n",
      "k : 7, Gamma : 1.1142857142857143, Lambda : 0.01, Score: 87.6\n",
      "k : 7, Gamma : 1.1142857142857143, Lambda : 0.015, Score: 88.0\n",
      "k : 7, Gamma : 1.1142857142857143, Lambda : 0.019999999999999997, Score: 88.6\n",
      "k : 7, Gamma : 1.1142857142857143, Lambda : 0.024999999999999998, Score: 89.0\n",
      "k : 7, Gamma : 1.1142857142857143, Lambda : 0.03, Score: 89.2\n",
      "Train set lifted\n",
      "Test set lifted\n",
      "k : 7, Gamma : 1.1142857142857143, Lambda : 0.01, Score: 87.0\n",
      "k : 7, Gamma : 1.1142857142857143, Lambda : 0.015, Score: 87.6\n",
      "k : 7, Gamma : 1.1142857142857143, Lambda : 0.019999999999999997, Score: 87.8\n",
      "k : 7, Gamma : 1.1142857142857143, Lambda : 0.024999999999999998, Score: 87.6\n",
      "k : 7, Gamma : 1.1142857142857143, Lambda : 0.03, Score: 87.8\n",
      "Train set lifted\n",
      "Test set lifted\n",
      "k : 7, Gamma : 1.1142857142857143, Lambda : 0.01, Score: 89.2\n",
      "k : 7, Gamma : 1.1142857142857143, Lambda : 0.015, Score: 89.4\n",
      "k : 7, Gamma : 1.1142857142857143, Lambda : 0.019999999999999997, Score: 89.8\n",
      "k : 7, Gamma : 1.1142857142857143, Lambda : 0.024999999999999998, Score: 89.4\n",
      "k : 7, Gamma : 1.1142857142857143, Lambda : 0.03, Score: 89.60000000000001\n",
      "Train set lifted\n",
      "Test set lifted\n",
      "k : 7, Gamma : 1.15, Lambda : 0.01, Score: 87.2\n",
      "k : 7, Gamma : 1.15, Lambda : 0.015, Score: 87.6\n",
      "k : 7, Gamma : 1.15, Lambda : 0.019999999999999997, Score: 88.0\n",
      "k : 7, Gamma : 1.15, Lambda : 0.024999999999999998, Score: 88.0\n",
      "k : 7, Gamma : 1.15, Lambda : 0.03, Score: 88.2\n",
      "Train set lifted\n",
      "Test set lifted\n",
      "k : 7, Gamma : 1.15, Lambda : 0.01, Score: 87.4\n",
      "k : 7, Gamma : 1.15, Lambda : 0.015, Score: 87.2\n",
      "k : 7, Gamma : 1.15, Lambda : 0.019999999999999997, Score: 87.2\n",
      "k : 7, Gamma : 1.15, Lambda : 0.024999999999999998, Score: 87.4\n",
      "k : 7, Gamma : 1.15, Lambda : 0.03, Score: 87.6\n",
      "Train set lifted\n",
      "Test set lifted\n",
      "k : 7, Gamma : 1.15, Lambda : 0.01, Score: 87.8\n",
      "k : 7, Gamma : 1.15, Lambda : 0.015, Score: 88.0\n",
      "k : 7, Gamma : 1.15, Lambda : 0.019999999999999997, Score: 87.8\n",
      "k : 7, Gamma : 1.15, Lambda : 0.024999999999999998, Score: 87.8\n",
      "k : 7, Gamma : 1.15, Lambda : 0.03, Score: 88.0\n",
      "Train set lifted\n",
      "Test set lifted\n",
      "k : 7, Gamma : 1.15, Lambda : 0.01, Score: 87.6\n",
      "k : 7, Gamma : 1.15, Lambda : 0.015, Score: 88.0\n",
      "k : 7, Gamma : 1.15, Lambda : 0.019999999999999997, Score: 88.4\n",
      "k : 7, Gamma : 1.15, Lambda : 0.024999999999999998, Score: 88.8\n",
      "k : 7, Gamma : 1.15, Lambda : 0.03, Score: 88.8\n",
      "Train set lifted\n",
      "Test set lifted\n",
      "k : 8, Gamma : 0.9, Lambda : 0.01, Score: 86.4\n",
      "k : 8, Gamma : 0.9, Lambda : 0.015, Score: 86.2\n",
      "k : 8, Gamma : 0.9, Lambda : 0.019999999999999997, Score: 86.8\n",
      "k : 8, Gamma : 0.9, Lambda : 0.024999999999999998, Score: 86.8\n",
      "k : 8, Gamma : 0.9, Lambda : 0.03, Score: 87.0\n",
      "Train set lifted\n",
      "Test set lifted\n",
      "k : 8, Gamma : 0.9, Lambda : 0.01, Score: 86.8\n",
      "k : 8, Gamma : 0.9, Lambda : 0.015, Score: 87.4\n",
      "k : 8, Gamma : 0.9, Lambda : 0.019999999999999997, Score: 87.0\n",
      "k : 8, Gamma : 0.9, Lambda : 0.024999999999999998, Score: 87.0\n",
      "k : 8, Gamma : 0.9, Lambda : 0.03, Score: 87.0\n",
      "Train set lifted\n",
      "Test set lifted\n",
      "k : 8, Gamma : 0.9, Lambda : 0.01, Score: 85.2\n",
      "k : 8, Gamma : 0.9, Lambda : 0.015, Score: 85.6\n",
      "k : 8, Gamma : 0.9, Lambda : 0.019999999999999997, Score: 85.8\n",
      "k : 8, Gamma : 0.9, Lambda : 0.024999999999999998, Score: 85.8\n",
      "k : 8, Gamma : 0.9, Lambda : 0.03, Score: 86.0\n",
      "Train set lifted\n",
      "Test set lifted\n",
      "k : 8, Gamma : 0.9, Lambda : 0.01, Score: 87.2\n",
      "k : 8, Gamma : 0.9, Lambda : 0.015, Score: 87.4\n",
      "k : 8, Gamma : 0.9, Lambda : 0.019999999999999997, Score: 87.2\n",
      "k : 8, Gamma : 0.9, Lambda : 0.024999999999999998, Score: 87.2\n",
      "k : 8, Gamma : 0.9, Lambda : 0.03, Score: 87.8\n",
      "Train set lifted\n",
      "Test set lifted\n",
      "k : 8, Gamma : 0.9357142857142857, Lambda : 0.01, Score: 87.2\n",
      "k : 8, Gamma : 0.9357142857142857, Lambda : 0.015, Score: 87.4\n",
      "k : 8, Gamma : 0.9357142857142857, Lambda : 0.019999999999999997, Score: 87.8\n",
      "k : 8, Gamma : 0.9357142857142857, Lambda : 0.024999999999999998, Score: 88.2\n",
      "k : 8, Gamma : 0.9357142857142857, Lambda : 0.03, Score: 87.8\n",
      "Train set lifted\n",
      "Test set lifted\n",
      "k : 8, Gamma : 0.9357142857142857, Lambda : 0.01, Score: 89.0\n",
      "k : 8, Gamma : 0.9357142857142857, Lambda : 0.015, Score: 89.2\n",
      "k : 8, Gamma : 0.9357142857142857, Lambda : 0.019999999999999997, Score: 89.0\n",
      "k : 8, Gamma : 0.9357142857142857, Lambda : 0.024999999999999998, Score: 89.60000000000001\n",
      "k : 8, Gamma : 0.9357142857142857, Lambda : 0.03, Score: 89.8\n",
      "Train set lifted\n",
      "Test set lifted\n",
      "k : 8, Gamma : 0.9357142857142857, Lambda : 0.01, Score: 88.0\n",
      "k : 8, Gamma : 0.9357142857142857, Lambda : 0.015, Score: 87.8\n",
      "k : 8, Gamma : 0.9357142857142857, Lambda : 0.019999999999999997, Score: 88.2\n",
      "k : 8, Gamma : 0.9357142857142857, Lambda : 0.024999999999999998, Score: 88.2\n",
      "k : 8, Gamma : 0.9357142857142857, Lambda : 0.03, Score: 88.2\n",
      "Train set lifted\n",
      "Test set lifted\n",
      "k : 8, Gamma : 0.9357142857142857, Lambda : 0.01, Score: 86.0\n",
      "k : 8, Gamma : 0.9357142857142857, Lambda : 0.015, Score: 87.0\n",
      "k : 8, Gamma : 0.9357142857142857, Lambda : 0.019999999999999997, Score: 87.2\n",
      "k : 8, Gamma : 0.9357142857142857, Lambda : 0.024999999999999998, Score: 87.6\n",
      "k : 8, Gamma : 0.9357142857142857, Lambda : 0.03, Score: 87.0\n",
      "Train set lifted\n",
      "Test set lifted\n",
      "k : 8, Gamma : 0.9714285714285714, Lambda : 0.01, Score: 87.8\n",
      "k : 8, Gamma : 0.9714285714285714, Lambda : 0.015, Score: 88.0\n",
      "k : 8, Gamma : 0.9714285714285714, Lambda : 0.019999999999999997, Score: 88.0\n",
      "k : 8, Gamma : 0.9714285714285714, Lambda : 0.024999999999999998, Score: 87.8\n",
      "k : 8, Gamma : 0.9714285714285714, Lambda : 0.03, Score: 87.6\n",
      "Train set lifted\n",
      "Test set lifted\n",
      "k : 8, Gamma : 0.9714285714285714, Lambda : 0.01, Score: 88.4\n",
      "k : 8, Gamma : 0.9714285714285714, Lambda : 0.015, Score: 88.6\n",
      "k : 8, Gamma : 0.9714285714285714, Lambda : 0.019999999999999997, Score: 88.8\n",
      "k : 8, Gamma : 0.9714285714285714, Lambda : 0.024999999999999998, Score: 88.6\n",
      "k : 8, Gamma : 0.9714285714285714, Lambda : 0.03, Score: 89.0\n",
      "Train set lifted\n",
      "Test set lifted\n",
      "k : 8, Gamma : 0.9714285714285714, Lambda : 0.01, Score: 88.8\n",
      "k : 8, Gamma : 0.9714285714285714, Lambda : 0.015, Score: 89.0\n",
      "k : 8, Gamma : 0.9714285714285714, Lambda : 0.019999999999999997, Score: 89.0\n",
      "k : 8, Gamma : 0.9714285714285714, Lambda : 0.024999999999999998, Score: 89.0\n",
      "k : 8, Gamma : 0.9714285714285714, Lambda : 0.03, Score: 89.4\n",
      "Train set lifted\n",
      "Test set lifted\n",
      "k : 8, Gamma : 0.9714285714285714, Lambda : 0.01, Score: 88.0\n",
      "k : 8, Gamma : 0.9714285714285714, Lambda : 0.015, Score: 87.8\n",
      "k : 8, Gamma : 0.9714285714285714, Lambda : 0.019999999999999997, Score: 88.0\n",
      "k : 8, Gamma : 0.9714285714285714, Lambda : 0.024999999999999998, Score: 87.4\n",
      "k : 8, Gamma : 0.9714285714285714, Lambda : 0.03, Score: 87.6\n",
      "Train set lifted\n",
      "Test set lifted\n",
      "k : 8, Gamma : 1.0071428571428571, Lambda : 0.01, Score: 86.0\n",
      "k : 8, Gamma : 1.0071428571428571, Lambda : 0.015, Score: 86.4\n",
      "k : 8, Gamma : 1.0071428571428571, Lambda : 0.019999999999999997, Score: 86.8\n",
      "k : 8, Gamma : 1.0071428571428571, Lambda : 0.024999999999999998, Score: 86.8\n",
      "k : 8, Gamma : 1.0071428571428571, Lambda : 0.03, Score: 87.2\n",
      "Train set lifted\n",
      "Test set lifted\n",
      "k : 8, Gamma : 1.0071428571428571, Lambda : 0.01, Score: 88.4\n",
      "k : 8, Gamma : 1.0071428571428571, Lambda : 0.015, Score: 88.8\n",
      "k : 8, Gamma : 1.0071428571428571, Lambda : 0.019999999999999997, Score: 88.4\n",
      "k : 8, Gamma : 1.0071428571428571, Lambda : 0.024999999999999998, Score: 88.2\n",
      "k : 8, Gamma : 1.0071428571428571, Lambda : 0.03, Score: 88.6\n"
     ]
    },
    {
     "name": "stdout",
     "output_type": "stream",
     "text": [
      "Train set lifted\n",
      "Test set lifted\n",
      "k : 8, Gamma : 1.0071428571428571, Lambda : 0.01, Score: 87.4\n",
      "k : 8, Gamma : 1.0071428571428571, Lambda : 0.015, Score: 87.8\n",
      "k : 8, Gamma : 1.0071428571428571, Lambda : 0.019999999999999997, Score: 88.2\n",
      "k : 8, Gamma : 1.0071428571428571, Lambda : 0.024999999999999998, Score: 88.2\n",
      "k : 8, Gamma : 1.0071428571428571, Lambda : 0.03, Score: 88.4\n",
      "Train set lifted\n",
      "Test set lifted\n",
      "k : 8, Gamma : 1.0071428571428571, Lambda : 0.01, Score: 87.6\n",
      "k : 8, Gamma : 1.0071428571428571, Lambda : 0.015, Score: 88.8\n",
      "k : 8, Gamma : 1.0071428571428571, Lambda : 0.019999999999999997, Score: 88.8\n",
      "k : 8, Gamma : 1.0071428571428571, Lambda : 0.024999999999999998, Score: 87.6\n",
      "k : 8, Gamma : 1.0071428571428571, Lambda : 0.03, Score: 87.6\n",
      "Train set lifted\n",
      "Test set lifted\n",
      "k : 8, Gamma : 1.0428571428571427, Lambda : 0.01, Score: 88.0\n",
      "k : 8, Gamma : 1.0428571428571427, Lambda : 0.015, Score: 88.0\n",
      "k : 8, Gamma : 1.0428571428571427, Lambda : 0.019999999999999997, Score: 88.2\n",
      "k : 8, Gamma : 1.0428571428571427, Lambda : 0.024999999999999998, Score: 88.6\n",
      "k : 8, Gamma : 1.0428571428571427, Lambda : 0.03, Score: 89.0\n",
      "Train set lifted\n",
      "Test set lifted\n",
      "k : 8, Gamma : 1.0428571428571427, Lambda : 0.01, Score: 87.8\n",
      "k : 8, Gamma : 1.0428571428571427, Lambda : 0.015, Score: 88.4\n",
      "k : 8, Gamma : 1.0428571428571427, Lambda : 0.019999999999999997, Score: 88.0\n",
      "k : 8, Gamma : 1.0428571428571427, Lambda : 0.024999999999999998, Score: 87.8\n",
      "k : 8, Gamma : 1.0428571428571427, Lambda : 0.03, Score: 87.6\n",
      "Train set lifted\n",
      "Test set lifted\n",
      "k : 8, Gamma : 1.0428571428571427, Lambda : 0.01, Score: 87.8\n",
      "k : 8, Gamma : 1.0428571428571427, Lambda : 0.015, Score: 88.2\n",
      "k : 8, Gamma : 1.0428571428571427, Lambda : 0.019999999999999997, Score: 88.2\n",
      "k : 8, Gamma : 1.0428571428571427, Lambda : 0.024999999999999998, Score: 88.2\n",
      "k : 8, Gamma : 1.0428571428571427, Lambda : 0.03, Score: 88.2\n",
      "Train set lifted\n",
      "Test set lifted\n",
      "k : 8, Gamma : 1.0428571428571427, Lambda : 0.01, Score: 87.2\n",
      "k : 8, Gamma : 1.0428571428571427, Lambda : 0.015, Score: 87.6\n",
      "k : 8, Gamma : 1.0428571428571427, Lambda : 0.019999999999999997, Score: 87.8\n",
      "k : 8, Gamma : 1.0428571428571427, Lambda : 0.024999999999999998, Score: 87.8\n",
      "k : 8, Gamma : 1.0428571428571427, Lambda : 0.03, Score: 88.2\n",
      "Train set lifted\n",
      "Test set lifted\n",
      "k : 8, Gamma : 1.0785714285714285, Lambda : 0.01, Score: 87.4\n",
      "k : 8, Gamma : 1.0785714285714285, Lambda : 0.015, Score: 87.4\n",
      "k : 8, Gamma : 1.0785714285714285, Lambda : 0.019999999999999997, Score: 87.6\n",
      "k : 8, Gamma : 1.0785714285714285, Lambda : 0.024999999999999998, Score: 87.6\n",
      "k : 8, Gamma : 1.0785714285714285, Lambda : 0.03, Score: 87.6\n",
      "Train set lifted\n",
      "Test set lifted\n",
      "k : 8, Gamma : 1.0785714285714285, Lambda : 0.01, Score: 88.6\n",
      "k : 8, Gamma : 1.0785714285714285, Lambda : 0.015, Score: 89.0\n",
      "k : 8, Gamma : 1.0785714285714285, Lambda : 0.019999999999999997, Score: 89.2\n",
      "k : 8, Gamma : 1.0785714285714285, Lambda : 0.024999999999999998, Score: 89.2\n",
      "k : 8, Gamma : 1.0785714285714285, Lambda : 0.03, Score: 88.8\n",
      "Train set lifted\n",
      "Test set lifted\n",
      "k : 8, Gamma : 1.0785714285714285, Lambda : 0.01, Score: 87.8\n",
      "k : 8, Gamma : 1.0785714285714285, Lambda : 0.015, Score: 88.2\n",
      "k : 8, Gamma : 1.0785714285714285, Lambda : 0.019999999999999997, Score: 87.8\n",
      "k : 8, Gamma : 1.0785714285714285, Lambda : 0.024999999999999998, Score: 87.8\n",
      "k : 8, Gamma : 1.0785714285714285, Lambda : 0.03, Score: 88.4\n",
      "Train set lifted\n",
      "Test set lifted\n",
      "k : 8, Gamma : 1.0785714285714285, Lambda : 0.01, Score: 86.8\n",
      "k : 8, Gamma : 1.0785714285714285, Lambda : 0.015, Score: 87.4\n",
      "k : 8, Gamma : 1.0785714285714285, Lambda : 0.019999999999999997, Score: 87.4\n",
      "k : 8, Gamma : 1.0785714285714285, Lambda : 0.024999999999999998, Score: 87.6\n",
      "k : 8, Gamma : 1.0785714285714285, Lambda : 0.03, Score: 87.6\n",
      "Train set lifted\n",
      "Test set lifted\n",
      "k : 8, Gamma : 1.1142857142857143, Lambda : 0.01, Score: 89.0\n",
      "k : 8, Gamma : 1.1142857142857143, Lambda : 0.015, Score: 89.0\n",
      "k : 8, Gamma : 1.1142857142857143, Lambda : 0.019999999999999997, Score: 89.0\n",
      "k : 8, Gamma : 1.1142857142857143, Lambda : 0.024999999999999998, Score: 88.8\n",
      "k : 8, Gamma : 1.1142857142857143, Lambda : 0.03, Score: 88.6\n",
      "Train set lifted\n",
      "Test set lifted\n",
      "k : 8, Gamma : 1.1142857142857143, Lambda : 0.01, Score: 88.6\n",
      "k : 8, Gamma : 1.1142857142857143, Lambda : 0.015, Score: 89.4\n",
      "k : 8, Gamma : 1.1142857142857143, Lambda : 0.019999999999999997, Score: 89.4\n",
      "k : 8, Gamma : 1.1142857142857143, Lambda : 0.024999999999999998, Score: 89.4\n",
      "k : 8, Gamma : 1.1142857142857143, Lambda : 0.03, Score: 89.4\n",
      "Train set lifted\n",
      "Test set lifted\n",
      "k : 8, Gamma : 1.1142857142857143, Lambda : 0.01, Score: 86.8\n",
      "k : 8, Gamma : 1.1142857142857143, Lambda : 0.015, Score: 87.2\n",
      "k : 8, Gamma : 1.1142857142857143, Lambda : 0.019999999999999997, Score: 87.2\n",
      "k : 8, Gamma : 1.1142857142857143, Lambda : 0.024999999999999998, Score: 87.4\n",
      "k : 8, Gamma : 1.1142857142857143, Lambda : 0.03, Score: 87.6\n",
      "Train set lifted\n",
      "Test set lifted\n",
      "k : 8, Gamma : 1.1142857142857143, Lambda : 0.01, Score: 85.8\n",
      "k : 8, Gamma : 1.1142857142857143, Lambda : 0.015, Score: 85.8\n",
      "k : 8, Gamma : 1.1142857142857143, Lambda : 0.019999999999999997, Score: 86.0\n",
      "k : 8, Gamma : 1.1142857142857143, Lambda : 0.024999999999999998, Score: 86.2\n",
      "k : 8, Gamma : 1.1142857142857143, Lambda : 0.03, Score: 86.4\n",
      "Train set lifted\n",
      "Test set lifted\n",
      "k : 8, Gamma : 1.15, Lambda : 0.01, Score: 88.0\n",
      "k : 8, Gamma : 1.15, Lambda : 0.015, Score: 88.0\n",
      "k : 8, Gamma : 1.15, Lambda : 0.019999999999999997, Score: 88.0\n",
      "k : 8, Gamma : 1.15, Lambda : 0.024999999999999998, Score: 88.2\n",
      "k : 8, Gamma : 1.15, Lambda : 0.03, Score: 88.0\n",
      "Train set lifted\n",
      "Test set lifted\n",
      "k : 8, Gamma : 1.15, Lambda : 0.01, Score: 86.8\n",
      "k : 8, Gamma : 1.15, Lambda : 0.015, Score: 87.0\n",
      "k : 8, Gamma : 1.15, Lambda : 0.019999999999999997, Score: 87.8\n",
      "k : 8, Gamma : 1.15, Lambda : 0.024999999999999998, Score: 87.6\n",
      "k : 8, Gamma : 1.15, Lambda : 0.03, Score: 87.6\n",
      "Train set lifted\n",
      "Test set lifted\n",
      "k : 8, Gamma : 1.15, Lambda : 0.01, Score: 88.6\n",
      "k : 8, Gamma : 1.15, Lambda : 0.015, Score: 89.0\n",
      "k : 8, Gamma : 1.15, Lambda : 0.019999999999999997, Score: 89.4\n",
      "k : 8, Gamma : 1.15, Lambda : 0.024999999999999998, Score: 89.8\n",
      "k : 8, Gamma : 1.15, Lambda : 0.03, Score: 89.60000000000001\n",
      "Train set lifted\n",
      "Test set lifted\n",
      "k : 8, Gamma : 1.15, Lambda : 0.01, Score: 87.6\n",
      "k : 8, Gamma : 1.15, Lambda : 0.015, Score: 87.6\n",
      "k : 8, Gamma : 1.15, Lambda : 0.019999999999999997, Score: 87.4\n",
      "k : 8, Gamma : 1.15, Lambda : 0.024999999999999998, Score: 87.2\n",
      "k : 8, Gamma : 1.15, Lambda : 0.03, Score: 87.4\n",
      "Best k : 7, best gamma : 1.0071428571428571, best lambda : 0.024999999999999998, best score: 71.32\n"
     ]
    }
   ],
   "source": [
    "#### TEST of the KITCHENS SINKs\n",
    "alpha_size = 4\n",
    "\n",
    "M = 6*2048\n",
    "\n",
    "best_score = 0\n",
    "\n",
    "kernel_parameters = {} # no parameters for linear kernel\n",
    "\n",
    "\"\"\" \n",
    "X_lift_train = phi_sink(X_train, k, gamma, M)\n",
    "print(\"Train set lifted\")\n",
    "X_lift_test = phi_sink(X_test, k, gamma, M)\n",
    "print(\"Test set lifted\")\n",
    "\"\"\"\n",
    "n_lambda = 5\n",
    "for k in [7,8]:\n",
    "    for gamma in np.linspace(0.9,1.15,8):\n",
    "        score_avg_list = np.zeros(n_lambda)\n",
    "        for run in range(4):\n",
    "\n",
    "            W = gamma*np.random.randn(M,4*k)\n",
    "            b = (2*np.pi)*np.random.rand(M)\n",
    "\n",
    "            X_train_ = sequence_to_matrix(X_train)\n",
    "            X_test_ = sequence_to_matrix(X_test)\n",
    "\n",
    "            X_lift_train = compute_conv_features(X_train_, W, b, alpha_size = alpha_size)\n",
    "            print(\"Train set lifted\")\n",
    "            X_lift_test = compute_conv_features(X_test_, W, b, alpha_size = alpha_size)\n",
    "            print(\"Test set lifted\")\n",
    "\n",
    "            clf = KernelSVM(lambda_reg = 0, loss=\"squared_hinge\", kernel = linear, \n",
    "                        kernel_parameters = kernel_parameters, data_type='vector', threshold=0, verbose=False)\n",
    "            \n",
    "            lambda_list = np.linspace(0.01, 0.03, 5)\n",
    "            for lambda_reg, lambda_index in zip(lambda_list,range(n_lambda)):\n",
    "\n",
    "                #clf_sk = LinearSVC(C=1/(2*1500*lambda_reg))\n",
    "\n",
    "                clf.lambda_reg = lambda_reg\n",
    "\n",
    "                clf.fit(X_lift_train, y_train)\n",
    "\n",
    "                #clf_sk.fit(X_lift_train, y_train)\n",
    "                #print(\"bias sk : {}\".format(clf_sk.intercept_))\n",
    "                #print(\"bias nous : {}\".format(clf.bias))\n",
    "                y_pred_test = clf.predict(X_lift_test)\n",
    "                #y_pred_test_sk = clf_sk.predict(X_lift_test)\n",
    "\n",
    "                score =  sum(y_test == y_pred_test)/len(y_test)*100\n",
    "                print('k : {}, Gamma : {}, Lambda : {}, Score: {}'.format(k,gamma, lambda_reg, score))\n",
    "                \n",
    "                score_avg_list[lambda_index] += score\n",
    "                #score_sk =  sum(y_test == y_pred_test_sk)/len(y_test)*100\n",
    "            \n",
    "        score_avg_list = score_avg_list/n_lambda\n",
    "        score_avg = np.max(score_avg_list)\n",
    "        lambda_opt_index = np.argmax(score_avg_list)\n",
    "        lambda_opt = lambda_list[lambda_opt_index]\n",
    "        if score_avg > best_score:\n",
    "            best_score = score_avg\n",
    "            best_gamma = gamma\n",
    "            best_lambda = lambda_opt\n",
    "            best_k = k\n",
    "\n",
    "print('Best k : {}, best gamma : {}, best lambda : {}, best score: {}'.format(best_k, best_gamma, best_lambda, best_score))"
   ]
  },
  {
   "cell_type": "code",
   "execution_count": 6,
   "metadata": {
    "collapsed": true
   },
   "outputs": [],
   "source": [
    "#np.save('W_0.npy', best_W)\n",
    "#np.save('b_0.npy', best_b)\n",
    "\n",
    "\n",
    "# k = 7, M =10\n",
    "#Gamma : 1.0, Lambda : 0.06210526315789474, Score: 70.19999999999999\n",
    "#Gamma : 1.0, Lambda : 0.11421052631578947, Score: 70.8\n",
    "#Gamma : 1.0, Lambda : 0.16631578947368422, Score: 71.2\n",
    "#Gamma : 1.0, Lambda : 0.21842105263157896, Score: 71.0"
   ]
  },
  {
   "cell_type": "code",
   "execution_count": 10,
   "metadata": {},
   "outputs": [
    {
     "data": {
      "text/plain": [
       "70.56"
      ]
     },
     "execution_count": 10,
     "metadata": {},
     "output_type": "execute_result"
    }
   ],
   "source": [
    "score_avg"
   ]
  },
  {
   "cell_type": "code",
   "execution_count": 14,
   "metadata": {
    "collapsed": true
   },
   "outputs": [],
   "source": [
    "best_W = np.load(\"W_2.npy\") \n",
    "best_b = np.load(\"b_2.npy\")"
   ]
  },
  {
   "cell_type": "markdown",
   "metadata": {},
   "source": [
    "### k-spectrum kernel"
   ]
  },
  {
   "cell_type": "code",
   "execution_count": null,
   "metadata": {
    "scrolled": false
   },
   "outputs": [
    {
     "name": "stderr",
     "output_type": "stream",
     "text": [
      "Building kernel matrix: 100%|██████████| 1500/1500 [00:15<00:00, 94.93it/s] \n"
     ]
    },
    {
     "name": "stdout",
     "output_type": "stream",
     "text": [
      "nombre de vecteurs a la marge : 795\n"
     ]
    },
    {
     "name": "stderr",
     "output_type": "stream",
     "text": [
      "Predicting values: 100%|██████████| 500/500 [00:40<00:00, 12.29it/s]\n"
     ]
    },
    {
     "name": "stdout",
     "output_type": "stream",
     "text": [
      "{'k': 6} 0.02 0.756\n",
      "nombre de vecteurs a la marge : 527\n"
     ]
    },
    {
     "name": "stderr",
     "output_type": "stream",
     "text": [
      "Predicting values: 100%|██████████| 500/500 [00:40<00:00, 12.38it/s]\n"
     ]
    },
    {
     "name": "stdout",
     "output_type": "stream",
     "text": [
      "{'k': 6} 0.04000000000000001 0.76\n",
      "nombre de vecteurs a la marge : 353\n"
     ]
    },
    {
     "name": "stderr",
     "output_type": "stream",
     "text": [
      "Predicting values: 100%|██████████| 500/500 [00:38<00:00, 12.97it/s]\n"
     ]
    },
    {
     "name": "stdout",
     "output_type": "stream",
     "text": [
      "{'k': 6} 0.06000000000000001 0.76\n",
      "nombre de vecteurs a la marge : 234\n"
     ]
    },
    {
     "name": "stderr",
     "output_type": "stream",
     "text": [
      "Predicting values: 100%|██████████| 500/500 [00:39<00:00, 12.51it/s]\n"
     ]
    },
    {
     "name": "stdout",
     "output_type": "stream",
     "text": [
      "{'k': 6} 0.08000000000000002 0.76\n",
      "nombre de vecteurs a la marge : 168\n"
     ]
    },
    {
     "name": "stderr",
     "output_type": "stream",
     "text": [
      "Predicting values: 100%|██████████| 500/500 [00:40<00:00, 12.27it/s]\n"
     ]
    },
    {
     "name": "stdout",
     "output_type": "stream",
     "text": [
      "{'k': 6} 0.10000000000000002 0.774\n",
      "nombre de vecteurs a la marge : 108\n"
     ]
    },
    {
     "name": "stderr",
     "output_type": "stream",
     "text": [
      "Predicting values: 100%|██████████| 500/500 [00:40<00:00, 12.43it/s]\n"
     ]
    },
    {
     "name": "stdout",
     "output_type": "stream",
     "text": [
      "{'k': 6} 0.12000000000000002 0.776\n"
     ]
    },
    {
     "name": "stderr",
     "output_type": "stream",
     "text": [
      "\r",
      "Predicting values:   0%|          | 0/500 [00:00<?, ?it/s]"
     ]
    },
    {
     "name": "stdout",
     "output_type": "stream",
     "text": [
      "nombre de vecteurs a la marge : 53\n"
     ]
    },
    {
     "name": "stderr",
     "output_type": "stream",
     "text": [
      "Predicting values: 100%|██████████| 500/500 [00:39<00:00, 12.69it/s]\n"
     ]
    },
    {
     "name": "stdout",
     "output_type": "stream",
     "text": [
      "{'k': 6} 0.14 0.764\n"
     ]
    },
    {
     "name": "stderr",
     "output_type": "stream",
     "text": [
      "\r",
      "Predicting values:   0%|          | 0/500 [00:00<?, ?it/s]"
     ]
    },
    {
     "name": "stdout",
     "output_type": "stream",
     "text": [
      "nombre de vecteurs a la marge : 32\n"
     ]
    },
    {
     "name": "stderr",
     "output_type": "stream",
     "text": [
      "Predicting values: 100%|██████████| 500/500 [00:38<00:00, 12.85it/s]"
     ]
    }
   ],
   "source": [
    "#Grid search for parameters\n",
    "\n",
    "kernel_parameters_list = [{'k':6}]\n",
    "best_score = 0\n",
    "best_param = None\n",
    "\n",
    "for kernel_parameters in kernel_parameters_list:\n",
    "    \n",
    "    svm = KernelSVM(lambda_reg = 1, loss='hinge', kernel = spectrum_kernel, \n",
    "                kernel_parameters = kernel_parameters, data_type='string')\n",
    "\n",
    "    for lambda_reg in np.linspace(0.02,0.2,10):\n",
    "        \n",
    "        svm.lambda_reg = lambda_reg\n",
    "        \n",
    "        # train svm\n",
    "        svm.fit(X_train, y_train)\n",
    "\n",
    "        y_pred = svm.predict2(X_test)\n",
    "\n",
    "        #print('Score : ')\n",
    "        #sum(y_test == y_pred)/len(y_test)\n",
    "        score = sum(y_test == y_pred)/len(y_test)\n",
    "        print(kernel_parameters, lambda_reg, score)\n",
    "        if score > best_score:\n",
    "            best_score=score\n",
    "            best_param = lambda_reg, kernel_parameters\n",
    "            \n",
    "print(best_score)\n",
    "print(best_param)"
   ]
  },
  {
   "cell_type": "markdown",
   "metadata": {},
   "source": [
    "# Submission"
   ]
  },
  {
   "cell_type": "markdown",
   "metadata": {},
   "source": [
    "### Mixed"
   ]
  },
  {
   "cell_type": "code",
   "execution_count": 5,
   "metadata": {
    "collapsed": true
   },
   "outputs": [],
   "source": [
    "y_pred = np.zeros((3000,))"
   ]
  },
  {
   "cell_type": "code",
   "execution_count": 6,
   "metadata": {},
   "outputs": [
    {
     "name": "stderr",
     "output_type": "stream",
     "text": [
      "Building kernel matrix: 100%|██████████| 2000/2000 [01:01<00:00, 32.68it/s]\n",
      "Predicting values:   0%|          | 0/1000 [00:00<?, ?it/s]"
     ]
    },
    {
     "name": "stdout",
     "output_type": "stream",
     "text": [
      "Numbers of support vectors : 1872\n"
     ]
    },
    {
     "name": "stderr",
     "output_type": "stream",
     "text": [
      "Predicting values: 100%|██████████| 1000/1000 [02:41<00:00,  6.20it/s]\n"
     ]
    }
   ],
   "source": [
    "dataset_index = 0\n",
    "\n",
    "# load DNA strings \n",
    "data = []\n",
    "f = open('data/train/Xtr{}.csv'.format(dataset_index), 'r')\n",
    "data += [line.strip('\\n') for line in f.readlines()]\n",
    "f.close()\n",
    "\n",
    "# load target vector \n",
    "y = (load_y(\"data/train/Ytr{}.csv\".format(dataset_index)))\n",
    "y = 2*y - 1 # transform y to lie in {-1, 1} instead of {0, 1}\n",
    "y = np.reshape(y.astype(float), -1) # \n",
    "\n",
    "X_train, y_train = data, y\n",
    "\n",
    "kernel_parameters = {'k':6}\n",
    "\n",
    "clf =  KernelSVM(lambda_reg = 0.1, loss='hinge', kernel = spectrum_kernel, \n",
    "                kernel_parameters = kernel_parameters, data_type='string')\n",
    "\n",
    "clf.fit(X_train, y_train)\n",
    "\n",
    "f_ = open('data/test/Xte{}.csv'.format(dataset_index), 'r')\n",
    "X_test = [line.strip('\\n') for line in f_.readlines()]\n",
    "f_.close()\n",
    "\n",
    "y_pred[1000*dataset_index:1000*(dataset_index+1)] = np.reshape(clf.pred(X_test), (1000,))"
   ]
  },
  {
   "cell_type": "code",
   "execution_count": 7,
   "metadata": {
    "collapsed": true
   },
   "outputs": [],
   "source": [
    "dataset_index = 1\n",
    "\n",
    "alpha_size = 4\n",
    "\n",
    "kernel_parameters = {}\n",
    "\n",
    "# load DNA strings \n",
    "data = []\n",
    "f = open('data/train/Xtr{}.csv'.format(dataset_index), 'r')\n",
    "data += [line.strip('\\n') for line in f.readlines()]\n",
    "f.close()\n",
    "\n",
    "# load target vector \n",
    "y = (load_y(\"data/train/Ytr{}.csv\".format(dataset_index)))\n",
    "y = 2*y - 1 # transform y to lie in {-1, 1} instead of {0, 1}\n",
    "y = np.reshape(y.astype(float), -1) # \n",
    "\n",
    "X_train, y_train = data, y\n",
    "\n",
    "W = np.load('W_1.npy')\n",
    "b = np.load('b_1.npy')\n",
    "\n",
    "X_train_ = sequence_to_matrix(X_train)\n",
    "\n",
    "X_lift_train = compute_conv_features(X_train_, W, b, alpha_size = alpha_size)\n",
    "\n",
    "clf = KernelSVM(lambda_reg = 0.054210526315789466, loss=\"squared_hinge\", kernel = linear, \n",
    "            kernel_parameters = kernel_parameters, data_type='vector', threshold=0, verbose=False)\n",
    "\n",
    "clf.fit(X_lift_train, y_train)\n",
    "\n",
    "f_ = open('data/test/Xte{}.csv'.format(dataset_index), 'r')\n",
    "X_test = [line.strip('\\n') for line in f_.readlines()]\n",
    "f_.close()\n",
    "\n",
    "X_test_ = sequence_to_matrix(X_test)\n",
    "\n",
    "X_lift_test = compute_conv_features(X_test_, W, b, alpha_size = alpha_size)\n",
    "\n",
    "y_pred[1000*dataset_index:1000*(dataset_index+1)] = np.reshape(clf.predict(X_lift_test), (1000,))"
   ]
  },
  {
   "cell_type": "code",
   "execution_count": 8,
   "metadata": {
    "collapsed": true
   },
   "outputs": [],
   "source": [
    "dataset_index = 2\n",
    "\n",
    "alpha_size = 4\n",
    "\n",
    "# load DNA strings \n",
    "data = []\n",
    "f = open('data/train/Xtr{}.csv'.format(dataset_index), 'r')\n",
    "data += [line.strip('\\n') for line in f.readlines()]\n",
    "f.close()\n",
    "\n",
    "# load target vector \n",
    "y = (load_y(\"data/train/Ytr{}.csv\".format(dataset_index)))\n",
    "y = 2*y - 1 # transform y to lie in {-1, 1} instead of {0, 1}\n",
    "y = np.reshape(y.astype(float), -1) # \n",
    "\n",
    "X_train, y_train = data, y\n",
    "\n",
    "W = np.load('W_2.npy')\n",
    "b = np.load('b_2.npy')\n",
    "\n",
    "X_train_ = sequence_to_matrix(X_train)\n",
    "\n",
    "X_lift_train = compute_conv_features(X_train_, W, b, alpha_size = alpha_size)\n",
    "\n",
    "clf = KernelSVM(lambda_reg = 0.16631578947368422, loss=\"squared_hinge\", kernel = linear, \n",
    "            kernel_parameters = kernel_parameters, data_type='vector', threshold=0, verbose=False)\n",
    "\n",
    "clf.fit(X_lift_train, y_train)\n",
    "\n",
    "f_ = open('data/test/Xte{}.csv'.format(dataset_index), 'r')\n",
    "X_test = [line.strip('\\n') for line in f_.readlines()]\n",
    "f_.close()\n",
    "\n",
    "X_test_ = sequence_to_matrix(X_test)\n",
    "\n",
    "X_lift_test = compute_conv_features(X_test_, W, b, alpha_size = alpha_size)\n",
    "\n",
    "y_pred[1000*dataset_index:1000*(dataset_index+1)] = np.reshape(clf.predict(X_lift_test), (1000,))"
   ]
  },
  {
   "cell_type": "code",
   "execution_count": 9,
   "metadata": {
    "collapsed": true
   },
   "outputs": [],
   "source": [
    "y_pred = (y_pred+1)/2 # to have y in 0 and 1\n",
    "df = pd.DataFrame(y_pred, columns=['Bound'])\n",
    "df.index.name = 'Id'\n",
    "df.Bound = df.Bound.astype(int)\n",
    "df.to_csv('mixed.csv')"
   ]
  },
  {
   "cell_type": "markdown",
   "metadata": {},
   "source": [
    "### Kitchen sink"
   ]
  },
  {
   "cell_type": "code",
   "execution_count": 9,
   "metadata": {
    "scrolled": true
   },
   "outputs": [
    {
     "name": "stdout",
     "output_type": "stream",
     "text": [
      "0\n",
      "1\n",
      "2\n"
     ]
    }
   ],
   "source": [
    "y_pred = np.zeros((3000,))\n",
    "\n",
    "# kitchen sink\n",
    "alpha_size = 4\n",
    "M = 4*2048\n",
    "\n",
    "kernel_parameters = {}\n",
    "\n",
    "lambda_opt = [0.0441400304414003, 0.052631578947368425, 0.06210526315789474]\n",
    "gamma_opt = [0.9842105263157894, 0.9666666666666667, 0.831578947368421]\n",
    "k_opt = [8, 8, 7]\n",
    "\n",
    "for dataset_index in range(3):\n",
    "    print(dataset_index)\n",
    "    # load DNA strings \n",
    "    data = []\n",
    "    f = open('data/train/Xtr{}.csv'.format(dataset_index), 'r')\n",
    "    data += [line.strip('\\n') for line in f.readlines()]\n",
    "    f.close()\n",
    "\n",
    "    # load target vector \n",
    "    y = (load_y(\"data/train/Ytr{}.csv\".format(dataset_index)))\n",
    "    y = 2*y - 1 # transform y to lie in {-1, 1} instead of {0, 1}\n",
    "    y = np.reshape(y.astype(float), -1) # \n",
    "\n",
    "    X_train, y_train = data, y\n",
    "    \n",
    "    W = gamma_opt[dataset_index]*np.random.randn(M,4*k_opt[dataset_index])\n",
    "    b = (2*np.pi)*np.random.rand(M)\n",
    "\n",
    "    X_train_ = sequence_to_matrix(X_train)\n",
    "\n",
    "    X_lift_train = compute_conv_features(X_train_, W, b, alpha_size = alpha_size)\n",
    "\n",
    "    clf = KernelSVM(lambda_reg = lambda_opt[dataset_index], loss=\"squared_hinge\", kernel = linear, \n",
    "                kernel_parameters = kernel_parameters, data_type='vector', threshold=0, verbose=False)\n",
    "\n",
    "    clf.fit(X_lift_train, y_train)\n",
    "        \n",
    "    f_ = open('data/test/Xte{}.csv'.format(dataset_index), 'r')\n",
    "    X_test = [line.strip('\\n') for line in f_.readlines()]\n",
    "    f_.close()\n",
    "    \n",
    "    X_test_ = sequence_to_matrix(X_test)\n",
    "    \n",
    "    X_lift_test = compute_conv_features(X_test_, W, b, alpha_size = alpha_size)\n",
    "    \n",
    "    y_pred[1000*dataset_index:1000*(dataset_index+1)] = np.reshape(clf.predict(X_lift_test), (1000,))"
   ]
  },
  {
   "cell_type": "code",
   "execution_count": 10,
   "metadata": {
    "collapsed": true
   },
   "outputs": [],
   "source": [
    "y_pred = (y_pred+1)/2 # to have y in 0 and 1\n",
    "df = pd.DataFrame(y_pred, columns=['Bound'])\n",
    "df.index.name = 'Id'\n",
    "df.Bound = df.Bound.astype(int)\n",
    "df.to_csv('submit_full.csv')"
   ]
  },
  {
   "cell_type": "markdown",
   "metadata": {},
   "source": [
    "### k-spectrum"
   ]
  },
  {
   "cell_type": "code",
   "execution_count": 19,
   "metadata": {
    "scrolled": false
   },
   "outputs": [
    {
     "name": "stderr",
     "output_type": "stream",
     "text": [
      "Building kernel matrix: 100%|██████████| 2000/2000 [00:31<00:00, 62.81it/s] \n"
     ]
    },
    {
     "name": "stdout",
     "output_type": "stream",
     "text": [
      "     pcost       dcost       gap    pres   dres\n",
      " 0: -5.0459e+01 -4.5490e+01  5e+03  7e+01  1e-14\n",
      " 1: -4.5703e+01 -3.4125e+01  6e+02  8e+00  1e-14\n",
      " 2: -2.2657e+01 -1.6444e+01  2e+02  2e+00  6e-15\n",
      " 3: -9.5445e+00 -1.1559e+01  3e+01  3e-01  2e-15\n",
      " 4: -5.7943e+00 -9.2809e+00  4e+00  4e-03  9e-16\n",
      " 5: -6.1193e+00 -6.7273e+00  6e-01  6e-04  6e-16\n",
      " 6: -6.2542e+00 -6.3671e+00  1e-01  5e-05  6e-16\n",
      " 7: -6.2928e+00 -6.3026e+00  1e-02  3e-06  6e-16\n",
      " 8: -6.2967e+00 -6.2971e+00  3e-04  8e-08  7e-16\n",
      " 9: -6.2969e+00 -6.2969e+00  1e-05  2e-09  6e-16\n",
      "10: -6.2969e+00 -6.2969e+00  3e-07  2e-11  7e-16\n",
      "Optimal solution found.\n",
      "[   0    1    2 ... 1996 1997 1999]\n"
     ]
    },
    {
     "name": "stderr",
     "output_type": "stream",
     "text": [
      "Predicting values:   0%|          | 1/1000 [00:00<01:48,  9.18it/s]"
     ]
    },
    {
     "name": "stdout",
     "output_type": "stream",
     "text": [
      "Numbers of support vectors : 1915\n"
     ]
    },
    {
     "name": "stderr",
     "output_type": "stream",
     "text": [
      "Predicting values: 100%|██████████| 1000/1000 [01:51<00:00,  9.01it/s]\n",
      "Building kernel matrix: 100%|██████████| 2000/2000 [00:30<00:00, 65.91it/s] \n"
     ]
    },
    {
     "name": "stdout",
     "output_type": "stream",
     "text": [
      "     pcost       dcost       gap    pres   dres\n",
      " 0: -2.8829e+01 -4.0671e+01  5e+03  7e+01  6e-15\n",
      " 1: -2.7091e+01 -3.5225e+01  5e+02  6e+00  6e-15\n",
      " 2: -1.5188e+01 -2.6530e+01  1e+02  1e+00  4e-15\n",
      " 3: -9.3484e+00 -2.4162e+01  4e+01  3e-01  2e-15\n",
      " 4: -8.1452e+00 -1.5392e+01  9e+00  2e-02  1e-15\n",
      " 5: -8.7394e+00 -9.9694e+00  1e+00  4e-03  1e-15\n",
      " 6: -9.0512e+00 -9.2459e+00  2e-01  4e-04  1e-15\n",
      " 7: -9.1109e+00 -9.1304e+00  2e-02  3e-05  1e-15\n",
      " 8: -9.1175e+00 -9.1191e+00  2e-03  1e-06  1e-15\n",
      " 9: -9.1181e+00 -9.1181e+00  6e-05  3e-08  1e-15\n",
      "10: -9.1181e+00 -9.1181e+00  2e-06  4e-10  1e-15\n",
      "Optimal solution found.\n",
      "[   0    2    5 ... 1997 1998 1999]\n"
     ]
    },
    {
     "name": "stderr",
     "output_type": "stream",
     "text": [
      "Predicting values:   0%|          | 1/1000 [00:00<01:44,  9.59it/s]"
     ]
    },
    {
     "name": "stdout",
     "output_type": "stream",
     "text": [
      "Numbers of support vectors : 1207\n"
     ]
    },
    {
     "name": "stderr",
     "output_type": "stream",
     "text": [
      "Predicting values: 100%|██████████| 1000/1000 [01:48<00:00,  9.22it/s]\n",
      "Building kernel matrix: 100%|██████████| 2000/2000 [00:40<00:00, 49.08it/s] \n"
     ]
    },
    {
     "name": "stdout",
     "output_type": "stream",
     "text": [
      "     pcost       dcost       gap    pres   dres\n",
      " 0: -2.9430e+03 -3.5752e+01  4e+04  2e+02  2e-12\n",
      " 1: -1.0559e+02 -3.3006e+01  1e+03  6e+00  2e-12\n",
      " 2: -1.2367e+01 -2.9323e+01  6e+01  2e-01  1e-13\n",
      " 3: -9.4820e+00 -1.7739e+01  8e+00  4e-17  8e-15\n",
      " 4: -1.0591e+01 -1.2302e+01  2e+00  3e-17  7e-15\n",
      " 5: -1.1076e+01 -1.1465e+01  4e-01  3e-17  7e-15\n",
      " 6: -1.1192e+01 -1.1290e+01  1e-01  3e-17  7e-15\n",
      " 7: -1.1225e+01 -1.1245e+01  2e-02  3e-17  8e-15\n",
      " 8: -1.1232e+01 -1.1235e+01  3e-03  3e-17  8e-15\n",
      " 9: -1.1234e+01 -1.1234e+01  1e-04  3e-17  8e-15\n",
      "10: -1.1234e+01 -1.1234e+01  2e-06  3e-17  8e-15\n",
      "Optimal solution found.\n",
      "[   0    1    2 ... 1996 1998 1999]\n"
     ]
    },
    {
     "name": "stderr",
     "output_type": "stream",
     "text": [
      "Predicting values:   0%|          | 1/1000 [00:00<01:50,  9.08it/s]"
     ]
    },
    {
     "name": "stdout",
     "output_type": "stream",
     "text": [
      "Numbers of support vectors : 1636\n"
     ]
    },
    {
     "name": "stderr",
     "output_type": "stream",
     "text": [
      "Predicting values: 100%|██████████| 1000/1000 [01:51<00:00,  8.97it/s]\n"
     ]
    }
   ],
   "source": [
    "y_pred = np.zeros((3000,))\n",
    "\n",
    "# k-spectrum\n",
    "#lambda_opt=[0.12,0.035,0.066]\n",
    "#kernel_parameters_opt=[{'k':6}, {'k':6}, {'k':4}]\n",
    "\n",
    "\n",
    "for dataset_index in range(3):\n",
    "    # load DNA strings \n",
    "    data = []\n",
    "    f = open('data/train/Xtr{}.csv'.format(dataset_index), 'r')\n",
    "    data += [line.strip('\\n') for line in f.readlines()]\n",
    "    f.close()\n",
    "\n",
    "    # load target vector \n",
    "    y = (load_y(\"data/train/Ytr{}.csv\".format(dataset_index)))\n",
    "    y = 2*y - 1 # transform y to lie in {-1, 1} instead of {0, 1}\n",
    "    y = np.reshape(y.astype(float), -1) # \n",
    "\n",
    "    X_train, y_train, X_test, y_test = data, y, data[1500:], y[1500:]\n",
    "    \n",
    "    lambda_reg=lambda_opt[dataset_index]\n",
    "    kernel_parameters=kernel_parameters_opt[dataset_index]\n",
    "\n",
    "    SVM = KernelSVM(lambda_reg = lambda_reg, kernel = spectrum_kernel, \n",
    "                    kernel_parameters = kernel_parameters, data_type='string')\n",
    "    \n",
    "    SVM.fit(X_train, y_train)\n",
    "    #y_loc = SVM.pred(X_test)\n",
    "    #print(sum(y_test == y_loc)/len(y_test))\n",
    "    \n",
    "    #SVM.load('SVM_opt{}.npy'.format(i), 'Xtrain_{}.npy'.format(i) )\n",
    "    \n",
    "    \n",
    "    f_ = open('data/test/Xte{}.csv'.format(dataset_index), 'r')\n",
    "    X = [line.strip('\\n') for line in f_.readlines()]\n",
    "    f_.close()\n",
    "\n",
    "    y_pred[1000*dataset_index:1000*(dataset_index+1)] = np.reshape(SVM.pred(X), (1000,))"
   ]
  }
 ],
 "metadata": {
  "kernelspec": {
   "display_name": "Python 3",
   "language": "python",
   "name": "python3"
  },
  "language_info": {
   "codemirror_mode": {
    "name": "ipython",
    "version": 3
   },
   "file_extension": ".py",
   "mimetype": "text/x-python",
   "name": "python",
   "nbconvert_exporter": "python",
   "pygments_lexer": "ipython3",
   "version": "3.5.2"
  }
 },
 "nbformat": 4,
 "nbformat_minor": 2
}
