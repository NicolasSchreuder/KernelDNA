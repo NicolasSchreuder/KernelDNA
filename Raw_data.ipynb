{
 "cells": [
  {
   "cell_type": "markdown",
   "metadata": {
    "collapsed": true
   },
   "source": [
    "# Raw DNA strings"
   ]
  },
  {
   "cell_type": "markdown",
   "metadata": {},
   "source": [
    "In this notebook we train SVM on string data (DNA strings)."
   ]
  },
  {
   "cell_type": "code",
   "execution_count": 1,
   "metadata": {
    "collapsed": true
   },
   "outputs": [],
   "source": [
    "from kernel import spectrum_kernel, build_spectrum_kernel_matrix\n",
    "\n",
    "from KernelSVM import KernelSVM\n",
    "\n",
    "import numpy as np\n",
    "\n",
    "from processing import train_test_split, load_y\n",
    "\n",
    "import pandas as pd"
   ]
  },
  {
   "cell_type": "markdown",
   "metadata": {},
   "source": [
    "# Load and pre-process data"
   ]
  },
  {
   "cell_type": "code",
   "execution_count": 2,
   "metadata": {
    "scrolled": true
   },
   "outputs": [
    {
     "name": "stdout",
     "output_type": "stream",
     "text": [
      "First DNA string : \n"
     ]
    },
    {
     "data": {
      "text/plain": [
       "'TCCTCAACTTTTATTGGGCCGCTGTGGCACCAGAATCTACGAATGGCGCCCTCTAGAGTTGTGTAAAGAAGTGGCGTCACCTCATTATAAATAAAAGGTTG'"
      ]
     },
     "execution_count": 2,
     "metadata": {},
     "output_type": "execute_result"
    }
   ],
   "source": [
    "data = []\n",
    "\n",
    "dataset_index = '0'\n",
    "\n",
    "# load DNA strings \n",
    "f = open('data/train/Xtr{}.csv'.format(dataset_index), 'r')\n",
    "data += [line.strip('\\n') for line in f.readlines()]\n",
    "f.close()\n",
    "\n",
    "# load target vector \n",
    "y = (load_y(\"data/train/Ytr{}.csv\".format(dataset_index)))\n",
    "y = 2*y - 1 # transform y to lie in {-1, 1} instead of {0, 1}\n",
    "y = np.reshape(y.astype(float), -1) # \n",
    "\n",
    "print('First DNA string : ')\n",
    "data[0]"
   ]
  },
  {
   "cell_type": "code",
   "execution_count": 3,
   "metadata": {
    "collapsed": true
   },
   "outputs": [],
   "source": [
    "X_train, y_train, X_test, y_test = data[:100], y[:100], data[100:200], y[100:200]\n",
    "#X_train, y_train, X_test, y_test = X_train[:75], y_train[:75], X_test[:25], y_test[:25]"
   ]
  },
  {
   "cell_type": "markdown",
   "metadata": {},
   "source": [
    "# Train"
   ]
  },
  {
   "cell_type": "code",
   "execution_count": 5,
   "metadata": {},
   "outputs": [
    {
     "name": "stderr",
     "output_type": "stream",
     "text": [
      "Building kernel matrix: 100%|██████████| 100/100 [00:08<00:00, 11.21it/s]\n"
     ]
    },
    {
     "name": "stdout",
     "output_type": "stream",
     "text": [
      "(array([ 3.36922963e+04,  3.40331543e+03,  2.69886866e+03,  1.87424163e+03,\n",
      "        1.28179657e+03,  1.14134353e+03,  1.12283431e+03,  1.06235988e+03,\n",
      "        9.97391362e+02,  9.47823985e+02,  8.87249590e+02,  8.14851518e+02,\n",
      "        7.39511446e+02,  7.03675541e+02,  6.77087944e+02,  6.30053355e+02,\n",
      "        5.97531870e+02,  5.73425967e+02,  5.45092027e+02,  5.06285844e+02,\n",
      "        4.85677323e+02, -3.34733315e+02,  4.51283473e+02,  4.12485205e+02,\n",
      "        4.05545912e+02, -3.22925539e+02,  3.79803154e+02,  3.77850310e+02,\n",
      "       -3.08883390e+02, -2.82099422e+02,  3.43073696e+02,  3.29683932e+02,\n",
      "       -2.52832911e+02,  3.08468588e+02,  3.04296286e+02, -2.43750893e+02,\n",
      "       -2.38403437e+02,  2.86470511e+02,  2.59808820e+02, -2.18158053e+02,\n",
      "       -2.16011628e+02, -2.05838215e+02,  2.57188253e+02,  2.39219576e+02,\n",
      "       -1.97539451e+02, -1.86139253e+02, -1.72301936e+02,  2.19249960e+02,\n",
      "        2.11752792e+02,  2.09635674e+02,  1.93570881e+02, -1.65318460e+02,\n",
      "        1.83712372e+02, -1.67122444e+02, -1.53017421e+02,  1.72827376e+02,\n",
      "       -1.39853697e+02,  1.63749306e+02, -1.33322300e+02,  1.47146210e+02,\n",
      "       -1.28144875e+02, -1.08081287e+02,  1.42131742e+02,  1.36938367e+02,\n",
      "        1.27962724e+02,  1.17808479e+02, -1.02473166e+02, -9.74491598e+01,\n",
      "        1.04053818e+02,  1.07589144e+02,  9.55591971e+01,  8.99435964e+01,\n",
      "       -8.82846377e+01, -8.47632669e+01, -8.17732164e+01,  7.95881062e+01,\n",
      "        7.35714273e+01, -7.34339973e+01, -7.02860119e+01, -6.02361312e+01,\n",
      "       -5.61849867e+01,  5.46366611e+01,  4.89791041e+01, -4.90180213e+01,\n",
      "        4.33737469e+01,  6.81490245e+01,  1.24072729e+01,  9.29741758e+00,\n",
      "        3.03414398e+01, -1.87915801e+00, -3.14517428e+01, -2.57093723e+01,\n",
      "        3.74708963e+01, -1.86603325e+01, -2.26601097e+01, -1.04243134e+01,\n",
      "        3.30998679e+01,  1.85210782e+00, -6.61184961e+01, -3.50064958e+01]), array([[ 0.09723846, -0.03943572, -0.07776335, ..., -0.00974188,\n",
      "         0.00132199, -0.00301661],\n",
      "       [ 0.09701816, -0.01080674, -0.05537464, ...,  0.06576583,\n",
      "        -0.03164918,  0.10297702],\n",
      "       [ 0.1017623 ,  0.10186525, -0.04610689, ..., -0.02071363,\n",
      "        -0.17945332,  0.02341186],\n",
      "       ...,\n",
      "       [ 0.09628903, -0.01880705,  0.07665858, ..., -0.08419721,\n",
      "         0.0089873 , -0.12215737],\n",
      "       [ 0.10272671,  0.06242858, -0.05519728, ..., -0.26132497,\n",
      "         0.03407451, -0.15418546],\n",
      "       [ 0.09282048, -0.00333274, -0.03522525, ..., -0.16550105,\n",
      "        -0.05696539,  0.14023571]]))\n"
     ]
    },
    {
     "ename": "ValueError",
     "evalue": "Rank(A) < p or Rank([P; A; G]) < n",
     "output_type": "error",
     "traceback": [
      "\u001b[0;31m---------------------------------------------------------------------------\u001b[0m",
      "\u001b[0;31mArithmeticError\u001b[0m                           Traceback (most recent call last)",
      "\u001b[0;32m/Users/Schreuder/anaconda/lib/python3.5/site-packages/cvxopt/misc.py\u001b[0m in \u001b[0;36mfactor\u001b[0;34m(W, H, Df)\u001b[0m\n\u001b[1;32m   1428\u001b[0m                 \u001b[0;32mif\u001b[0m \u001b[0mtype\u001b[0m\u001b[0;34m(\u001b[0m\u001b[0mF\u001b[0m\u001b[0;34m[\u001b[0m\u001b[0;34m'S'\u001b[0m\u001b[0;34m]\u001b[0m\u001b[0;34m)\u001b[0m \u001b[0;32mis\u001b[0m \u001b[0mmatrix\u001b[0m\u001b[0;34m:\u001b[0m\u001b[0;34m\u001b[0m\u001b[0m\n\u001b[0;32m-> 1429\u001b[0;31m                     \u001b[0mlapack\u001b[0m\u001b[0;34m.\u001b[0m\u001b[0mpotrf\u001b[0m\u001b[0;34m(\u001b[0m\u001b[0mF\u001b[0m\u001b[0;34m[\u001b[0m\u001b[0;34m'S'\u001b[0m\u001b[0;34m]\u001b[0m\u001b[0;34m)\u001b[0m\u001b[0;34m\u001b[0m\u001b[0m\n\u001b[0m\u001b[1;32m   1430\u001b[0m                 \u001b[0;32melse\u001b[0m\u001b[0;34m:\u001b[0m\u001b[0;34m\u001b[0m\u001b[0m\n",
      "\u001b[0;31mArithmeticError\u001b[0m: 12",
      "\nDuring handling of the above exception, another exception occurred:\n",
      "\u001b[0;31mArithmeticError\u001b[0m                           Traceback (most recent call last)",
      "\u001b[0;32m/Users/Schreuder/anaconda/lib/python3.5/site-packages/cvxopt/coneprog.py\u001b[0m in \u001b[0;36mconeqp\u001b[0;34m(P, q, G, h, dims, A, b, initvals, kktsolver, xnewcopy, xdot, xaxpy, xscal, ynewcopy, ydot, yaxpy, yscal, **kwargs)\u001b[0m\n\u001b[1;32m   2064\u001b[0m         \u001b[0;32mfor\u001b[0m \u001b[0mrti\u001b[0m \u001b[0;32min\u001b[0m \u001b[0mW\u001b[0m\u001b[0;34m[\u001b[0m\u001b[0;34m'rti'\u001b[0m\u001b[0;34m]\u001b[0m\u001b[0;34m:\u001b[0m \u001b[0mrti\u001b[0m\u001b[0;34m[\u001b[0m\u001b[0;34m:\u001b[0m\u001b[0;34m:\u001b[0m\u001b[0mrti\u001b[0m\u001b[0;34m.\u001b[0m\u001b[0msize\u001b[0m\u001b[0;34m[\u001b[0m\u001b[0;36m0\u001b[0m\u001b[0;34m]\u001b[0m\u001b[0;34m+\u001b[0m\u001b[0;36m1\u001b[0m \u001b[0;34m]\u001b[0m \u001b[0;34m=\u001b[0m \u001b[0;36m1.0\u001b[0m\u001b[0;34m\u001b[0m\u001b[0m\n\u001b[0;32m-> 2065\u001b[0;31m         \u001b[0;32mtry\u001b[0m\u001b[0;34m:\u001b[0m \u001b[0mf\u001b[0m \u001b[0;34m=\u001b[0m \u001b[0mkktsolver\u001b[0m\u001b[0;34m(\u001b[0m\u001b[0mW\u001b[0m\u001b[0;34m)\u001b[0m\u001b[0;34m\u001b[0m\u001b[0m\n\u001b[0m\u001b[1;32m   2066\u001b[0m         \u001b[0;32mexcept\u001b[0m \u001b[0mArithmeticError\u001b[0m\u001b[0;34m:\u001b[0m\u001b[0;34m\u001b[0m\u001b[0m\n",
      "\u001b[0;32m/Users/Schreuder/anaconda/lib/python3.5/site-packages/cvxopt/coneprog.py\u001b[0m in \u001b[0;36mkktsolver\u001b[0;34m(W)\u001b[0m\n\u001b[1;32m   1980\u001b[0m          \u001b[0;32mdef\u001b[0m \u001b[0mkktsolver\u001b[0m\u001b[0;34m(\u001b[0m\u001b[0mW\u001b[0m\u001b[0;34m)\u001b[0m\u001b[0;34m:\u001b[0m\u001b[0;34m\u001b[0m\u001b[0m\n\u001b[0;32m-> 1981\u001b[0;31m              \u001b[0;32mreturn\u001b[0m \u001b[0mfactor\u001b[0m\u001b[0;34m(\u001b[0m\u001b[0mW\u001b[0m\u001b[0;34m,\u001b[0m \u001b[0mP\u001b[0m\u001b[0;34m)\u001b[0m\u001b[0;34m\u001b[0m\u001b[0m\n\u001b[0m\u001b[1;32m   1982\u001b[0m \u001b[0;34m\u001b[0m\u001b[0m\n",
      "\u001b[0;32m/Users/Schreuder/anaconda/lib/python3.5/site-packages/cvxopt/misc.py\u001b[0m in \u001b[0;36mfactor\u001b[0;34m(W, H, Df)\u001b[0m\n\u001b[1;32m   1443\u001b[0m                 \u001b[0;32mif\u001b[0m \u001b[0mtype\u001b[0m\u001b[0;34m(\u001b[0m\u001b[0mF\u001b[0m\u001b[0;34m[\u001b[0m\u001b[0;34m'S'\u001b[0m\u001b[0;34m]\u001b[0m\u001b[0;34m)\u001b[0m \u001b[0;32mis\u001b[0m \u001b[0mmatrix\u001b[0m\u001b[0;34m:\u001b[0m\u001b[0;34m\u001b[0m\u001b[0m\n\u001b[0;32m-> 1444\u001b[0;31m                     \u001b[0mlapack\u001b[0m\u001b[0;34m.\u001b[0m\u001b[0mpotrf\u001b[0m\u001b[0;34m(\u001b[0m\u001b[0mF\u001b[0m\u001b[0;34m[\u001b[0m\u001b[0;34m'S'\u001b[0m\u001b[0;34m]\u001b[0m\u001b[0;34m)\u001b[0m\u001b[0;34m\u001b[0m\u001b[0m\n\u001b[0m\u001b[1;32m   1445\u001b[0m                 \u001b[0;32melse\u001b[0m\u001b[0;34m:\u001b[0m\u001b[0;34m\u001b[0m\u001b[0m\n",
      "\u001b[0;31mArithmeticError\u001b[0m: 12",
      "\nDuring handling of the above exception, another exception occurred:\n",
      "\u001b[0;31mValueError\u001b[0m                                Traceback (most recent call last)",
      "\u001b[0;32m<ipython-input-5-40172ba725b7>\u001b[0m in \u001b[0;36m<module>\u001b[0;34m()\u001b[0m\n\u001b[1;32m      7\u001b[0m \u001b[0;34m\u001b[0m\u001b[0m\n\u001b[1;32m      8\u001b[0m \u001b[0;31m# train svm\u001b[0m\u001b[0;34m\u001b[0m\u001b[0;34m\u001b[0m\u001b[0m\n\u001b[0;32m----> 9\u001b[0;31m \u001b[0msvm\u001b[0m\u001b[0;34m.\u001b[0m\u001b[0mfit\u001b[0m\u001b[0;34m(\u001b[0m\u001b[0mX_train\u001b[0m\u001b[0;34m,\u001b[0m \u001b[0my_train\u001b[0m\u001b[0;34m)\u001b[0m\u001b[0;34m\u001b[0m\u001b[0m\n\u001b[0m\u001b[1;32m     10\u001b[0m \u001b[0;34m\u001b[0m\u001b[0m\n\u001b[1;32m     11\u001b[0m \u001b[0my_pred\u001b[0m \u001b[0;34m=\u001b[0m \u001b[0msvm\u001b[0m\u001b[0;34m.\u001b[0m\u001b[0mpred\u001b[0m\u001b[0;34m(\u001b[0m\u001b[0mX_test\u001b[0m\u001b[0;34m)\u001b[0m\u001b[0;34m\u001b[0m\u001b[0m\n",
      "\u001b[0;32m/Users/Schreuder/Google Drive/Cours/MVA/S2/Machine Learning with Kernel Methods/KernelDNA/KernelSVM.py\u001b[0m in \u001b[0;36mfit\u001b[0;34m(self, X, y)\u001b[0m\n\u001b[1;32m     81\u001b[0m \u001b[0;34m\u001b[0m\u001b[0m\n\u001b[1;32m     82\u001b[0m         \u001b[0;31m# Find solution using cvxopt\u001b[0m\u001b[0;34m\u001b[0m\u001b[0;34m\u001b[0m\u001b[0m\n\u001b[0;32m---> 83\u001b[0;31m         \u001b[0msol\u001b[0m \u001b[0;34m=\u001b[0m \u001b[0msolvers\u001b[0m\u001b[0;34m.\u001b[0m\u001b[0mqp\u001b[0m\u001b[0;34m(\u001b[0m\u001b[0mP\u001b[0m\u001b[0;34m=\u001b[0m\u001b[0mP_solver\u001b[0m\u001b[0;34m,\u001b[0m \u001b[0mq\u001b[0m\u001b[0;34m=\u001b[0m\u001b[0mq_solver\u001b[0m\u001b[0;34m,\u001b[0m \u001b[0mG\u001b[0m\u001b[0;34m=\u001b[0m\u001b[0mG_solver\u001b[0m\u001b[0;34m,\u001b[0m \u001b[0mh\u001b[0m\u001b[0;34m=\u001b[0m\u001b[0mh_solver\u001b[0m\u001b[0;34m)\u001b[0m\u001b[0;34m\u001b[0m\u001b[0m\n\u001b[0m\u001b[1;32m     84\u001b[0m         \u001b[0malpha\u001b[0m \u001b[0;34m=\u001b[0m \u001b[0mnp\u001b[0m\u001b[0;34m.\u001b[0m\u001b[0marray\u001b[0m\u001b[0;34m(\u001b[0m\u001b[0msol\u001b[0m\u001b[0;34m[\u001b[0m\u001b[0;34m'x'\u001b[0m\u001b[0;34m]\u001b[0m\u001b[0;34m)\u001b[0m\u001b[0;34m\u001b[0m\u001b[0m\n\u001b[1;32m     85\u001b[0m         \u001b[0mself\u001b[0m\u001b[0;34m.\u001b[0m\u001b[0malpha_old\u001b[0m \u001b[0;34m=\u001b[0m \u001b[0malpha\u001b[0m\u001b[0;34m\u001b[0m\u001b[0m\n",
      "\u001b[0;32m/Users/Schreuder/anaconda/lib/python3.5/site-packages/cvxopt/coneprog.py\u001b[0m in \u001b[0;36mqp\u001b[0;34m(P, q, G, h, A, b, solver, kktsolver, initvals, **kwargs)\u001b[0m\n\u001b[1;32m   4468\u001b[0m             'residual as dual infeasibility certificate': dinfres} \n\u001b[1;32m   4469\u001b[0m \u001b[0;34m\u001b[0m\u001b[0m\n\u001b[0;32m-> 4470\u001b[0;31m     \u001b[0;32mreturn\u001b[0m \u001b[0mconeqp\u001b[0m\u001b[0;34m(\u001b[0m\u001b[0mP\u001b[0m\u001b[0;34m,\u001b[0m \u001b[0mq\u001b[0m\u001b[0;34m,\u001b[0m \u001b[0mG\u001b[0m\u001b[0;34m,\u001b[0m \u001b[0mh\u001b[0m\u001b[0;34m,\u001b[0m \u001b[0;32mNone\u001b[0m\u001b[0;34m,\u001b[0m \u001b[0mA\u001b[0m\u001b[0;34m,\u001b[0m  \u001b[0mb\u001b[0m\u001b[0;34m,\u001b[0m \u001b[0minitvals\u001b[0m\u001b[0;34m,\u001b[0m \u001b[0mkktsolver\u001b[0m \u001b[0;34m=\u001b[0m \u001b[0mkktsolver\u001b[0m\u001b[0;34m,\u001b[0m \u001b[0moptions\u001b[0m \u001b[0;34m=\u001b[0m \u001b[0moptions\u001b[0m\u001b[0;34m)\u001b[0m\u001b[0;34m\u001b[0m\u001b[0m\n\u001b[0m",
      "\u001b[0;32m/Users/Schreuder/anaconda/lib/python3.5/site-packages/cvxopt/coneprog.py\u001b[0m in \u001b[0;36mconeqp\u001b[0;34m(P, q, G, h, dims, A, b, initvals, kktsolver, xnewcopy, xdot, xaxpy, xscal, ynewcopy, ydot, yaxpy, yscal, **kwargs)\u001b[0m\n\u001b[1;32m   2065\u001b[0m         \u001b[0;32mtry\u001b[0m\u001b[0;34m:\u001b[0m \u001b[0mf\u001b[0m \u001b[0;34m=\u001b[0m \u001b[0mkktsolver\u001b[0m\u001b[0;34m(\u001b[0m\u001b[0mW\u001b[0m\u001b[0;34m)\u001b[0m\u001b[0;34m\u001b[0m\u001b[0m\n\u001b[1;32m   2066\u001b[0m         \u001b[0;32mexcept\u001b[0m \u001b[0mArithmeticError\u001b[0m\u001b[0;34m:\u001b[0m\u001b[0;34m\u001b[0m\u001b[0m\n\u001b[0;32m-> 2067\u001b[0;31m             \u001b[0;32mraise\u001b[0m \u001b[0mValueError\u001b[0m\u001b[0;34m(\u001b[0m\u001b[0;34m\"Rank(A) < p or Rank([P; A; G]) < n\"\u001b[0m\u001b[0;34m)\u001b[0m\u001b[0;34m\u001b[0m\u001b[0m\n\u001b[0m\u001b[1;32m   2068\u001b[0m \u001b[0;34m\u001b[0m\u001b[0m\n\u001b[1;32m   2069\u001b[0m \u001b[0;34m\u001b[0m\u001b[0m\n",
      "\u001b[0;31mValueError\u001b[0m: Rank(A) < p or Rank([P; A; G]) < n"
     ]
    }
   ],
   "source": [
    "# allow mismatch\n",
    "kernel_parameters = {'k':5, 'm':1}\n",
    "\n",
    "lambda_reg = 0.12\n",
    "svm = KernelSVM(lambda_reg = lambda_reg, kernel = spectrum_kernel, \n",
    "                kernel_parameters = kernel_parameters, data_type='string', threshold=0)\n",
    "\n",
    "# train svm\n",
    "svm.fit(X_train, y_train)\n",
    "\n",
    "y_pred = svm.pred(X_test)\n",
    "\n",
    "print('Score : ')\n",
    "score = sum(y_test == y_pred)/len(y_test)\n",
    "print(\"lambda :\", lambda_reg, \" \", \"score:\",score)"
   ]
  },
  {
   "cell_type": "code",
   "execution_count": 18,
   "metadata": {},
   "outputs": [
    {
     "name": "stderr",
     "output_type": "stream",
     "text": [
      "Building kernel matrix: 100%|██████████| 2000/2000 [00:31<00:00, 63.29it/s] \n"
     ]
    },
    {
     "name": "stdout",
     "output_type": "stream",
     "text": [
      "     pcost       dcost       gap    pres   dres\n",
      " 0: -5.0459e+01 -4.5490e+01  5e+03  7e+01  1e-14\n",
      " 1: -4.5703e+01 -3.4125e+01  6e+02  8e+00  1e-14\n",
      " 2: -2.2657e+01 -1.6444e+01  2e+02  2e+00  6e-15\n",
      " 3: -9.5445e+00 -1.1559e+01  3e+01  3e-01  2e-15\n",
      " 4: -5.7943e+00 -9.2809e+00  4e+00  4e-03  9e-16\n",
      " 5: -6.1193e+00 -6.7273e+00  6e-01  6e-04  6e-16\n",
      " 6: -6.2542e+00 -6.3671e+00  1e-01  5e-05  6e-16\n",
      " 7: -6.2928e+00 -6.3026e+00  1e-02  3e-06  6e-16\n",
      " 8: -6.2967e+00 -6.2971e+00  3e-04  8e-08  7e-16\n",
      " 9: -6.2969e+00 -6.2969e+00  1e-05  2e-09  6e-16\n",
      "10: -6.2969e+00 -6.2969e+00  3e-07  2e-11  7e-16\n",
      "Optimal solution found.\n",
      "[   0    1    2 ... 1997 1998 1999]\n"
     ]
    },
    {
     "name": "stderr",
     "output_type": "stream",
     "text": [
      "Predicting values:   0%|          | 1/500 [00:00<00:53,  9.39it/s]"
     ]
    },
    {
     "name": "stdout",
     "output_type": "stream",
     "text": [
      "Numbers of support vectors : 2000\n"
     ]
    },
    {
     "name": "stderr",
     "output_type": "stream",
     "text": [
      "Predicting values: 100%|██████████| 500/500 [00:56<00:00,  8.81it/s]"
     ]
    },
    {
     "name": "stdout",
     "output_type": "stream",
     "text": [
      "lambda : 0.12   score: 0.9\n"
     ]
    },
    {
     "name": "stderr",
     "output_type": "stream",
     "text": [
      "\n"
     ]
    }
   ],
   "source": [
    "# allow mismatch\n",
    "kernel_parameters = {'k':6}\n",
    "#kernel_parameters = {'k':5}\n",
    "for lambda_reg in[0.12]:\n",
    "    #lambda_reg = 0.12\n",
    "    svm = KernelSVM(lambda_reg = lambda_reg, kernel = spectrum_kernel, \n",
    "                    kernel_parameters = kernel_parameters, data_type='string', threshold=0)\n",
    "\n",
    "    # train svm\n",
    "    svm.fit(X_train, y_train)\n",
    "\n",
    "    y_pred = svm.pred(X_test)\n",
    "\n",
    "    #print('Score : ')\n",
    "    score = sum(y_test == y_pred)/len(y_test)\n",
    "    print(\"lambda :\", lambda_reg, \" \", \"score:\",score)"
   ]
  },
  {
   "cell_type": "code",
   "execution_count": 14,
   "metadata": {},
   "outputs": [
    {
     "data": {
      "text/plain": [
       "array([[105.,  10.,  14., ...,   5.,   8.,   8.],\n",
       "       [ 10., 113.,  15., ...,   6.,   3.,  18.],\n",
       "       [ 14.,  15., 115., ...,  16.,   5.,  20.],\n",
       "       ...,\n",
       "       [  5.,   6.,  16., ..., 111.,  11.,  18.],\n",
       "       [  8.,   3.,   5., ...,  11., 113.,  15.],\n",
       "       [  8.,  18.,  20., ...,  18.,  15., 103.]])"
      ]
     },
     "execution_count": 14,
     "metadata": {},
     "output_type": "execute_result"
    }
   ],
   "source": [
    "K_good = svm.K\n",
    "K_good"
   ]
  },
  {
   "cell_type": "code",
   "execution_count": 7,
   "metadata": {},
   "outputs": [
    {
     "data": {
      "text/plain": [
       "array([[105.,  10.,  14., ...,   5.,   8.,   8.],\n",
       "       [ 10., 113.,  15., ...,   6.,   3.,  18.],\n",
       "       [ 14.,  15., 115., ...,  16.,   5.,  20.],\n",
       "       ...,\n",
       "       [  5.,   6.,  16., ..., 111.,  11.,  18.],\n",
       "       [  8.,   3.,   5., ...,  11., 113.,  15.],\n",
       "       [  8.,  18.,  20., ...,  18.,  15., 103.]])"
      ]
     },
     "execution_count": 7,
     "metadata": {},
     "output_type": "execute_result"
    }
   ],
   "source": [
    "K_bad = svm.K\n",
    "K_bad"
   ]
  },
  {
   "cell_type": "code",
   "execution_count": 5,
   "metadata": {},
   "outputs": [
    {
     "name": "stderr",
     "output_type": "stream",
     "text": [
      "ERROR:root:Line magic function `%svm.fit` not found.\n"
     ]
    }
   ],
   "source": [
    "%svm.fit(X_train, y_train)"
   ]
  },
  {
   "cell_type": "code",
   "execution_count": 81,
   "metadata": {
    "scrolled": true
   },
   "outputs": [
    {
     "name": "stderr",
     "output_type": "stream",
     "text": [
      "Building kernel matrix: 100%|██████████| 1500/1500 [00:19<00:00, 75.99it/s] \n"
     ]
    },
    {
     "name": "stdout",
     "output_type": "stream",
     "text": [
      "     pcost       dcost       gap    pres   dres\n",
      " 0: -2.5774e+01 -3.0306e+01  4e+03  6e+01  5e-15\n",
      " 1: -2.5149e+01 -2.6832e+01  3e+02  5e+00  5e-15\n",
      " 2: -1.6123e+01 -1.7304e+01  9e+01  1e+00  4e-15\n",
      " 3: -8.4431e+00 -1.4228e+01  2e+01  1e-01  2e-15\n",
      " 4: -7.5947e+00 -1.0041e+01  3e+00  1e-02  8e-16\n",
      " 5: -7.8488e+00 -8.2831e+00  5e-01  2e-03  8e-16\n",
      " 6: -7.9639e+00 -8.0170e+00  6e-02  1e-04  9e-16\n",
      " 7: -7.9828e+00 -7.9870e+00  4e-03  8e-06  8e-16\n",
      " 8: -7.9845e+00 -7.9846e+00  2e-04  2e-07  9e-16\n"
     ]
    },
    {
     "name": "stderr",
     "output_type": "stream",
     "text": [
      "Predicting values:   0%|          | 1/500 [00:00<00:51,  9.77it/s]"
     ]
    },
    {
     "name": "stdout",
     "output_type": "stream",
     "text": [
      " 9: -7.9845e+00 -7.9845e+00  7e-06  3e-09  9e-16\n",
      "Optimal solution found.\n"
     ]
    },
    {
     "name": "stderr",
     "output_type": "stream",
     "text": [
      "Predicting values: 100%|██████████| 500/500 [00:40<00:00, 12.46it/s]\n",
      "Building kernel matrix: 100%|██████████| 1500/1500 [00:16<00:00, 91.95it/s] \n"
     ]
    },
    {
     "name": "stdout",
     "output_type": "stream",
     "text": [
      "     pcost       dcost       gap    pres   dres\n",
      " 0: -2.5773e+01 -2.8899e+01  4e+03  6e+01  5e-15\n",
      " 1: -2.5142e+01 -2.5374e+01  3e+02  5e+00  5e-15\n",
      " 2: -1.5927e+01 -1.5273e+01  9e+01  1e+00  3e-15\n",
      " 3: -7.8542e+00 -1.2062e+01  2e+01  1e-01  2e-15\n",
      " 4: -6.5868e+00 -8.9192e+00  3e+00  1e-02  9e-16\n",
      " 5: -6.7690e+00 -7.1725e+00  5e-01  2e-03  7e-16\n",
      " 6: -6.8753e+00 -6.9264e+00  5e-02  1e-04  7e-16\n",
      " 7: -6.8937e+00 -6.8976e+00  4e-03  9e-06  7e-16\n",
      " 8: -6.8953e+00 -6.8954e+00  1e-04  2e-07  7e-16\n"
     ]
    },
    {
     "name": "stderr",
     "output_type": "stream",
     "text": [
      "Predicting values:   0%|          | 2/500 [00:00<00:38, 13.06it/s]"
     ]
    },
    {
     "name": "stdout",
     "output_type": "stream",
     "text": [
      " 9: -6.8954e+00 -6.8954e+00  5e-06  3e-09  7e-16\n",
      "Optimal solution found.\n"
     ]
    },
    {
     "name": "stderr",
     "output_type": "stream",
     "text": [
      "Predicting values: 100%|██████████| 500/500 [00:36<00:00, 13.58it/s]\n",
      "Building kernel matrix: 100%|██████████| 1500/1500 [00:15<00:00, 94.68it/s] \n"
     ]
    },
    {
     "name": "stdout",
     "output_type": "stream",
     "text": [
      "     pcost       dcost       gap    pres   dres\n",
      " 0: -2.5772e+01 -2.7961e+01  4e+03  6e+01  5e-15\n",
      " 1: -2.5137e+01 -2.4398e+01  3e+02  5e+00  5e-15\n",
      " 2: -1.5794e+01 -1.3893e+01  9e+01  1e+00  3e-15\n",
      " 3: -7.4372e+00 -1.0514e+01  2e+01  2e-01  2e-15\n",
      " 4: -5.8147e+00 -8.0503e+00  3e+00  1e-02  1e-15\n",
      " 5: -5.9618e+00 -6.3205e+00  4e-01  1e-03  6e-16\n",
      " 6: -6.0628e+00 -6.1127e+00  5e-02  1e-04  7e-16\n",
      " 7: -6.0815e+00 -6.0854e+00  4e-03  8e-06  6e-16\n",
      " 8: -6.0831e+00 -6.0833e+00  2e-04  4e-07  6e-16\n",
      " 9: -6.0832e+00 -6.0832e+00  8e-06  1e-08  6e-16\n"
     ]
    },
    {
     "name": "stderr",
     "output_type": "stream",
     "text": [
      "Predicting values:   0%|          | 2/500 [00:00<00:39, 12.58it/s]"
     ]
    },
    {
     "name": "stdout",
     "output_type": "stream",
     "text": [
      "10: -6.0832e+00 -6.0832e+00  3e-07  1e-10  7e-16\n",
      "Optimal solution found.\n"
     ]
    },
    {
     "name": "stderr",
     "output_type": "stream",
     "text": [
      "Predicting values: 100%|██████████| 500/500 [00:36<00:00, 13.60it/s]\n",
      "Building kernel matrix: 100%|██████████| 1500/1500 [00:16<00:00, 89.77it/s] \n"
     ]
    },
    {
     "name": "stdout",
     "output_type": "stream",
     "text": [
      "     pcost       dcost       gap    pres   dres\n",
      " 0: -2.5772e+01 -2.7290e+01  4e+03  6e+01  5e-15\n",
      " 1: -2.5133e+01 -2.3700e+01  3e+02  5e+00  5e-15\n",
      " 2: -1.5697e+01 -1.2895e+01  9e+01  1e+00  3e-15\n",
      " 3: -7.1888e+00 -9.3637e+00  2e+01  2e-01  2e-15\n",
      " 4: -5.2141e+00 -7.3556e+00  3e+00  1e-02  8e-16\n",
      " 5: -5.3294e+00 -5.6772e+00  4e-01  1e-03  5e-16\n",
      " 6: -5.4253e+00 -5.4824e+00  6e-02  1e-04  5e-16\n",
      " 7: -5.4469e+00 -5.4500e+00  3e-03  5e-06  6e-16\n",
      " 8: -5.4483e+00 -5.4484e+00  1e-04  1e-07  6e-16\n"
     ]
    },
    {
     "name": "stderr",
     "output_type": "stream",
     "text": [
      "Predicting values:   0%|          | 2/500 [00:00<00:39, 12.52it/s]"
     ]
    },
    {
     "name": "stdout",
     "output_type": "stream",
     "text": [
      " 9: -5.4483e+00 -5.4483e+00  4e-06  2e-09  6e-16\n",
      "Optimal solution found.\n"
     ]
    },
    {
     "name": "stderr",
     "output_type": "stream",
     "text": [
      "Predicting values: 100%|██████████| 500/500 [00:37<00:00, 13.50it/s]\n",
      "Building kernel matrix: 100%|██████████| 1500/1500 [00:16<00:00, 92.14it/s] \n"
     ]
    },
    {
     "name": "stdout",
     "output_type": "stream",
     "text": [
      "     pcost       dcost       gap    pres   dres\n",
      " 0: -2.5772e+01 -2.6786e+01  4e+03  6e+01  5e-15\n",
      " 1: -2.5130e+01 -2.3175e+01  3e+02  5e+00  5e-15\n",
      " 2: -1.5624e+01 -1.2139e+01  9e+01  1e+00  3e-15\n",
      " 3: -7.0061e+00 -8.4734e+00  2e+01  2e-01  2e-15\n",
      " 4: -4.7324e+00 -6.7574e+00  3e+00  1e-02  9e-16\n",
      " 5: -4.8227e+00 -5.1225e+00  3e-01  9e-04  5e-16\n",
      " 6: -4.9137e+00 -4.9606e+00  5e-02  1e-04  5e-16\n",
      " 7: -4.9320e+00 -4.9356e+00  4e-03  6e-06  5e-16\n",
      " 8: -4.9336e+00 -4.9337e+00  1e-04  2e-07  5e-16\n"
     ]
    },
    {
     "name": "stderr",
     "output_type": "stream",
     "text": [
      "Predicting values:   0%|          | 2/500 [00:00<00:39, 12.63it/s]"
     ]
    },
    {
     "name": "stdout",
     "output_type": "stream",
     "text": [
      " 9: -4.9336e+00 -4.9336e+00  2e-06  2e-09  5e-16\n",
      "Optimal solution found.\n"
     ]
    },
    {
     "name": "stderr",
     "output_type": "stream",
     "text": [
      "Predicting values: 100%|██████████| 500/500 [00:36<00:00, 13.56it/s]\n"
     ]
    }
   ],
   "source": [
    "#Grid search for parameters\n",
    "\n",
    "kernel_parameters_list = [{'k':3},{'k':5},{'k':6}]\n",
    "#kernel_parameters_list = [{'k':6}]\n",
    "best_score = 0\n",
    "best_param = None\n",
    "\n",
    "for kernel_parameters in kernel_parameters_list:\n",
    "    for lambda_reg in np.linspace(0.08,0.16,5):\n",
    "        \n",
    "\n",
    "        svm = KernelSVM(lambda_reg = lambda_reg, kernel = spectrum_kernel, \n",
    "                        kernel_parameters = kernel_parameters, data_type='string')\n",
    "\n",
    "        # train svm\n",
    "        svm.fit(X_train, y_train)\n",
    "\n",
    "        y_pred = svm.pred(X_test)\n",
    "\n",
    "        #print('Score : ')\n",
    "        #sum(y_test == y_pred)/len(y_test)\n",
    "        score = sum(y_test == y_pred)/len(y_test)\n",
    "        if score > best_score:\n",
    "            best_score=score\n",
    "            best_param = lambda_reg, kernel_parameters"
   ]
  },
  {
   "cell_type": "code",
   "execution_count": 82,
   "metadata": {},
   "outputs": [
    {
     "name": "stdout",
     "output_type": "stream",
     "text": [
      "0.776\n",
      "(0.12, {'k': 6})\n"
     ]
    }
   ],
   "source": [
    "print(best_score)\n",
    "print(best_param)"
   ]
  },
  {
   "cell_type": "markdown",
   "metadata": {},
   "source": [
    "# Submission"
   ]
  },
  {
   "cell_type": "code",
   "execution_count": 19,
   "metadata": {
    "scrolled": false
   },
   "outputs": [
    {
     "name": "stderr",
     "output_type": "stream",
     "text": [
      "Building kernel matrix: 100%|██████████| 2000/2000 [00:31<00:00, 62.81it/s] \n"
     ]
    },
    {
     "name": "stdout",
     "output_type": "stream",
     "text": [
      "     pcost       dcost       gap    pres   dres\n",
      " 0: -5.0459e+01 -4.5490e+01  5e+03  7e+01  1e-14\n",
      " 1: -4.5703e+01 -3.4125e+01  6e+02  8e+00  1e-14\n",
      " 2: -2.2657e+01 -1.6444e+01  2e+02  2e+00  6e-15\n",
      " 3: -9.5445e+00 -1.1559e+01  3e+01  3e-01  2e-15\n",
      " 4: -5.7943e+00 -9.2809e+00  4e+00  4e-03  9e-16\n",
      " 5: -6.1193e+00 -6.7273e+00  6e-01  6e-04  6e-16\n",
      " 6: -6.2542e+00 -6.3671e+00  1e-01  5e-05  6e-16\n",
      " 7: -6.2928e+00 -6.3026e+00  1e-02  3e-06  6e-16\n",
      " 8: -6.2967e+00 -6.2971e+00  3e-04  8e-08  7e-16\n",
      " 9: -6.2969e+00 -6.2969e+00  1e-05  2e-09  6e-16\n",
      "10: -6.2969e+00 -6.2969e+00  3e-07  2e-11  7e-16\n",
      "Optimal solution found.\n",
      "[   0    1    2 ... 1996 1997 1999]\n"
     ]
    },
    {
     "name": "stderr",
     "output_type": "stream",
     "text": [
      "Predicting values:   0%|          | 1/1000 [00:00<01:48,  9.18it/s]"
     ]
    },
    {
     "name": "stdout",
     "output_type": "stream",
     "text": [
      "Numbers of support vectors : 1915\n"
     ]
    },
    {
     "name": "stderr",
     "output_type": "stream",
     "text": [
      "Predicting values: 100%|██████████| 1000/1000 [01:51<00:00,  9.01it/s]\n",
      "Building kernel matrix: 100%|██████████| 2000/2000 [00:30<00:00, 65.91it/s] \n"
     ]
    },
    {
     "name": "stdout",
     "output_type": "stream",
     "text": [
      "     pcost       dcost       gap    pres   dres\n",
      " 0: -2.8829e+01 -4.0671e+01  5e+03  7e+01  6e-15\n",
      " 1: -2.7091e+01 -3.5225e+01  5e+02  6e+00  6e-15\n",
      " 2: -1.5188e+01 -2.6530e+01  1e+02  1e+00  4e-15\n",
      " 3: -9.3484e+00 -2.4162e+01  4e+01  3e-01  2e-15\n",
      " 4: -8.1452e+00 -1.5392e+01  9e+00  2e-02  1e-15\n",
      " 5: -8.7394e+00 -9.9694e+00  1e+00  4e-03  1e-15\n",
      " 6: -9.0512e+00 -9.2459e+00  2e-01  4e-04  1e-15\n",
      " 7: -9.1109e+00 -9.1304e+00  2e-02  3e-05  1e-15\n",
      " 8: -9.1175e+00 -9.1191e+00  2e-03  1e-06  1e-15\n",
      " 9: -9.1181e+00 -9.1181e+00  6e-05  3e-08  1e-15\n",
      "10: -9.1181e+00 -9.1181e+00  2e-06  4e-10  1e-15\n",
      "Optimal solution found.\n",
      "[   0    2    5 ... 1997 1998 1999]\n"
     ]
    },
    {
     "name": "stderr",
     "output_type": "stream",
     "text": [
      "Predicting values:   0%|          | 1/1000 [00:00<01:44,  9.59it/s]"
     ]
    },
    {
     "name": "stdout",
     "output_type": "stream",
     "text": [
      "Numbers of support vectors : 1207\n"
     ]
    },
    {
     "name": "stderr",
     "output_type": "stream",
     "text": [
      "Predicting values: 100%|██████████| 1000/1000 [01:48<00:00,  9.22it/s]\n",
      "Building kernel matrix: 100%|██████████| 2000/2000 [00:40<00:00, 49.08it/s] \n"
     ]
    },
    {
     "name": "stdout",
     "output_type": "stream",
     "text": [
      "     pcost       dcost       gap    pres   dres\n",
      " 0: -2.9430e+03 -3.5752e+01  4e+04  2e+02  2e-12\n",
      " 1: -1.0559e+02 -3.3006e+01  1e+03  6e+00  2e-12\n",
      " 2: -1.2367e+01 -2.9323e+01  6e+01  2e-01  1e-13\n",
      " 3: -9.4820e+00 -1.7739e+01  8e+00  4e-17  8e-15\n",
      " 4: -1.0591e+01 -1.2302e+01  2e+00  3e-17  7e-15\n",
      " 5: -1.1076e+01 -1.1465e+01  4e-01  3e-17  7e-15\n",
      " 6: -1.1192e+01 -1.1290e+01  1e-01  3e-17  7e-15\n",
      " 7: -1.1225e+01 -1.1245e+01  2e-02  3e-17  8e-15\n",
      " 8: -1.1232e+01 -1.1235e+01  3e-03  3e-17  8e-15\n",
      " 9: -1.1234e+01 -1.1234e+01  1e-04  3e-17  8e-15\n",
      "10: -1.1234e+01 -1.1234e+01  2e-06  3e-17  8e-15\n",
      "Optimal solution found.\n",
      "[   0    1    2 ... 1996 1998 1999]\n"
     ]
    },
    {
     "name": "stderr",
     "output_type": "stream",
     "text": [
      "Predicting values:   0%|          | 1/1000 [00:00<01:50,  9.08it/s]"
     ]
    },
    {
     "name": "stdout",
     "output_type": "stream",
     "text": [
      "Numbers of support vectors : 1636\n"
     ]
    },
    {
     "name": "stderr",
     "output_type": "stream",
     "text": [
      "Predicting values: 100%|██████████| 1000/1000 [01:51<00:00,  8.97it/s]\n"
     ]
    }
   ],
   "source": [
    "y_pred = np.zeros((3000,))\n",
    "\n",
    "lambda_opt=[0.12,0.035,0.066]\n",
    "kernel_parameters_opt=[{'k':6}, {'k':6}, {'k':4}]\n",
    "\n",
    "for dataset_index in range(3):\n",
    "    # load DNA strings \n",
    "    data = []\n",
    "    f = open('data/train/Xtr{}.csv'.format(dataset_index), 'r')\n",
    "    data += [line.strip('\\n') for line in f.readlines()]\n",
    "    f.close()\n",
    "\n",
    "    # load target vector \n",
    "    y = (load_y(\"data/train/Ytr{}.csv\".format(dataset_index)))\n",
    "    y = 2*y - 1 # transform y to lie in {-1, 1} instead of {0, 1}\n",
    "    y = np.reshape(y.astype(float), -1) # \n",
    "\n",
    "    X_train, y_train, X_test, y_test = data, y, data[1500:], y[1500:]\n",
    "    \n",
    "    lambda_reg=lambda_opt[dataset_index]\n",
    "    kernel_parameters=kernel_parameters_opt[dataset_index]\n",
    "\n",
    "    SVM = KernelSVM(lambda_reg = lambda_reg, kernel = spectrum_kernel, \n",
    "                    kernel_parameters = kernel_parameters, data_type='string')\n",
    "    \n",
    "    SVM.fit(X_train, y_train)\n",
    "    #y_loc = SVM.pred(X_test)\n",
    "    #print(sum(y_test == y_loc)/len(y_test))\n",
    "    \n",
    "    #SVM.load('SVM_opt{}.npy'.format(i), 'Xtrain_{}.npy'.format(i) )\n",
    "    \n",
    "    \n",
    "    f_ = open('data/test/Xte{}.csv'.format(dataset_index), 'r')\n",
    "    X = [line.strip('\\n') for line in f_.readlines()]\n",
    "    f_.close()\n",
    "\n",
    "    y_pred[1000*dataset_index:1000*(dataset_index+1)] = np.reshape(SVM.pred(X), (1000,))"
   ]
  },
  {
   "cell_type": "code",
   "execution_count": 20,
   "metadata": {
    "collapsed": true
   },
   "outputs": [],
   "source": [
    "y_pred = (y_pred+1)/2 # to have y in 0 and 1\n",
    "df = pd.DataFrame(y_pred, columns=['Bound'])\n",
    "df.index.name = 'Id'\n",
    "df.Bound = df.Bound.astype(int)\n",
    "df.to_csv('submit_full.csv')"
   ]
  }
 ],
 "metadata": {
  "kernelspec": {
   "display_name": "Python 3",
   "language": "python",
   "name": "python3"
  },
  "language_info": {
   "codemirror_mode": {
    "name": "ipython",
    "version": 3
   },
   "file_extension": ".py",
   "mimetype": "text/x-python",
   "name": "python",
   "nbconvert_exporter": "python",
   "pygments_lexer": "ipython3",
   "version": "3.5.3"
  }
 },
 "nbformat": 4,
 "nbformat_minor": 2
}
