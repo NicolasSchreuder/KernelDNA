{
 "cells": [
  {
   "cell_type": "markdown",
   "metadata": {},
   "source": [
    "# Linear SVM"
   ]
  },
  {
   "cell_type": "markdown",
   "metadata": {},
   "source": [
    "We test the linear SVM class we implemented."
   ]
  },
  {
   "cell_type": "code",
   "execution_count": 1,
   "metadata": {},
   "outputs": [
    {
     "name": "stdout",
     "output_type": "stream",
     "text": [
      "Populating the interactive namespace from numpy and matplotlib\n"
     ]
    }
   ],
   "source": [
    "import matplotlib.pyplot as plt\n",
    "%pylab inline\n",
    "\n",
    "from sklearn.model_selection import train_test_split\n",
    "\n",
    "import numpy as np\n",
    "\n",
    "from SVM import SVM\n",
    "\n",
    "from KernelSVM import KernelSVM"
   ]
  },
  {
   "cell_type": "code",
   "execution_count": 1,
   "metadata": {},
   "outputs": [
    {
     "ename": "NameError",
     "evalue": "name 'np' is not defined",
     "output_type": "error",
     "traceback": [
      "\u001b[0;31m---------------------------------------------------------------------------\u001b[0m",
      "\u001b[0;31mNameError\u001b[0m                                 Traceback (most recent call last)",
      "\u001b[0;32m<ipython-input-1-e1a50451323e>\u001b[0m in \u001b[0;36m<module>\u001b[0;34m()\u001b[0m\n\u001b[1;32m      3\u001b[0m \u001b[0mn_samples\u001b[0m \u001b[0;34m=\u001b[0m \u001b[0;36m50\u001b[0m\u001b[0;34m\u001b[0m\u001b[0m\n\u001b[1;32m      4\u001b[0m \u001b[0;34m\u001b[0m\u001b[0m\n\u001b[0;32m----> 5\u001b[0;31m \u001b[0mblob1\u001b[0m \u001b[0;34m=\u001b[0m \u001b[0mnp\u001b[0m\u001b[0;34m.\u001b[0m\u001b[0mrandom\u001b[0m\u001b[0;34m.\u001b[0m\u001b[0mmultivariate_normal\u001b[0m\u001b[0;34m(\u001b[0m\u001b[0;34m[\u001b[0m\u001b[0;36m10\u001b[0m\u001b[0;34m,\u001b[0m\u001b[0;36m0\u001b[0m\u001b[0;34m]\u001b[0m\u001b[0;34m,\u001b[0m \u001b[0;36m0.05\u001b[0m\u001b[0;34m*\u001b[0m\u001b[0mnp\u001b[0m\u001b[0;34m.\u001b[0m\u001b[0meye\u001b[0m\u001b[0;34m(\u001b[0m\u001b[0;36m2\u001b[0m\u001b[0;34m)\u001b[0m\u001b[0;34m,\u001b[0m \u001b[0mn_samples\u001b[0m\u001b[0;34m)\u001b[0m\u001b[0;34m\u001b[0m\u001b[0m\n\u001b[0m\u001b[1;32m      6\u001b[0m \u001b[0mblob2\u001b[0m \u001b[0;34m=\u001b[0m \u001b[0mnp\u001b[0m\u001b[0;34m.\u001b[0m\u001b[0mrandom\u001b[0m\u001b[0;34m.\u001b[0m\u001b[0mmultivariate_normal\u001b[0m\u001b[0;34m(\u001b[0m\u001b[0;34m[\u001b[0m\u001b[0;36m12\u001b[0m\u001b[0;34m,\u001b[0m\u001b[0;36m0\u001b[0m\u001b[0;34m]\u001b[0m\u001b[0;34m,\u001b[0m \u001b[0;36m0.05\u001b[0m\u001b[0;34m*\u001b[0m\u001b[0mnp\u001b[0m\u001b[0;34m.\u001b[0m\u001b[0meye\u001b[0m\u001b[0;34m(\u001b[0m\u001b[0;36m2\u001b[0m\u001b[0;34m)\u001b[0m\u001b[0;34m,\u001b[0m \u001b[0mn_samples\u001b[0m\u001b[0;34m)\u001b[0m\u001b[0;34m\u001b[0m\u001b[0m\n\u001b[1;32m      7\u001b[0m \u001b[0mx_m\u001b[0m \u001b[0;34m=\u001b[0m \u001b[0mnp\u001b[0m\u001b[0;34m.\u001b[0m\u001b[0marray\u001b[0m\u001b[0;34m(\u001b[0m\u001b[0;34m[\u001b[0m\u001b[0;36m10\u001b[0m\u001b[0;34m,\u001b[0m\u001b[0;36m0\u001b[0m\u001b[0;34m]\u001b[0m\u001b[0;34m)\u001b[0m\u001b[0;34m.\u001b[0m\u001b[0mreshape\u001b[0m\u001b[0;34m(\u001b[0m\u001b[0;34m(\u001b[0m\u001b[0;36m1\u001b[0m\u001b[0;34m,\u001b[0m\u001b[0;36m2\u001b[0m\u001b[0;34m)\u001b[0m\u001b[0;34m)\u001b[0m\u001b[0;34m\u001b[0m\u001b[0m\n",
      "\u001b[0;31mNameError\u001b[0m: name 'np' is not defined"
     ]
    }
   ],
   "source": [
    "#test KernelSVM() with offset vs old (without)\n",
    "\n",
    "n_samples = 50\n",
    "\n",
    "blob1 = np.random.multivariate_normal([10,0], 0.05*np.eye(2), n_samples)\n",
    "blob2 = np.random.multivariate_normal([12,0], 0.05*np.eye(2), n_samples)\n",
    "x_m = np.array([10,0]).reshape((1,2))\n",
    "x_p = np.array([12,0]).reshape((1,2))\n",
    "X = np.concatenate((blob1, x_m, x_p, blob2))\n",
    "y = np.concatenate((-np.ones(n_samples+1), np.ones(n_samples+1)))\n",
    "\n",
    "\n",
    "plt.scatter(X[:,0], X[:,1], c=y)\n",
    "plt.title(\"2 Gaussian blobs\")\n",
    "\n",
    "# Train/test split, 20% test\n",
    "X_train, X_test, y_train, y_test = train_test_split(X, y, \n",
    "                                                    test_size=0, random_state=42)\n",
    "\n",
    "\n",
    "linear_kernel = lambda x, y: np.dot(x.T, y)\n",
    "\n",
    "lambda_reg = 0.1\n",
    "pd_kernel = linear_kernel\n",
    "kernel_parameters={}\n",
    "\n",
    "SVM_ = KernelSVM(lambda_reg,pd_kernel,kernel_parameters,threshold=-1, verbose=2)\n",
    "SVM_.fit(X_train, y_train)\n",
    "y_pred = SVM_.predict(X_train)\n",
    "y_pred_old = SVM_.pred(X_train)\n",
    "\n",
    "score = sum(y_pred==y_train)/len(y_train)\n",
    "print(score)\n",
    "score_old = sum(y_pred_old==y_train)/len(y_train)\n",
    "print(score_old)\n",
    "\n",
    "w_new = SVM_.get_w()\n",
    "print(w_new)"
   ]
  },
  {
   "cell_type": "code",
   "execution_count": 20,
   "metadata": {},
   "outputs": [
    {
     "name": "stdout",
     "output_type": "stream",
     "text": [
      "-0.042386985573519165\n",
      "[-0.04238698]\n"
     ]
    },
    {
     "data": {
      "text/plain": [
       "<function print>"
      ]
     },
     "execution_count": 20,
     "metadata": {},
     "output_type": "execute_result"
    }
   ],
   "source": [
    "b=-0.92380495\n",
    "print(np.dot(w_new,x_m.flatten())+b)\n",
    "print(SVM_.project(x_m))\n",
    "print"
   ]
  },
  {
   "cell_type": "code",
   "execution_count": 22,
   "metadata": {},
   "outputs": [
    {
     "data": {
      "image/png": "[encoded data removed]",
      "text/plain": [
       "<matplotlib.figure.Figure at 0x7fbff1450940>"
      ]
     },
     "metadata": {},
     "output_type": "display_data"
    }
   ],
   "source": [
    "# Data generation\n",
    "n_samples = 50\n",
    "\n",
    "blob1 = np.random.multivariate_normal([10,0], 0.2*np.eye(2), n_samples)\n",
    "blob2 = np.random.multivariate_normal([20,0], 0.07*np.eye(2), n_samples)\n",
    "\n",
    "X = np.concatenate((blob1, blob2))\n",
    "X = np.concatenate((X, np.ones((n_samples*2,1))), axis=1) # to account for offset\n",
    "y = np.concatenate((np.ones(n_samples), -np.ones(n_samples)))\n",
    "\n",
    "plt.scatter(X[:,0], X[:,1], c=y)\n",
    "plt.title(\"2 Gaussian blobs\")\n",
    "\n",
    "X_train, X_test, y_train, y_test = train_test_split(X, y, \n",
    "                                                    test_size=0.20, random_state=42)\n",
    "\n",
    "\n",
    "linear_kernel = lambda x, y: np.dot(x.T, y)\n"
   ]
  },
  {
   "cell_type": "code",
   "execution_count": 3,
   "metadata": {},
   "outputs": [],
   "source": [
    "# Train/test split, 20% test\n",
    "X_train, X_test, y_train, y_test = train_test_split(X, y, \n",
    "                                                    test_size=0.20, random_state=42)"
   ]
  },
  {
   "cell_type": "code",
   "execution_count": 4,
   "metadata": {},
   "outputs": [],
   "source": [
    "classif = SVM(tau=0.01)"
   ]
  },
  {
   "cell_type": "code",
   "execution_count": 5,
   "metadata": {},
   "outputs": [],
   "source": [
    "classif.fit(X_train, y_train)"
   ]
  },
  {
   "cell_type": "code",
   "execution_count": 6,
   "metadata": {},
   "outputs": [],
   "source": [
    "w_opt = classif.get_weights()"
   ]
  },
  {
   "cell_type": "code",
   "execution_count": 7,
   "metadata": {},
   "outputs": [
    {
     "data": {
      "text/plain": [
       "Text(0.5,1,'SVM hyperplan vizualization')"
      ]
     },
     "execution_count": 7,
     "metadata": {},
     "output_type": "execute_result"
    },
    {
     "data": {
      "image/png": "[encoded data removed]",
      "text/plain": [
       "<matplotlib.figure.Figure at 0x7f68ad2e6f98>"
      ]
     },
     "metadata": {},
     "output_type": "display_data"
    }
   ],
   "source": [
    "plt.scatter(X[:,0], X[:,1], c=y)\n",
    "\n",
    "plt.plot(np.linspace(-5,5, 10), [-(w_opt[0]*x + w_opt[2])/w_opt[1] \n",
    "                                 for x in np.linspace(-5,5,10)])\n",
    "plt.xlim(-1 ,2)\n",
    "plt.ylim(-2, 2)\n",
    "plt.title('SVM hyperplan vizualization')"
   ]
  },
  {
   "cell_type": "code",
   "execution_count": 8,
   "metadata": {},
   "outputs": [
    {
     "data": {
      "text/plain": [
       "(100, 3)"
      ]
     },
     "execution_count": 8,
     "metadata": {},
     "output_type": "execute_result"
    }
   ],
   "source": [
    "X.shape"
   ]
  },
  {
   "cell_type": "markdown",
   "metadata": {},
   "source": [
    "# Kernel SVM"
   ]
  },
  {
   "cell_type": "markdown",
   "metadata": {},
   "source": [
    "- Should we include an offset for the kernel SVM ?"
   ]
  },
  {
   "cell_type": "code",
   "execution_count": 8,
   "metadata": {},
   "outputs": [],
   "source": [
    "from cvxopt import matrix\n",
    "from cvxopt import solvers"
   ]
  },
  {
   "cell_type": "markdown",
   "metadata": {},
   "source": [
    "SVM dual problem (slide 155) :\n",
    "\n",
    "\\begin{align}\n",
    "\\max_{\\alpha \\in \\mathbb{R}^n} 2 \\alpha^T y - \\alpha^T K \\alpha, \\hspace{10pt} s.t. \\hspace{10pt} 0 \\leq y_i \\alpha_i \\leq \\frac{1}{2\\lambda n}\n",
    "\\end{align}\n",
    "\n",
    "Equivalent to :\n",
    "\n",
    "\\begin{align}\n",
    "\\min_{\\alpha \\in \\mathbb{R}^n} \\alpha^T K \\alpha - 2 \\alpha^T y , \\hspace{10pt} s.t. \\hspace{10pt} 0 \\leq y_i \\alpha_i \\leq \\frac{1}{2\\lambda n}\n",
    "\\end{align}\n",
    "\n",
    "CVXOPT solves QP of the form :\n",
    "\n",
    "\\begin{align}\n",
    "\\min \\frac{1}{2} x^T P x + q^T x \\hspace{10pt} s.t. \\hspace{10pt} Gx \\leq h, Ax=b\n",
    "\\end{align}"
   ]
  },
  {
   "cell_type": "markdown",
   "metadata": {},
   "source": [
    "SVM dual problem can be written as a generic QP with :\n",
    "\\begin{align}\n",
    "P = 2K\\\\\n",
    "q = -2y \\\\\n",
    "G = \\begin{pmatrix}diag(y)  \\\\ -diag(y) \\end{pmatrix} \\in \\mathbb{R}^{2n \\times n}\\\\\n",
    "h = \\frac{1}{2\\lambda n} \\begin{pmatrix} 1_n  \\\\ 0_n \\end{pmatrix}\n",
    "\\end{align}\n"
   ]
  },
  {
   "cell_type": "code",
   "execution_count": 2,
   "metadata": {},
   "outputs": [],
   "source": [
    "from kernel import build_kernel_matrix, build_kernel_vector"
   ]
  },
  {
   "cell_type": "code",
   "execution_count": 3,
   "metadata": {},
   "outputs": [],
   "source": [
    "linear_kernel = lambda x, y: np.dot(x.T, y)"
   ]
  },
  {
   "cell_type": "code",
   "execution_count": 4,
   "metadata": {},
   "outputs": [],
   "source": [
    "polynomial_kernel = lambda x,y : np.dot(x.T, y)**2"
   ]
  },
  {
   "cell_type": "code",
   "execution_count": 5,
   "metadata": {},
   "outputs": [],
   "source": [
    "rbf_kernel = lambda x, y : np.exp(-5*np.linalg.norm(x-y, 2)**2)"
   ]
  },
  {
   "cell_type": "code",
   "execution_count": 6,
   "metadata": {},
   "outputs": [
    {
     "data": {
      "text/plain": [
       "<matplotlib.collections.PathCollection at 0x7fbff18fc630>"
      ]
     },
     "execution_count": 6,
     "metadata": {},
     "output_type": "execute_result"
    },
    {
     "data": {
      "image/png": "[encoded data removed]",
      "text/plain": [
       "<matplotlib.figure.Figure at 0x7fbff3bbc978>"
      ]
     },
     "metadata": {},
     "output_type": "display_data"
    }
   ],
   "source": [
    "# http://scikit-learn.org/stable/modules/generated/sklearn.datasets.make_circles.html#sklearn-datasets-make-circles\n",
    "from sklearn.datasets import make_circles\n",
    "\n",
    "X, y = make_circles(n_samples=500, shuffle=True, noise=0.1, random_state=None, factor=0.01)\n",
    "#X += np.array((2000,4000))\n",
    "y = 2*y - np.ones(500) # to have either y=1 or y=-1\n",
    "\n",
    "reds = y==-1\n",
    "blues = y==1\n",
    "plt.scatter(X[reds, 0], X[reds,1], color='r', edgecolor='k')\n",
    "plt.scatter(X[blues, 0], X[blues,1], color='blue', edgecolor='k')"
   ]
  },
  {
   "cell_type": "code",
   "execution_count": 7,
   "metadata": {},
   "outputs": [],
   "source": [
    "X_train, X_test, y_train, y_test = train_test_split(X, y, \n",
    "                                                    test_size=0.20, random_state=42)"
   ]
  },
  {
   "cell_type": "code",
   "execution_count": 8,
   "metadata": {},
   "outputs": [
    {
     "name": "stdout",
     "output_type": "stream",
     "text": [
      "-0.010031501153770774\n",
      "(400,)\n"
     ]
    }
   ],
   "source": [
    "X_train.shape\n",
    "print(X_train[:,1].mean())\n",
    "print(y_train.shape)"
   ]
  },
  {
   "cell_type": "code",
   "execution_count": 9,
   "metadata": {},
   "outputs": [],
   "source": [
    "pd_kernel = rbf_kernel\n",
    "kernel_parameters = {}\n",
    "lambda_reg = 0.1\n"
   ]
  },
  {
   "cell_type": "code",
   "execution_count": 17,
   "metadata": {},
   "outputs": [
    {
     "name": "stdout",
     "output_type": "stream",
     "text": [
      "numbers of support vectors : 299\n",
      "bias: [-0.86892255]\n"
     ]
    }
   ],
   "source": [
    "SVM_ = KernelSVM(lambda_reg,pd_kernel,kernel_parameters,threshold=0.01, verbose=2)\n",
    "SVM_.fit(X_train, y_train)\n",
    "y_pred = SVM_.predict(X_test)\n",
    "y_pred_nob = SVM_.predict_nob(X_test)\n",
    "y_pred_old = SVM_.pred(X_test)"
   ]
  },
  {
   "cell_type": "code",
   "execution_count": 18,
   "metadata": {},
   "outputs": [
    {
     "name": "stdout",
     "output_type": "stream",
     "text": [
      "0.98\n",
      "0.49\n",
      "1.0\n"
     ]
    }
   ],
   "source": [
    "score = sum(y_pred==y_test)/len(y_test)\n",
    "print(score)\n",
    "score_nob = sum(y_pred_nob==y_test)/len(y_test)\n",
    "print(score_nob)\n",
    "score_old = sum(y_pred_old==y_test)/len(y_test)\n",
    "print(score_old)"
   ]
  },
  {
   "cell_type": "code",
   "execution_count": 34,
   "metadata": {},
   "outputs": [
    {
     "name": "stdout",
     "output_type": "stream",
     "text": [
      "(400, 400) (400,) (800, 400) (800,)\n"
     ]
    }
   ],
   "source": [
    "# linear kernel matrix\n",
    "K = build_kernel_matrix(X_train, pd_kernel,kernel_parameters)\n",
    "\n",
    "n = K.shape[0]\n",
    "lambda_reg = 10 # regularization parameter\n",
    "\n",
    "# D-SVM to generic QP\n",
    "P = 2*K\n",
    "q = -2*y_train\n",
    "G = np.concatenate([np.diag(y_train), -np.diag(y_train)], axis=0)\n",
    "h = np.concatenate([np.ones(n), np.zeros(n)])/(2*lambda_reg*n)\n",
    "\n",
    "# Converts matrices and vectors to the right format for cvxopt solver\n",
    "# cf http://cvxopt.org/userguide/coneprog.html for solver's doc\n",
    "P_solver, q_solver = matrix(P), matrix(q)\n",
    "G_solver, h_solver = matrix(G), matrix(h)\n",
    "\n",
    "print(P.shape, q.shape, G.shape, h.shape)        \n",
    "sol = solvers.qp(P=P_solver, q=q_solver, G=G_solver, h=h_solver)\n",
    "alpha = np.array(sol['x'])"
   ]
  },
  {
   "cell_type": "code",
   "execution_count": 28,
   "metadata": {},
   "outputs": [],
   "source": [
    "y_pred = np.zeros(len(y_test))\n",
    "for i in range(len(y_test)):\n",
    "    y_pred[i] = np.sign(np.dot(alpha.T, build_kernel_vector(X_train, X_test[i,:], pd_kernel, kernel_parameters)))"
   ]
  },
  {
   "cell_type": "code",
   "execution_count": 29,
   "metadata": {},
   "outputs": [
    {
     "name": "stdout",
     "output_type": "stream",
     "text": [
      "Prediction score : 100.0\n"
     ]
    }
   ],
   "source": [
    "print('Prediction score : {}'.format(sum(y_pred == y_test)/len(y_test)*100))"
   ]
  },
  {
   "cell_type": "code",
   "execution_count": 222,
   "metadata": {},
   "outputs": [
    {
     "data": {
      "text/plain": [
       "SVC(C=1.0, cache_size=200, class_weight=None, coef0=0.0,\n",
       "  decision_function_shape=None, degree=3, gamma='auto', kernel='rbf',\n",
       "  max_iter=-1, probability=False, random_state=None, shrinking=True,\n",
       "  tol=0.001, verbose=False)"
      ]
     },
     "execution_count": 222,
     "metadata": {},
     "output_type": "execute_result"
    }
   ],
   "source": [
    "from sklearn import svm\n",
    "clf = svm.SVC(kernel='rbf')\n",
    "clf.fit(X_train, y_train)"
   ]
  },
  {
   "cell_type": "code",
   "execution_count": 223,
   "metadata": {},
   "outputs": [
    {
     "data": {
      "text/plain": [
       "100"
      ]
     },
     "execution_count": 223,
     "metadata": {},
     "output_type": "execute_result"
    }
   ],
   "source": [
    "sum(clf.predict(X_test)==y_test)"
   ]
  },
  {
   "cell_type": "code",
   "execution_count": 224,
   "metadata": {},
   "outputs": [
    {
     "data": {
      "text/plain": [
       "array([ 1., -1.,  1., -1.,  1.,  1., -1., -1.,  1.,  1.,  1., -1.,  1.,\n",
       "        1.,  1.,  1., -1., -1., -1., -1., -1., -1., -1.,  1.,  1.,  1.,\n",
       "        1.,  1.,  1.,  1.,  1.,  1., -1.,  1.,  1., -1.,  1., -1., -1.,\n",
       "       -1., -1., -1., -1.,  1., -1.,  1.,  1., -1., -1., -1., -1., -1.,\n",
       "        1., -1., -1., -1.,  1., -1., -1.,  1.,  1.,  1.,  1.,  1., -1.,\n",
       "        1.,  1., -1.,  1., -1., -1.,  1.,  1., -1.,  1.,  1.,  1., -1.,\n",
       "        1.,  1.,  1., -1., -1., -1., -1., -1., -1., -1., -1., -1.,  1.,\n",
       "       -1., -1.,  1., -1.,  1., -1.,  1., -1., -1.])"
      ]
     },
     "execution_count": 224,
     "metadata": {},
     "output_type": "execute_result"
    }
   ],
   "source": [
    "y_pred"
   ]
  },
  {
   "cell_type": "code",
   "execution_count": null,
   "metadata": {
    "collapsed": true
   },
   "outputs": [],
   "source": []
  }
 ],
 "metadata": {
  "kernelspec": {
   "display_name": "Python 3",
   "language": "python",
   "name": "python3"
  },
  "language_info": {
   "codemirror_mode": {
    "name": "ipython",
    "version": 3
   },
   "file_extension": ".py",
   "mimetype": "text/x-python",
   "name": "python",
   "nbconvert_exporter": "python",
   "pygments_lexer": "ipython3",
   "version": "3.5.2"
  }
 },
 "nbformat": 4,
 "nbformat_minor": 2
}
